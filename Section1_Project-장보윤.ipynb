{
  "nbformat": 4,
  "nbformat_minor": 0,
  "metadata": {
    "colab": {
      "name": "Section1_Project",
      "provenance": [],
      "collapsed_sections": []
    },
    "kernelspec": {
      "name": "python3",
      "display_name": "Python 3"
    }
  },
  "cells": [
    {
      "cell_type": "code",
      "metadata": {
        "colab": {
          "resources": {
            "http://localhost:8080/nbextensions/google.colab/files.js": {
              "data": "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",
              "ok": true,
              "headers": [
                [
                  "content-type",
                  "application/javascript"
                ]
              ],
              "status": 200,
              "status_text": ""
            }
          },
          "base_uri": "https://localhost:8080/",
          "height": 76
        },
        "id": "7xanvYFDCDJE",
        "outputId": "86e10d12-62bf-49af-ba13-de9387c5986f"
      },
      "source": [
        "import pandas as pd\r\n",
        "import numpy as np\r\n",
        "\r\n",
        "from google.colab import files\r\n",
        "uploaded = files.upload()"
      ],
      "execution_count": 2,
      "outputs": [
        {
          "output_type": "display_data",
          "data": {
            "text/html": [
              "\n",
              "     <input type=\"file\" id=\"files-c33d2ef4-c06f-48ad-abe9-591a5da7585b\" name=\"files[]\" multiple disabled\n",
              "        style=\"border:none\" />\n",
              "     <output id=\"result-c33d2ef4-c06f-48ad-abe9-591a5da7585b\">\n",
              "      Upload widget is only available when the cell has been executed in the\n",
              "      current browser session. Please rerun this cell to enable.\n",
              "      </output>\n",
              "      <script src=\"/nbextensions/google.colab/files.js\"></script> "
            ],
            "text/plain": [
              "<IPython.core.display.HTML object>"
            ]
          },
          "metadata": {
            "tags": []
          }
        },
        {
          "output_type": "stream",
          "text": [
            "Saving vgames2.csv to vgames2.csv\n"
          ],
          "name": "stdout"
        }
      ]
    },
    {
      "cell_type": "code",
      "metadata": {
        "id": "FXWcX0FSCGcc"
      },
      "source": [
        "import pandas as pd\r\n",
        "import numpy as np\r\n",
        "\r\n",
        "df = pd.read_csv('vgames2.csv')\r\n",
        "df = df.set_index('Unnamed: 0')"
      ],
      "execution_count": 3,
      "outputs": []
    },
    {
      "cell_type": "markdown",
      "metadata": {
        "id": "wcZ3FCNyVH2V"
      },
      "source": [
        "## 데이터 파악하기"
      ]
    },
    {
      "cell_type": "code",
      "metadata": {
        "colab": {
          "base_uri": "https://localhost:8080/"
        },
        "id": "XVZJs-HhNtdn",
        "outputId": "b88d13fc-23f2-435d-a63c-a4623881afef"
      },
      "source": [
        "df.info()\r\n",
        "#결측치가 없는 column: Name, Platform\r\n",
        "#결측치가 있는 column: Year, Genre, Publisher\r\n",
        "#categorical: platform, year, genre, publisher\r\n",
        "#numerical: sales"
      ],
      "execution_count": 4,
      "outputs": [
        {
          "output_type": "stream",
          "text": [
            "<class 'pandas.core.frame.DataFrame'>\n",
            "Int64Index: 16598 entries, 1 to 16598\n",
            "Data columns (total 9 columns):\n",
            " #   Column       Non-Null Count  Dtype  \n",
            "---  ------       --------------  -----  \n",
            " 0   Name         16598 non-null  object \n",
            " 1   Platform     16598 non-null  object \n",
            " 2   Year         16327 non-null  float64\n",
            " 3   Genre        16548 non-null  object \n",
            " 4   Publisher    16540 non-null  object \n",
            " 5   NA_Sales     16598 non-null  object \n",
            " 6   EU_Sales     16598 non-null  object \n",
            " 7   JP_Sales     16598 non-null  object \n",
            " 8   Other_Sales  16598 non-null  object \n",
            "dtypes: float64(1), object(8)\n",
            "memory usage: 1.3+ MB\n"
          ],
          "name": "stdout"
        }
      ]
    },
    {
      "cell_type": "markdown",
      "metadata": {
        "id": "nuQQUL9JwiUE"
      },
      "source": [
        "## 데이터 preprocessing"
      ]
    },
    {
      "cell_type": "code",
      "metadata": {
        "id": "2t3mWg8b1ACw"
      },
      "source": [
        "#매출액 column들에서 K 제거하고 0.001 곱하기 & M 제거한 후 float로 typecast\r\n",
        "df.JP_Sales = df.JP_Sales.apply(lambda x: 0.001*float(x[:-1]) if 'K' in x else x).astype('string')\r\n",
        "df.JP_Sales = df.JP_Sales.str.replace('M', '')\r\n",
        "df['JP_Sales'] = df['JP_Sales'].astype('float')"
      ],
      "execution_count": 5,
      "outputs": []
    },
    {
      "cell_type": "code",
      "metadata": {
        "id": "aXWuwVgoxGp7"
      },
      "source": [
        "df.NA_Sales = df.NA_Sales.apply(lambda x: 0.001*float(x[:-1]) if 'K' in x else x).astype('string')\r\n",
        "df.NA_Sales = df.NA_Sales.str.replace('M', '')\r\n",
        "df['NA_Sales'] = df['NA_Sales'].astype('float')"
      ],
      "execution_count": 6,
      "outputs": []
    },
    {
      "cell_type": "code",
      "metadata": {
        "id": "jm-1VanDmDRL"
      },
      "source": [
        "df.EU_Sales = df.EU_Sales.apply(lambda x: 0.001*float(x[:-1]) if 'K' in x else x).astype('string')\r\n",
        "df.EU_Sales = df.EU_Sales.str.replace('M', '')\r\n",
        "df['EU_Sales'] = df['EU_Sales'].astype('float')"
      ],
      "execution_count": 7,
      "outputs": []
    },
    {
      "cell_type": "code",
      "metadata": {
        "id": "r29DSequmHuB"
      },
      "source": [
        "df.Other_Sales = df.Other_Sales.apply(lambda x: 0.001*float(x[:-1]) if 'K' in x else x).astype('string')\r\n",
        "df.Other_Sales = df.Other_Sales.str.replace('M', '')\r\n",
        "df['Other_Sales'] = df['Other_Sales'].astype('float')"
      ],
      "execution_count": 8,
      "outputs": []
    },
    {
      "cell_type": "code",
      "metadata": {
        "id": "xEksdGj8mL5N",
        "colab": {
          "base_uri": "https://localhost:8080/"
        },
        "outputId": "aad62110-2ac1-4f4e-c1a6-0c5c5e8fb8be"
      },
      "source": [
        "df.dtypes"
      ],
      "execution_count": 9,
      "outputs": [
        {
          "output_type": "execute_result",
          "data": {
            "text/plain": [
              "Name            object\n",
              "Platform        object\n",
              "Year           float64\n",
              "Genre           object\n",
              "Publisher       object\n",
              "NA_Sales       float64\n",
              "EU_Sales       float64\n",
              "JP_Sales       float64\n",
              "Other_Sales    float64\n",
              "dtype: object"
            ]
          },
          "metadata": {
            "tags": []
          },
          "execution_count": 9
        }
      ]
    },
    {
      "cell_type": "code",
      "metadata": {
        "id": "PJc-VIcCp0ve"
      },
      "source": [
        "df['Year'] = df['Year'].fillna(3000).astype(int) #nan는 일단 int로 바꿔야 하니 큰 수로 넣었습니다."
      ],
      "execution_count": 10,
      "outputs": []
    },
    {
      "cell_type": "code",
      "metadata": {
        "id": "p1CoA2qyrhsT"
      },
      "source": [
        "df.Year = df.Year.apply(lambda x: x+2000 if x <= 16 else x)"
      ],
      "execution_count": 11,
      "outputs": []
    },
    {
      "cell_type": "code",
      "metadata": {
        "id": "5LwhZoK6r62L"
      },
      "source": [
        "df.Year = df.Year.apply(lambda x: x+1900 if 86<=x<=98 else x)"
      ],
      "execution_count": 12,
      "outputs": []
    },
    {
      "cell_type": "code",
      "metadata": {
        "colab": {
          "base_uri": "https://localhost:8080/"
        },
        "id": "NFrvzl_nsKwW",
        "outputId": "61c9ddb8-2de6-4cf4-cc03-9e2cb2a931d3"
      },
      "source": [
        "df['Year'].sort_values()  #현재 nan 값들은 3000으로 채워진 상태 ;271개->나중에 Year feature를 쓸 때만 삭제할 예정"
      ],
      "execution_count": 13,
      "outputs": [
        {
          "output_type": "execute_result",
          "data": {
            "text/plain": [
              "Unnamed: 0\n",
              "13134    1980\n",
              "14265    1980\n",
              "5724     1980\n",
              "7318     1980\n",
              "10122    1980\n",
              "         ... \n",
              "4522     3000\n",
              "4512     3000\n",
              "13629    3000\n",
              "12788    3000\n",
              "12617    3000\n",
              "Name: Year, Length: 16598, dtype: int64"
            ]
          },
          "metadata": {
            "tags": []
          },
          "execution_count": 13
        }
      ]
    },
    {
      "cell_type": "code",
      "metadata": {
        "colab": {
          "base_uri": "https://localhost:8080/"
        },
        "id": "_rw-SzMRsp3_",
        "outputId": "eb96f3e3-15a8-4de8-b865-f38f5b90a084"
      },
      "source": [
        "df.dtypes"
      ],
      "execution_count": 14,
      "outputs": [
        {
          "output_type": "execute_result",
          "data": {
            "text/plain": [
              "Name            object\n",
              "Platform        object\n",
              "Year             int64\n",
              "Genre           object\n",
              "Publisher       object\n",
              "NA_Sales       float64\n",
              "EU_Sales       float64\n",
              "JP_Sales       float64\n",
              "Other_Sales    float64\n",
              "dtype: object"
            ]
          },
          "metadata": {
            "tags": []
          },
          "execution_count": 14
        }
      ]
    },
    {
      "cell_type": "code",
      "metadata": {
        "id": "5puZ1d5fwZ4O"
      },
      "source": [
        "#결측치의 비율\r\n",
        "#Year:0.016   16327    ->drop\r\n",
        "#Genre: 0.003          ->drop\r\n",
        "#Publisher 16540 0.004 ->drop\r\n",
        "#Platform \r\n",
        "\r\n",
        "#sales 결측치는 없지만 0의 비율이 높음\r\n",
        "#NA_Sales; 4499/16598   0.27\r\n",
        "#EU_Sales:  5730/16598  0.345\r\n",
        "#JP_Sales: 6143/16598   0.37\r\n",
        "#Other_Sales: 6477/16598 0.39\r\n"
      ],
      "execution_count": 15,
      "outputs": []
    },
    {
      "cell_type": "code",
      "metadata": {
        "colab": {
          "base_uri": "https://localhost:8080/",
          "height": 450
        },
        "id": "Ner2NNx122AK",
        "outputId": "616f251f-b73e-4d7a-912d-18549d47f475"
      },
      "source": [
        "#전체 Sales column 만들기\r\n",
        "df['Total_Sales'] = df['NA_Sales']+df['EU_Sales']+df['JP_Sales']+df['Other_Sales']\r\n",
        "df"
      ],
      "execution_count": 16,
      "outputs": [
        {
          "output_type": "execute_result",
          "data": {
            "text/html": [
              "<div>\n",
              "<style scoped>\n",
              "    .dataframe tbody tr th:only-of-type {\n",
              "        vertical-align: middle;\n",
              "    }\n",
              "\n",
              "    .dataframe tbody tr th {\n",
              "        vertical-align: top;\n",
              "    }\n",
              "\n",
              "    .dataframe thead th {\n",
              "        text-align: right;\n",
              "    }\n",
              "</style>\n",
              "<table border=\"1\" class=\"dataframe\">\n",
              "  <thead>\n",
              "    <tr style=\"text-align: right;\">\n",
              "      <th></th>\n",
              "      <th>Name</th>\n",
              "      <th>Platform</th>\n",
              "      <th>Year</th>\n",
              "      <th>Genre</th>\n",
              "      <th>Publisher</th>\n",
              "      <th>NA_Sales</th>\n",
              "      <th>EU_Sales</th>\n",
              "      <th>JP_Sales</th>\n",
              "      <th>Other_Sales</th>\n",
              "      <th>Total_Sales</th>\n",
              "    </tr>\n",
              "    <tr>\n",
              "      <th>Unnamed: 0</th>\n",
              "      <th></th>\n",
              "      <th></th>\n",
              "      <th></th>\n",
              "      <th></th>\n",
              "      <th></th>\n",
              "      <th></th>\n",
              "      <th></th>\n",
              "      <th></th>\n",
              "      <th></th>\n",
              "      <th></th>\n",
              "    </tr>\n",
              "  </thead>\n",
              "  <tbody>\n",
              "    <tr>\n",
              "      <th>1</th>\n",
              "      <td>Candace Kane's Candy Factory</td>\n",
              "      <td>DS</td>\n",
              "      <td>2008</td>\n",
              "      <td>Action</td>\n",
              "      <td>Destineer</td>\n",
              "      <td>0.04</td>\n",
              "      <td>0.00</td>\n",
              "      <td>0.00</td>\n",
              "      <td>0.00</td>\n",
              "      <td>0.04</td>\n",
              "    </tr>\n",
              "    <tr>\n",
              "      <th>2</th>\n",
              "      <td>The Munchables</td>\n",
              "      <td>Wii</td>\n",
              "      <td>2009</td>\n",
              "      <td>Action</td>\n",
              "      <td>Namco Bandai Games</td>\n",
              "      <td>0.17</td>\n",
              "      <td>0.00</td>\n",
              "      <td>0.00</td>\n",
              "      <td>0.01</td>\n",
              "      <td>0.18</td>\n",
              "    </tr>\n",
              "    <tr>\n",
              "      <th>3</th>\n",
              "      <td>Otome wa Oanesama Boku ni Koi Shiteru Portable</td>\n",
              "      <td>PSP</td>\n",
              "      <td>2010</td>\n",
              "      <td>Adventure</td>\n",
              "      <td>Alchemist</td>\n",
              "      <td>0.00</td>\n",
              "      <td>0.00</td>\n",
              "      <td>0.02</td>\n",
              "      <td>0.00</td>\n",
              "      <td>0.02</td>\n",
              "    </tr>\n",
              "    <tr>\n",
              "      <th>4</th>\n",
              "      <td>Deal or No Deal: Special Edition</td>\n",
              "      <td>DS</td>\n",
              "      <td>2010</td>\n",
              "      <td>Misc</td>\n",
              "      <td>Zoo Games</td>\n",
              "      <td>0.04</td>\n",
              "      <td>0.00</td>\n",
              "      <td>0.00</td>\n",
              "      <td>0.00</td>\n",
              "      <td>0.04</td>\n",
              "    </tr>\n",
              "    <tr>\n",
              "      <th>5</th>\n",
              "      <td>Ben 10 Ultimate Alien: Cosmic Destruction</td>\n",
              "      <td>PS3</td>\n",
              "      <td>2010</td>\n",
              "      <td>Platform</td>\n",
              "      <td>D3Publisher</td>\n",
              "      <td>0.12</td>\n",
              "      <td>0.09</td>\n",
              "      <td>0.00</td>\n",
              "      <td>0.04</td>\n",
              "      <td>0.25</td>\n",
              "    </tr>\n",
              "    <tr>\n",
              "      <th>...</th>\n",
              "      <td>...</td>\n",
              "      <td>...</td>\n",
              "      <td>...</td>\n",
              "      <td>...</td>\n",
              "      <td>...</td>\n",
              "      <td>...</td>\n",
              "      <td>...</td>\n",
              "      <td>...</td>\n",
              "      <td>...</td>\n",
              "      <td>...</td>\n",
              "    </tr>\n",
              "    <tr>\n",
              "      <th>16594</th>\n",
              "      <td>Ice Age 2: The Meltdown</td>\n",
              "      <td>GC</td>\n",
              "      <td>2006</td>\n",
              "      <td>Platform</td>\n",
              "      <td>Vivendi Games</td>\n",
              "      <td>0.15</td>\n",
              "      <td>0.04</td>\n",
              "      <td>0.00</td>\n",
              "      <td>0.01</td>\n",
              "      <td>0.20</td>\n",
              "    </tr>\n",
              "    <tr>\n",
              "      <th>16595</th>\n",
              "      <td>Rainbow Islands: Revolution</td>\n",
              "      <td>PSP</td>\n",
              "      <td>2005</td>\n",
              "      <td>Action</td>\n",
              "      <td>Rising Star Games</td>\n",
              "      <td>0.01</td>\n",
              "      <td>0.00</td>\n",
              "      <td>0.00</td>\n",
              "      <td>0.00</td>\n",
              "      <td>0.01</td>\n",
              "    </tr>\n",
              "    <tr>\n",
              "      <th>16596</th>\n",
              "      <td>NBA 2K16</td>\n",
              "      <td>PS3</td>\n",
              "      <td>2015</td>\n",
              "      <td>Sports</td>\n",
              "      <td>Take-Two Interactive</td>\n",
              "      <td>0.44</td>\n",
              "      <td>0.19</td>\n",
              "      <td>0.03</td>\n",
              "      <td>0.13</td>\n",
              "      <td>0.79</td>\n",
              "    </tr>\n",
              "    <tr>\n",
              "      <th>16597</th>\n",
              "      <td>Toukiden: The Age of Demons</td>\n",
              "      <td>PSV</td>\n",
              "      <td>2013</td>\n",
              "      <td>Action</td>\n",
              "      <td>Tecmo Koei</td>\n",
              "      <td>0.05</td>\n",
              "      <td>0.05</td>\n",
              "      <td>0.25</td>\n",
              "      <td>0.03</td>\n",
              "      <td>0.38</td>\n",
              "    </tr>\n",
              "    <tr>\n",
              "      <th>16598</th>\n",
              "      <td>The King of Fighters '95</td>\n",
              "      <td>PS</td>\n",
              "      <td>1996</td>\n",
              "      <td>Fighting</td>\n",
              "      <td>Sony Computer Entertainment</td>\n",
              "      <td>0.00</td>\n",
              "      <td>0.00</td>\n",
              "      <td>0.16</td>\n",
              "      <td>0.01</td>\n",
              "      <td>0.17</td>\n",
              "    </tr>\n",
              "  </tbody>\n",
              "</table>\n",
              "<p>16598 rows × 10 columns</p>\n",
              "</div>"
            ],
            "text/plain": [
              "                                                      Name  ... Total_Sales\n",
              "Unnamed: 0                                                  ...            \n",
              "1                             Candace Kane's Candy Factory  ...        0.04\n",
              "2                                           The Munchables  ...        0.18\n",
              "3           Otome wa Oanesama Boku ni Koi Shiteru Portable  ...        0.02\n",
              "4                         Deal or No Deal: Special Edition  ...        0.04\n",
              "5                Ben 10 Ultimate Alien: Cosmic Destruction  ...        0.25\n",
              "...                                                    ...  ...         ...\n",
              "16594                              Ice Age 2: The Meltdown  ...        0.20\n",
              "16595                          Rainbow Islands: Revolution  ...        0.01\n",
              "16596                                             NBA 2K16  ...        0.79\n",
              "16597                          Toukiden: The Age of Demons  ...        0.38\n",
              "16598                             The King of Fighters '95  ...        0.17\n",
              "\n",
              "[16598 rows x 10 columns]"
            ]
          },
          "metadata": {
            "tags": []
          },
          "execution_count": 16
        }
      ]
    },
    {
      "cell_type": "code",
      "metadata": {
        "id": "In2t1UafuuAd"
      },
      "source": [
        "#Year 결측치 드랍한 subset\r\n",
        "subset = df.loc[~df['Year'].isin([3000])]"
      ],
      "execution_count": 17,
      "outputs": []
    },
    {
      "cell_type": "markdown",
      "metadata": {
        "id": "lNPLlpWfO7_X"
      },
      "source": [
        "데이터 전처리: 매출액에 있던 수치들을 숫자로 통일했고 플랫폼, 퍼블리셔, 연도, 장르의 결측치들은 비중이 5% 이하였기 때문에 무시하였습니다."
      ]
    },
    {
      "cell_type": "markdown",
      "metadata": {
        "id": "_4_Eb37jsvhs"
      },
      "source": [
        "# 데이터 분석 목표: 다음 분기 매출이 잘 나올 게임 장르, 플랫폼, 타겟 지역 선택하기\r\n",
        "## 1. Top 100 게임 분석\r\n",
        "## 2. 연도별 선호하는 장르의 차이가 있는가?\r\n",
        "## 3. 지역별 장르 선호가 유의미한가? 그렇다면 어떤 지역을 타겟으로 개발해야 할까?\r\n",
        "## 4. 장르별 매출액의 차이는 유의미한가? 유의미하다면 어떤 장르의 게임을 개발해야 할까?\r\n",
        "## 5. 플랫폼별 매출액 차이가 있는가?\r\n"
      ]
    },
    {
      "cell_type": "markdown",
      "metadata": {
        "id": "oaV9JAKQSTsi"
      },
      "source": [
        "# 1. 매출이 높은 게임에 대한 분석\r\n",
        "\r\n",
        "TOP 3 게임들의 간략한 분석과 top 100 게임들의 Platform, Genre, Publisher를 그래프로 확인해본다."
      ]
    },
    {
      "cell_type": "code",
      "metadata": {
        "id": "rCtNouUxv3KG",
        "colab": {
          "base_uri": "https://localhost:8080/",
          "height": 450
        },
        "outputId": "086b0413-55c2-45df-de90-15b92f43699a"
      },
      "source": [
        "top100 = df.sort_values(by='Total_Sales', ascending = False).head(100)\r\n",
        "top100"
      ],
      "execution_count": 20,
      "outputs": [
        {
          "output_type": "execute_result",
          "data": {
            "text/html": [
              "<div>\n",
              "<style scoped>\n",
              "    .dataframe tbody tr th:only-of-type {\n",
              "        vertical-align: middle;\n",
              "    }\n",
              "\n",
              "    .dataframe tbody tr th {\n",
              "        vertical-align: top;\n",
              "    }\n",
              "\n",
              "    .dataframe thead th {\n",
              "        text-align: right;\n",
              "    }\n",
              "</style>\n",
              "<table border=\"1\" class=\"dataframe\">\n",
              "  <thead>\n",
              "    <tr style=\"text-align: right;\">\n",
              "      <th></th>\n",
              "      <th>Name</th>\n",
              "      <th>Platform</th>\n",
              "      <th>Year</th>\n",
              "      <th>Genre</th>\n",
              "      <th>Publisher</th>\n",
              "      <th>NA_Sales</th>\n",
              "      <th>EU_Sales</th>\n",
              "      <th>JP_Sales</th>\n",
              "      <th>Other_Sales</th>\n",
              "      <th>Total_Sales</th>\n",
              "    </tr>\n",
              "    <tr>\n",
              "      <th>Unnamed: 0</th>\n",
              "      <th></th>\n",
              "      <th></th>\n",
              "      <th></th>\n",
              "      <th></th>\n",
              "      <th></th>\n",
              "      <th></th>\n",
              "      <th></th>\n",
              "      <th></th>\n",
              "      <th></th>\n",
              "      <th></th>\n",
              "    </tr>\n",
              "  </thead>\n",
              "  <tbody>\n",
              "    <tr>\n",
              "      <th>2909</th>\n",
              "      <td>Wii Sports</td>\n",
              "      <td>Wii</td>\n",
              "      <td>2006</td>\n",
              "      <td>Sports</td>\n",
              "      <td>Nintendo</td>\n",
              "      <td>41.49</td>\n",
              "      <td>29.02</td>\n",
              "      <td>3.77</td>\n",
              "      <td>8.46</td>\n",
              "      <td>82.74</td>\n",
              "    </tr>\n",
              "    <tr>\n",
              "      <th>4200</th>\n",
              "      <td>Super Mario Bros.</td>\n",
              "      <td>NES</td>\n",
              "      <td>1985</td>\n",
              "      <td>Platform</td>\n",
              "      <td>Nintendo</td>\n",
              "      <td>29.08</td>\n",
              "      <td>3.58</td>\n",
              "      <td>6.81</td>\n",
              "      <td>0.77</td>\n",
              "      <td>40.24</td>\n",
              "    </tr>\n",
              "    <tr>\n",
              "      <th>12580</th>\n",
              "      <td>Mario Kart Wii</td>\n",
              "      <td>Wii</td>\n",
              "      <td>2008</td>\n",
              "      <td>Racing</td>\n",
              "      <td>Nintendo</td>\n",
              "      <td>15.85</td>\n",
              "      <td>12.88</td>\n",
              "      <td>3.79</td>\n",
              "      <td>3.31</td>\n",
              "      <td>35.83</td>\n",
              "    </tr>\n",
              "    <tr>\n",
              "      <th>3353</th>\n",
              "      <td>Wii Sports Resort</td>\n",
              "      <td>Wii</td>\n",
              "      <td>2009</td>\n",
              "      <td>Sports</td>\n",
              "      <td>Nintendo</td>\n",
              "      <td>15.75</td>\n",
              "      <td>11.01</td>\n",
              "      <td>3.28</td>\n",
              "      <td>2.96</td>\n",
              "      <td>33.00</td>\n",
              "    </tr>\n",
              "    <tr>\n",
              "      <th>7830</th>\n",
              "      <td>Pokemon Red/Pokemon Blue</td>\n",
              "      <td>GB</td>\n",
              "      <td>1996</td>\n",
              "      <td>Role-Playing</td>\n",
              "      <td>Nintendo</td>\n",
              "      <td>11.27</td>\n",
              "      <td>8.89</td>\n",
              "      <td>10.22</td>\n",
              "      <td>1.00</td>\n",
              "      <td>31.38</td>\n",
              "    </tr>\n",
              "    <tr>\n",
              "      <th>...</th>\n",
              "      <td>...</td>\n",
              "      <td>...</td>\n",
              "      <td>...</td>\n",
              "      <td>...</td>\n",
              "      <td>...</td>\n",
              "      <td>...</td>\n",
              "      <td>...</td>\n",
              "      <td>...</td>\n",
              "      <td>...</td>\n",
              "      <td>...</td>\n",
              "    </tr>\n",
              "    <tr>\n",
              "      <th>1099</th>\n",
              "      <td>Crash Bandicoot 2: Cortex Strikes Back</td>\n",
              "      <td>PS</td>\n",
              "      <td>1997</td>\n",
              "      <td>Platform</td>\n",
              "      <td>Sony Computer Entertainment</td>\n",
              "      <td>3.78</td>\n",
              "      <td>2.17</td>\n",
              "      <td>1.31</td>\n",
              "      <td>0.31</td>\n",
              "      <td>7.57</td>\n",
              "    </tr>\n",
              "    <tr>\n",
              "      <th>7495</th>\n",
              "      <td>Super Mario Bros. 2</td>\n",
              "      <td>NES</td>\n",
              "      <td>1988</td>\n",
              "      <td>Platform</td>\n",
              "      <td>Nintendo</td>\n",
              "      <td>5.39</td>\n",
              "      <td>1.18</td>\n",
              "      <td>0.70</td>\n",
              "      <td>0.19</td>\n",
              "      <td>7.46</td>\n",
              "    </tr>\n",
              "    <tr>\n",
              "      <th>12851</th>\n",
              "      <td>Super Smash Bros. for Wii U and 3DS</td>\n",
              "      <td>3DS</td>\n",
              "      <td>2014</td>\n",
              "      <td>Fighting</td>\n",
              "      <td>Nintendo</td>\n",
              "      <td>3.24</td>\n",
              "      <td>1.35</td>\n",
              "      <td>2.42</td>\n",
              "      <td>0.43</td>\n",
              "      <td>7.44</td>\n",
              "    </tr>\n",
              "    <tr>\n",
              "      <th>10938</th>\n",
              "      <td>Call of Duty: World at War</td>\n",
              "      <td>X360</td>\n",
              "      <td>2008</td>\n",
              "      <td>Shooter</td>\n",
              "      <td>Activision</td>\n",
              "      <td>4.79</td>\n",
              "      <td>1.90</td>\n",
              "      <td>0.00</td>\n",
              "      <td>0.69</td>\n",
              "      <td>7.38</td>\n",
              "    </tr>\n",
              "    <tr>\n",
              "      <th>8011</th>\n",
              "      <td>Battlefield 3</td>\n",
              "      <td>X360</td>\n",
              "      <td>2011</td>\n",
              "      <td>Shooter</td>\n",
              "      <td>Electronic Arts</td>\n",
              "      <td>4.46</td>\n",
              "      <td>2.13</td>\n",
              "      <td>0.06</td>\n",
              "      <td>0.69</td>\n",
              "      <td>7.34</td>\n",
              "    </tr>\n",
              "  </tbody>\n",
              "</table>\n",
              "<p>100 rows × 10 columns</p>\n",
              "</div>"
            ],
            "text/plain": [
              "                                              Name  ... Total_Sales\n",
              "Unnamed: 0                                          ...            \n",
              "2909                                    Wii Sports  ...       82.74\n",
              "4200                             Super Mario Bros.  ...       40.24\n",
              "12580                               Mario Kart Wii  ...       35.83\n",
              "3353                             Wii Sports Resort  ...       33.00\n",
              "7830                      Pokemon Red/Pokemon Blue  ...       31.38\n",
              "...                                            ...  ...         ...\n",
              "1099        Crash Bandicoot 2: Cortex Strikes Back  ...        7.57\n",
              "7495                           Super Mario Bros. 2  ...        7.46\n",
              "12851          Super Smash Bros. for Wii U and 3DS  ...        7.44\n",
              "10938                   Call of Duty: World at War  ...        7.38\n",
              "8011                                 Battlefield 3  ...        7.34\n",
              "\n",
              "[100 rows x 10 columns]"
            ]
          },
          "metadata": {
            "tags": []
          },
          "execution_count": 20
        }
      ]
    },
    {
      "cell_type": "code",
      "metadata": {
        "id": "NSZbqQVa5hB7"
      },
      "source": [
        "top100year = top100.sort_values(by='Year')"
      ],
      "execution_count": 37,
      "outputs": []
    },
    {
      "cell_type": "code",
      "metadata": {
        "colab": {
          "base_uri": "https://localhost:8080/",
          "height": 560
        },
        "id": "cHlKLy6JeCep",
        "outputId": "60601032-8c34-4845-86c1-c926af6e49e8"
      },
      "source": [
        "import matplotlib.pyplot as plt\r\n",
        "\r\n",
        "import plotly.express as px\r\n",
        "import plotly.graph_objects as go\r\n",
        "\r\n",
        "fig = plt.figure()\r\n",
        "px.scatter(data_frame= top100,x = 'Genre', y = 'Total_Sales', color='Platform',size= 'Total_Sales')\r\n"
      ],
      "execution_count": 301,
      "outputs": [
        {
          "output_type": "display_data",
          "data": {
            "text/html": [
              "<html>\n",
              "<head><meta charset=\"utf-8\" /></head>\n",
              "<body>\n",
              "    <div>\n",
              "            <script src=\"https://cdnjs.cloudflare.com/ajax/libs/mathjax/2.7.5/MathJax.js?config=TeX-AMS-MML_SVG\"></script><script type=\"text/javascript\">if (window.MathJax) {MathJax.Hub.Config({SVG: {font: \"STIX-Web\"}});}</script>\n",
              "                <script type=\"text/javascript\">window.PlotlyConfig = {MathJaxConfig: 'local'};</script>\n",
              "        <script src=\"https://cdn.plot.ly/plotly-latest.min.js\"></script>    \n",
              "            <div id=\"3e2e1db5-f7b0-42a7-b92b-9171124cf8d3\" class=\"plotly-graph-div\" style=\"height:525px; width:100%;\"></div>\n",
              "            <script type=\"text/javascript\">\n",
              "                \n",
              "                    window.PLOTLYENV=window.PLOTLYENV || {};\n",
              "                    \n",
              "                if (document.getElementById(\"3e2e1db5-f7b0-42a7-b92b-9171124cf8d3\")) {\n",
              "                    Plotly.newPlot(\n",
              "                        '3e2e1db5-f7b0-42a7-b92b-9171124cf8d3',\n",
              "                        [{\"hoverlabel\": {\"namelength\": 0}, \"hovertemplate\": \"Platform=Wii<br>Genre=%{x}<br>Total_Sales=%{marker.size}\", \"legendgroup\": \"Platform=Wii\", \"marker\": {\"color\": \"#F8766D\", \"size\": [82.74000000000001, 35.830000000000005, 33.0, 29.009999999999998, 28.61, 22.72, 22.0, 13.04, 11.52, 10.27, 9.52, 8.49, 8.42, 8.05, 7.7], \"sizemode\": \"area\", \"sizeref\": 0.20685000000000003, \"symbol\": \"circle\"}, \"mode\": \"markers\", \"name\": \"Platform=Wii\", \"showlegend\": true, \"type\": \"scatter\", \"x\": [\"Sports\", \"Racing\", \"Sports\", \"Misc\", \"Platform\", \"Sports\", \"Sports\", \"Fighting\", \"Platform\", \"Misc\", \"Misc\", null, \"Misc\", \"Sports\", \"Platform\"], \"xaxis\": \"x\", \"y\": [82.74000000000001, 35.830000000000005, 33.0, 29.009999999999998, 28.61, 22.72, 22.0, 13.04, 11.52, 10.27, 9.52, 8.49, 8.42, 8.05, 7.7], \"yaxis\": \"y\"}, {\"hoverlabel\": {\"namelength\": 0}, \"hovertemplate\": \"Platform=NES<br>Genre=%{x}<br>Total_Sales=%{marker.size}\", \"legendgroup\": \"Platform=NES\", \"marker\": {\"color\": \"#A3A500\", \"size\": [40.24, 28.31, 17.28, 7.46], \"sizemode\": \"area\", \"sizeref\": 0.20685000000000003, \"symbol\": \"circle\"}, \"mode\": \"markers\", \"name\": \"Platform=NES\", \"showlegend\": true, \"type\": \"scatter\", \"x\": [\"Platform\", \"Shooter\", \"Platform\", \"Platform\"], \"xaxis\": \"x\", \"y\": [40.24, 28.31, 17.28, 7.46], \"yaxis\": \"y\"}, {\"hoverlabel\": {\"namelength\": 0}, \"hovertemplate\": \"Platform=GB<br>Genre=%{x}<br>Total_Sales=%{marker.size}\", \"legendgroup\": \"Platform=GB\", \"marker\": {\"color\": \"#00BF7D\", \"size\": [31.380000000000003, 30.259999999999998, 23.09, 18.14, 14.64, 11.179999999999998], \"sizemode\": \"area\", \"sizeref\": 0.20685000000000003, \"symbol\": \"circle\"}, \"mode\": \"markers\", \"name\": \"Platform=GB\", \"showlegend\": true, \"type\": \"scatter\", \"x\": [\"Role-Playing\", \"Puzzle\", \"Role-Playing\", \"Platform\", \"Role-Playing\", \"Adventure\"], \"xaxis\": \"x\", \"y\": [31.380000000000003, 30.259999999999998, 23.09, 18.14, 14.64, 11.179999999999998], \"yaxis\": \"y\"}, {\"hoverlabel\": {\"namelength\": 0}, \"hovertemplate\": \"Platform=DS<br>Genre=%{x}<br>Total_Sales=%{marker.size}\", \"legendgroup\": \"Platform=DS\", \"marker\": {\"color\": \"#00B0F6\", \"size\": [30.009999999999998, 24.75, 23.43, 20.220000000000002, 18.35, 15.32, 15.3, 12.280000000000001, 11.899999999999999, 10.42, 9.02, 8.34, 7.839999999999999], \"sizemode\": \"area\", \"sizeref\": 0.20685000000000003, \"symbol\": \"circle\"}, \"mode\": \"markers\", \"name\": \"Platform=DS\", \"showlegend\": true, \"type\": \"scatter\", \"x\": [\"Platform\", \"Simulation\", \"Racing\", \"Misc\", \"Role-Playing\", \"Role-Playing\", \"Puzzle\", \"Simulation\", \"Action\", \"Platform\", \"Misc\", \"Role-Playing\", \"Role-Playing\"], \"xaxis\": \"x\", \"y\": [30.009999999999998, 24.75, 23.43, 20.220000000000002, 18.35, 15.32, 15.3, 12.280000000000001, 11.899999999999999, 10.42, 9.02, 8.34, 7.839999999999999], \"yaxis\": \"y\"}, {\"hoverlabel\": {\"namelength\": 0}, \"hovertemplate\": \"Platform=X360<br>Genre=%{x}<br>Total_Sales=%{marker.size}\", \"legendgroup\": \"Platform=X360\", \"marker\": {\"color\": \"#E76BF3\", \"size\": [21.82, 16.380000000000003, 14.76, 14.64, 13.740000000000002, 13.52, 12.14, 11.03, 10.209999999999999, 9.87, 9.76, 9.32, 9.2, 8.84, 7.379999999999999, 7.34], \"sizemode\": \"area\", \"sizeref\": 0.20685000000000003, \"symbol\": \"circle\"}, \"mode\": \"markers\", \"name\": \"Platform=X360\", \"showlegend\": true, \"type\": \"scatter\", \"x\": [\"Misc\", \"Action\", \"Shooter\", \"Shooter\", \"Shooter\", \"Shooter\", \"Shooter\", \"Action\", \"Shooter\", \"Shooter\", \"Shooter\", \"Shooter\", \"Misc\", \"Role-Playing\", \"Shooter\", \"Shooter\"], \"xaxis\": \"x\", \"y\": [21.82, 16.380000000000003, 14.76, 14.64, 13.740000000000002, 13.52, 12.14, 11.03, 10.209999999999999, 9.87, 9.76, 9.32, 9.2, 8.84, 7.379999999999999, 7.34], \"yaxis\": \"y\"}, {\"hoverlabel\": {\"namelength\": 0}, \"hovertemplate\": \"Platform=PS3<br>Genre=%{x}<br>Total_Sales=%{marker.size}\", \"legendgroup\": \"Platform=PS3\", \"marker\": {\"color\": \"#F8766D\", \"size\": [21.39, 14.040000000000001, 13.469999999999999, 12.730000000000002, 10.77, 10.690000000000001, 10.579999999999998, 9.580000000000002, 8.25], \"sizemode\": \"area\", \"sizeref\": 0.20685000000000003, \"symbol\": \"circle\"}, \"mode\": \"markers\", \"name\": \"Platform=PS3\", \"showlegend\": true, \"type\": \"scatter\", \"x\": [\"Action\", \"Shooter\", \"Shooter\", \"Shooter\", \"Racing\", \"Shooter\", \"Action\", \"Shooter\", \"Action\"], \"xaxis\": \"x\", \"y\": [21.39, 14.040000000000001, 13.469999999999999, 12.730000000000002, 10.77, 10.690000000000001, 10.579999999999998, 9.580000000000002, 8.25], \"yaxis\": \"y\"}, {\"hoverlabel\": {\"namelength\": 0}, \"hovertemplate\": \"Platform=PS2<br>Genre=%{x}<br>Total_Sales=%{marker.size}\", \"legendgroup\": \"Platform=PS2\", \"marker\": {\"color\": \"#A3A500\", \"size\": [20.810000000000002, 16.150000000000002, 14.969999999999999, 13.100000000000001, 11.649999999999999, 8.040000000000001], \"sizemode\": \"area\", \"sizeref\": 0.20685000000000003, \"symbol\": \"circle\"}, \"mode\": \"markers\", \"name\": \"Platform=PS2\", \"showlegend\": true, \"type\": \"scatter\", \"x\": [\"Action\", \"Action\", \"Racing\", \"Action\", \"Racing\", \"Role-Playing\"], \"xaxis\": \"x\", \"y\": [20.810000000000002, 16.150000000000002, 14.969999999999999, 13.100000000000001, 11.649999999999999, 8.040000000000001], \"yaxis\": \"y\"}, {\"hoverlabel\": {\"namelength\": 0}, \"hovertemplate\": \"Platform=SNES<br>Genre=%{x}<br>Total_Sales=%{marker.size}\", \"legendgroup\": \"Platform=SNES\", \"marker\": {\"color\": \"#00BF7D\", \"size\": [20.62, 10.55, 9.3, 8.77], \"sizemode\": \"area\", \"sizeref\": 0.20685000000000003, \"symbol\": \"circle\"}, \"mode\": \"markers\", \"name\": \"Platform=SNES\", \"showlegend\": true, \"type\": \"scatter\", \"x\": [\"Platform\", \"Platform\", \"Platform\", \"Racing\"], \"xaxis\": \"x\", \"y\": [20.62, 10.55, 9.3, 8.77], \"yaxis\": \"y\"}, {\"hoverlabel\": {\"namelength\": 0}, \"hovertemplate\": \"Platform=GBA<br>Genre=%{x}<br>Total_Sales=%{marker.size}\", \"legendgroup\": \"Platform=GBA\", \"marker\": {\"color\": \"#00B0F6\", \"size\": [15.84, 10.49], \"sizemode\": \"area\", \"sizeref\": 0.20685000000000003, \"symbol\": \"circle\"}, \"mode\": \"markers\", \"name\": \"Platform=GBA\", \"showlegend\": true, \"type\": \"scatter\", \"x\": [\"Role-Playing\", \"Role-Playing\"], \"xaxis\": \"x\", \"y\": [15.84, 10.49], \"yaxis\": \"y\"}, {\"hoverlabel\": {\"namelength\": 0}, \"hovertemplate\": \"Platform=3DS<br>Genre=%{x}<br>Total_Sales=%{marker.size}\", \"legendgroup\": \"Platform=3DS\", \"marker\": {\"color\": \"#E76BF3\", \"size\": [14.349999999999998, 12.21, 11.33, 10.79, 9.830000000000002, 9.100000000000001, 7.4399999999999995], \"sizemode\": \"area\", \"sizeref\": 0.20685000000000003, \"symbol\": \"circle\"}, \"mode\": \"markers\", \"name\": \"Platform=3DS\", \"showlegend\": true, \"type\": \"scatter\", \"x\": [null, \"Racing\", \"Role-Playing\", \"Platform\", \"Platform\", \"Simulation\", \"Fighting\"], \"xaxis\": \"x\", \"y\": [14.349999999999998, 12.21, 11.33, 10.79, 9.830000000000002, 9.100000000000001, 7.4399999999999995], \"yaxis\": \"y\"}, {\"hoverlabel\": {\"namelength\": 0}, \"hovertemplate\": \"Platform=PS4<br>Genre=%{x}<br>Total_Sales=%{marker.size}\", \"legendgroup\": \"Platform=PS4\", \"marker\": {\"color\": \"#F8766D\", \"size\": [14.239999999999998, 11.989999999999998, 8.49, 7.67, 7.609999999999999], \"sizemode\": \"area\", \"sizeref\": 0.20685000000000003, \"symbol\": \"circle\"}, \"mode\": \"markers\", \"name\": \"Platform=PS4\", \"showlegend\": true, \"type\": \"scatter\", \"x\": [\"Shooter\", \"Action\", \"Sports\", \"Shooter\", \"Shooter\"], \"xaxis\": \"x\", \"y\": [14.239999999999998, 11.989999999999998, 8.49, 7.67, 7.609999999999999], \"yaxis\": \"y\"}, {\"hoverlabel\": {\"namelength\": 0}, \"hovertemplate\": \"Platform=N64<br>Genre=%{x}<br>Total_Sales=%{marker.size}\", \"legendgroup\": \"Platform=N64\", \"marker\": {\"color\": \"#A3A500\", \"size\": [11.9, 9.870000000000001, 8.09, 7.6], \"sizemode\": \"area\", \"sizeref\": 0.20685000000000003, \"symbol\": \"circle\"}, \"mode\": \"markers\", \"name\": \"Platform=N64\", \"showlegend\": true, \"type\": \"scatter\", \"x\": [\"Platform\", \"Racing\", \"Shooter\", \"Action\"], \"xaxis\": \"x\", \"y\": [11.9, 9.870000000000001, 8.09, 7.6], \"yaxis\": \"y\"}, {\"hoverlabel\": {\"namelength\": 0}, \"hovertemplate\": \"Platform=PS<br>Genre=%{x}<br>Total_Sales=%{marker.size}\", \"legendgroup\": \"Platform=PS\", \"marker\": {\"color\": \"#00BF7D\", \"size\": [10.95, 9.719999999999999, 9.49, 7.86, 7.569999999999999], \"sizemode\": \"area\", \"sizeref\": 0.20685000000000003, \"symbol\": \"circle\"}, \"mode\": \"markers\", \"name\": \"Platform=PS\", \"showlegend\": true, \"type\": \"scatter\", \"x\": [\"Racing\", \"Role-Playing\", \"Racing\", \"Role-Playing\", \"Platform\"], \"xaxis\": \"x\", \"y\": [10.95, 9.719999999999999, 9.49, 7.86, 7.569999999999999], \"yaxis\": \"y\"}, {\"hoverlabel\": {\"namelength\": 0}, \"hovertemplate\": \"Platform=XB<br>Genre=%{x}<br>Total_Sales=%{marker.size}\", \"legendgroup\": \"Platform=XB\", \"marker\": {\"color\": \"#00B0F6\", \"size\": [8.48], \"sizemode\": \"area\", \"sizeref\": 0.20685000000000003, \"symbol\": \"circle\"}, \"mode\": \"markers\", \"name\": \"Platform=XB\", \"showlegend\": true, \"type\": \"scatter\", \"x\": [\"Shooter\"], \"xaxis\": \"x\", \"y\": [8.48], \"yaxis\": \"y\"}, {\"hoverlabel\": {\"namelength\": 0}, \"hovertemplate\": \"Platform=PC<br>Genre=%{x}<br>Total_Sales=%{marker.size}\", \"legendgroup\": \"Platform=PC\", \"marker\": {\"color\": \"#E76BF3\", \"size\": [8.11], \"sizemode\": \"area\", \"sizeref\": 0.20685000000000003, \"symbol\": \"circle\"}, \"mode\": \"markers\", \"name\": \"Platform=PC\", \"showlegend\": true, \"type\": \"scatter\", \"x\": [\"Simulation\"], \"xaxis\": \"x\", \"y\": [8.11], \"yaxis\": \"y\"}, {\"hoverlabel\": {\"namelength\": 0}, \"hovertemplate\": \"Platform=2600<br>Genre=%{x}<br>Total_Sales=%{marker.size}\", \"legendgroup\": \"Platform=2600\", \"marker\": {\"color\": \"#F8766D\", \"size\": [7.8100000000000005], \"sizemode\": \"area\", \"sizeref\": 0.20685000000000003, \"symbol\": \"circle\"}, \"mode\": \"markers\", \"name\": \"Platform=2600\", \"showlegend\": true, \"type\": \"scatter\", \"x\": [\"Puzzle\"], \"xaxis\": \"x\", \"y\": [7.8100000000000005], \"yaxis\": \"y\"}, {\"hoverlabel\": {\"namelength\": 0}, \"hovertemplate\": \"Platform=PSP<br>Genre=%{x}<br>Total_Sales=%{marker.size}\", \"legendgroup\": \"Platform=PSP\", \"marker\": {\"color\": \"#A3A500\", \"size\": [7.720000000000001], \"sizemode\": \"area\", \"sizeref\": 0.20685000000000003, \"symbol\": \"circle\"}, \"mode\": \"markers\", \"name\": \"Platform=PSP\", \"showlegend\": true, \"type\": \"scatter\", \"x\": [\"Action\"], \"xaxis\": \"x\", \"y\": [7.720000000000001], \"yaxis\": \"y\"}],\n",
              "                        {\"legend\": {\"itemsizing\": \"constant\", \"tracegroupgap\": 0}, \"margin\": {\"t\": 60}, \"template\": {\"data\": {\"bar\": [{\"error_x\": {\"color\": \"rgb(51,51,51)\"}, \"error_y\": {\"color\": \"rgb(51,51,51)\"}, \"marker\": {\"line\": {\"color\": \"rgb(237,237,237)\", \"width\": 0.5}}, \"type\": \"bar\"}], \"barpolar\": [{\"marker\": {\"line\": {\"color\": \"rgb(237,237,237)\", \"width\": 0.5}}, \"type\": \"barpolar\"}], \"carpet\": [{\"aaxis\": {\"endlinecolor\": \"rgb(51,51,51)\", \"gridcolor\": \"white\", \"linecolor\": \"white\", \"minorgridcolor\": \"white\", \"startlinecolor\": \"rgb(51,51,51)\"}, \"baxis\": {\"endlinecolor\": \"rgb(51,51,51)\", \"gridcolor\": \"white\", \"linecolor\": \"white\", \"minorgridcolor\": \"white\", \"startlinecolor\": \"rgb(51,51,51)\"}, \"type\": \"carpet\"}], \"choropleth\": [{\"colorbar\": {\"outlinewidth\": 0, \"tickcolor\": \"rgb(237,237,237)\", \"ticklen\": 6, \"ticks\": \"inside\"}, \"type\": \"choropleth\"}], \"contour\": [{\"colorbar\": {\"outlinewidth\": 0, \"tickcolor\": \"rgb(237,237,237)\", \"ticklen\": 6, \"ticks\": \"inside\"}, \"colorscale\": [[0, \"rgb(20,44,66)\"], [1, \"rgb(90,179,244)\"]], \"type\": \"contour\"}], \"contourcarpet\": [{\"colorbar\": {\"outlinewidth\": 0, \"tickcolor\": \"rgb(237,237,237)\", \"ticklen\": 6, \"ticks\": \"inside\"}, \"type\": \"contourcarpet\"}], \"heatmap\": [{\"colorbar\": {\"outlinewidth\": 0, \"tickcolor\": \"rgb(237,237,237)\", \"ticklen\": 6, \"ticks\": \"inside\"}, \"colorscale\": [[0, \"rgb(20,44,66)\"], [1, \"rgb(90,179,244)\"]], \"type\": \"heatmap\"}], \"heatmapgl\": [{\"colorbar\": {\"outlinewidth\": 0, \"tickcolor\": \"rgb(237,237,237)\", \"ticklen\": 6, \"ticks\": \"inside\"}, \"colorscale\": [[0, \"rgb(20,44,66)\"], [1, \"rgb(90,179,244)\"]], \"type\": \"heatmapgl\"}], \"histogram\": [{\"marker\": {\"colorbar\": {\"outlinewidth\": 0, \"tickcolor\": \"rgb(237,237,237)\", \"ticklen\": 6, \"ticks\": \"inside\"}}, \"type\": \"histogram\"}], \"histogram2d\": [{\"colorbar\": {\"outlinewidth\": 0, \"tickcolor\": \"rgb(237,237,237)\", \"ticklen\": 6, \"ticks\": \"inside\"}, \"colorscale\": [[0, \"rgb(20,44,66)\"], [1, \"rgb(90,179,244)\"]], \"type\": \"histogram2d\"}], \"histogram2dcontour\": [{\"colorbar\": {\"outlinewidth\": 0, \"tickcolor\": \"rgb(237,237,237)\", \"ticklen\": 6, \"ticks\": \"inside\"}, \"colorscale\": [[0, \"rgb(20,44,66)\"], [1, \"rgb(90,179,244)\"]], \"type\": \"histogram2dcontour\"}], \"mesh3d\": [{\"colorbar\": {\"outlinewidth\": 0, \"tickcolor\": \"rgb(237,237,237)\", \"ticklen\": 6, \"ticks\": \"inside\"}, \"type\": \"mesh3d\"}], \"parcoords\": [{\"line\": {\"colorbar\": {\"outlinewidth\": 0, \"tickcolor\": \"rgb(237,237,237)\", \"ticklen\": 6, \"ticks\": \"inside\"}}, \"type\": \"parcoords\"}], \"pie\": [{\"automargin\": true, \"type\": \"pie\"}], \"scatter\": [{\"marker\": {\"colorbar\": {\"outlinewidth\": 0, \"tickcolor\": \"rgb(237,237,237)\", \"ticklen\": 6, \"ticks\": \"inside\"}}, \"type\": \"scatter\"}], \"scatter3d\": [{\"line\": {\"colorbar\": {\"outlinewidth\": 0, \"tickcolor\": \"rgb(237,237,237)\", \"ticklen\": 6, \"ticks\": \"inside\"}}, \"marker\": {\"colorbar\": {\"outlinewidth\": 0, \"tickcolor\": \"rgb(237,237,237)\", \"ticklen\": 6, \"ticks\": \"inside\"}}, \"type\": \"scatter3d\"}], \"scattercarpet\": [{\"marker\": {\"colorbar\": {\"outlinewidth\": 0, \"tickcolor\": \"rgb(237,237,237)\", \"ticklen\": 6, \"ticks\": \"inside\"}}, \"type\": \"scattercarpet\"}], \"scattergeo\": [{\"marker\": {\"colorbar\": {\"outlinewidth\": 0, \"tickcolor\": \"rgb(237,237,237)\", \"ticklen\": 6, \"ticks\": \"inside\"}}, \"type\": \"scattergeo\"}], \"scattergl\": [{\"marker\": {\"colorbar\": {\"outlinewidth\": 0, \"tickcolor\": \"rgb(237,237,237)\", \"ticklen\": 6, \"ticks\": \"inside\"}}, \"type\": \"scattergl\"}], \"scattermapbox\": [{\"marker\": {\"colorbar\": {\"outlinewidth\": 0, \"tickcolor\": \"rgb(237,237,237)\", \"ticklen\": 6, \"ticks\": \"inside\"}}, \"type\": \"scattermapbox\"}], \"scatterpolar\": [{\"marker\": {\"colorbar\": {\"outlinewidth\": 0, \"tickcolor\": \"rgb(237,237,237)\", \"ticklen\": 6, \"ticks\": \"inside\"}}, \"type\": \"scatterpolar\"}], \"scatterpolargl\": [{\"marker\": {\"colorbar\": {\"outlinewidth\": 0, \"tickcolor\": \"rgb(237,237,237)\", \"ticklen\": 6, \"ticks\": \"inside\"}}, \"type\": \"scatterpolargl\"}], \"scatterternary\": [{\"marker\": {\"colorbar\": {\"outlinewidth\": 0, \"tickcolor\": \"rgb(237,237,237)\", \"ticklen\": 6, \"ticks\": \"inside\"}}, \"type\": \"scatterternary\"}], \"surface\": [{\"colorbar\": {\"outlinewidth\": 0, \"tickcolor\": \"rgb(237,237,237)\", \"ticklen\": 6, \"ticks\": \"inside\"}, \"colorscale\": [[0, \"rgb(20,44,66)\"], [1, \"rgb(90,179,244)\"]], \"type\": \"surface\"}], \"table\": [{\"cells\": {\"fill\": {\"color\": \"rgb(237,237,237)\"}, \"line\": {\"color\": \"white\"}}, \"header\": {\"fill\": {\"color\": \"rgb(217,217,217)\"}, \"line\": {\"color\": \"white\"}}, \"type\": \"table\"}]}, \"layout\": {\"annotationdefaults\": {\"arrowhead\": 0, \"arrowwidth\": 1}, \"coloraxis\": {\"colorbar\": {\"outlinewidth\": 0, \"tickcolor\": \"rgb(237,237,237)\", \"ticklen\": 6, \"ticks\": \"inside\"}}, \"colorscale\": {\"sequential\": [[0, \"rgb(20,44,66)\"], [1, \"rgb(90,179,244)\"]], \"sequentialminus\": [[0, \"rgb(20,44,66)\"], [1, \"rgb(90,179,244)\"]]}, \"colorway\": [\"#F8766D\", \"#A3A500\", \"#00BF7D\", \"#00B0F6\", \"#E76BF3\"], \"font\": {\"color\": \"rgb(51,51,51)\"}, \"geo\": {\"bgcolor\": \"white\", \"lakecolor\": \"white\", \"landcolor\": \"rgb(237,237,237)\", \"showlakes\": true, \"showland\": true, \"subunitcolor\": \"white\"}, \"hoverlabel\": {\"align\": \"left\"}, \"hovermode\": \"closest\", \"paper_bgcolor\": \"white\", \"plot_bgcolor\": \"rgb(237,237,237)\", \"polar\": {\"angularaxis\": {\"gridcolor\": \"white\", \"linecolor\": \"white\", \"showgrid\": true, \"tickcolor\": \"rgb(51,51,51)\", \"ticks\": \"outside\"}, \"bgcolor\": \"rgb(237,237,237)\", \"radialaxis\": {\"gridcolor\": \"white\", \"linecolor\": \"white\", \"showgrid\": true, \"tickcolor\": \"rgb(51,51,51)\", \"ticks\": \"outside\"}}, \"scene\": {\"xaxis\": {\"backgroundcolor\": \"rgb(237,237,237)\", \"gridcolor\": \"white\", \"gridwidth\": 2, \"linecolor\": \"white\", \"showbackground\": true, \"showgrid\": true, \"tickcolor\": \"rgb(51,51,51)\", \"ticks\": \"outside\", \"zerolinecolor\": \"white\"}, \"yaxis\": {\"backgroundcolor\": \"rgb(237,237,237)\", \"gridcolor\": \"white\", \"gridwidth\": 2, \"linecolor\": \"white\", \"showbackground\": true, \"showgrid\": true, \"tickcolor\": \"rgb(51,51,51)\", \"ticks\": \"outside\", \"zerolinecolor\": \"white\"}, \"zaxis\": {\"backgroundcolor\": \"rgb(237,237,237)\", \"gridcolor\": \"white\", \"gridwidth\": 2, \"linecolor\": \"white\", \"showbackground\": true, \"showgrid\": true, \"tickcolor\": \"rgb(51,51,51)\", \"ticks\": \"outside\", \"zerolinecolor\": \"white\"}}, \"shapedefaults\": {\"fillcolor\": \"black\", \"line\": {\"width\": 0}, \"opacity\": 0.3}, \"ternary\": {\"aaxis\": {\"gridcolor\": \"white\", \"linecolor\": \"white\", \"showgrid\": true, \"tickcolor\": \"rgb(51,51,51)\", \"ticks\": \"outside\"}, \"baxis\": {\"gridcolor\": \"white\", \"linecolor\": \"white\", \"showgrid\": true, \"tickcolor\": \"rgb(51,51,51)\", \"ticks\": \"outside\"}, \"bgcolor\": \"rgb(237,237,237)\", \"caxis\": {\"gridcolor\": \"white\", \"linecolor\": \"white\", \"showgrid\": true, \"tickcolor\": \"rgb(51,51,51)\", \"ticks\": \"outside\"}}, \"xaxis\": {\"automargin\": true, \"gridcolor\": \"white\", \"linecolor\": \"white\", \"showgrid\": true, \"tickcolor\": \"rgb(51,51,51)\", \"ticks\": \"outside\", \"title\": {\"standoff\": 15}, \"zerolinecolor\": \"white\"}, \"yaxis\": {\"automargin\": true, \"gridcolor\": \"white\", \"linecolor\": \"white\", \"showgrid\": true, \"tickcolor\": \"rgb(51,51,51)\", \"ticks\": \"outside\", \"title\": {\"standoff\": 15}, \"zerolinecolor\": \"white\"}}}, \"xaxis\": {\"anchor\": \"y\", \"domain\": [0.0, 1.0], \"title\": {\"text\": \"Genre\"}}, \"yaxis\": {\"anchor\": \"x\", \"domain\": [0.0, 1.0], \"title\": {\"text\": \"Total_Sales\"}}},\n",
              "                        {\"responsive\": true}\n",
              "                    ).then(function(){\n",
              "                            \n",
              "var gd = document.getElementById('3e2e1db5-f7b0-42a7-b92b-9171124cf8d3');\n",
              "var x = new MutationObserver(function (mutations, observer) {{\n",
              "        var display = window.getComputedStyle(gd).display;\n",
              "        if (!display || display === 'none') {{\n",
              "            console.log([gd, 'removed!']);\n",
              "            Plotly.purge(gd);\n",
              "            observer.disconnect();\n",
              "        }}\n",
              "}});\n",
              "\n",
              "// Listen for the removal of the full notebook cells\n",
              "var notebookContainer = gd.closest('#notebook-container');\n",
              "if (notebookContainer) {{\n",
              "    x.observe(notebookContainer, {childList: true});\n",
              "}}\n",
              "\n",
              "// Listen for the clearing of the current output cell\n",
              "var outputEl = gd.closest('.output');\n",
              "if (outputEl) {{\n",
              "    x.observe(outputEl, {childList: true});\n",
              "}}\n",
              "\n",
              "                        })\n",
              "                };\n",
              "                \n",
              "            </script>\n",
              "        </div>\n",
              "</body>\n",
              "</html>"
            ]
          },
          "metadata": {
            "tags": []
          }
        },
        {
          "output_type": "display_data",
          "data": {
            "text/plain": [
              "<Figure size 432x288 with 0 Axes>"
            ]
          },
          "metadata": {
            "tags": []
          }
        }
      ]
    },
    {
      "cell_type": "markdown",
      "metadata": {
        "id": "ASRyBSvN7Tl_"
      },
      "source": [
        "이 그래프는 top100 게임들 중 x축은 게임 장르를, y축은 총 매출액을 의미합니다.높은 매출액을 기록한 장르로는 스포츠, 플랫폼, 레이싱이 있습니다. 좌측 위의 붉은 마커는 닌텐도 Wii를 의미하는데, 여러 장르에서 상위 매출을 기록하고 있습니다. 두 번째로 큰 플랫폼인 NES 역시 닌텐도에서 출시했던 가정용 게임기로 높은 매출을 기록한 것을 볼 수 있습니다."
      ]
    },
    {
      "cell_type": "code",
      "metadata": {
        "id": "FBLCU1Abi3vb",
        "colab": {
          "base_uri": "https://localhost:8080/",
          "height": 607
        },
        "outputId": "97ca81ab-4733-49bd-f50c-71a428d991b7"
      },
      "source": [
        "plat100 = top100.groupby('Platform')\r\n",
        "plat100 = pd.DataFrame(plat100.sum()[['NA_Sales', 'EU_Sales','JP_Sales','Other_Sales','Total_Sales']])\r\n",
        "plat100.sort_values(by='Total_Sales', ascending=False)\r\n"
      ],
      "execution_count": 22,
      "outputs": [
        {
          "output_type": "execute_result",
          "data": {
            "text/html": [
              "<div>\n",
              "<style scoped>\n",
              "    .dataframe tbody tr th:only-of-type {\n",
              "        vertical-align: middle;\n",
              "    }\n",
              "\n",
              "    .dataframe tbody tr th {\n",
              "        vertical-align: top;\n",
              "    }\n",
              "\n",
              "    .dataframe thead th {\n",
              "        text-align: right;\n",
              "    }\n",
              "</style>\n",
              "<table border=\"1\" class=\"dataframe\">\n",
              "  <thead>\n",
              "    <tr style=\"text-align: right;\">\n",
              "      <th></th>\n",
              "      <th>NA_Sales</th>\n",
              "      <th>EU_Sales</th>\n",
              "      <th>JP_Sales</th>\n",
              "      <th>Other_Sales</th>\n",
              "      <th>Total_Sales</th>\n",
              "    </tr>\n",
              "    <tr>\n",
              "      <th>Platform</th>\n",
              "      <th></th>\n",
              "      <th></th>\n",
              "      <th></th>\n",
              "      <th></th>\n",
              "      <th></th>\n",
              "    </tr>\n",
              "  </thead>\n",
              "  <tbody>\n",
              "    <tr>\n",
              "      <th>Wii</th>\n",
              "      <td>156.38</td>\n",
              "      <td>109.99</td>\n",
              "      <td>34.18</td>\n",
              "      <td>30.37</td>\n",
              "      <td>330.92</td>\n",
              "    </tr>\n",
              "    <tr>\n",
              "      <th>DS</th>\n",
              "      <td>72.66</td>\n",
              "      <td>65.14</td>\n",
              "      <td>52.08</td>\n",
              "      <td>17.30</td>\n",
              "      <td>207.18</td>\n",
              "    </tr>\n",
              "    <tr>\n",
              "      <th>X360</th>\n",
              "      <td>120.95</td>\n",
              "      <td>51.19</td>\n",
              "      <td>1.43</td>\n",
              "      <td>16.38</td>\n",
              "      <td>189.95</td>\n",
              "    </tr>\n",
              "    <tr>\n",
              "      <th>GB</th>\n",
              "      <td>66.35</td>\n",
              "      <td>27.12</td>\n",
              "      <td>31.63</td>\n",
              "      <td>3.59</td>\n",
              "      <td>128.69</td>\n",
              "    </tr>\n",
              "    <tr>\n",
              "      <th>PS3</th>\n",
              "      <td>41.38</td>\n",
              "      <td>46.52</td>\n",
              "      <td>4.73</td>\n",
              "      <td>18.87</td>\n",
              "      <td>111.50</td>\n",
              "    </tr>\n",
              "    <tr>\n",
              "      <th>NES</th>\n",
              "      <td>70.94</td>\n",
              "      <td>8.83</td>\n",
              "      <td>11.63</td>\n",
              "      <td>1.89</td>\n",
              "      <td>93.29</td>\n",
              "    </tr>\n",
              "    <tr>\n",
              "      <th>PS2</th>\n",
              "      <td>37.60</td>\n",
              "      <td>17.57</td>\n",
              "      <td>6.88</td>\n",
              "      <td>22.67</td>\n",
              "      <td>84.72</td>\n",
              "    </tr>\n",
              "    <tr>\n",
              "      <th>3DS</th>\n",
              "      <td>27.94</td>\n",
              "      <td>21.06</td>\n",
              "      <td>21.47</td>\n",
              "      <td>4.58</td>\n",
              "      <td>75.05</td>\n",
              "    </tr>\n",
              "    <tr>\n",
              "      <th>PS4</th>\n",
              "      <td>16.41</td>\n",
              "      <td>24.27</td>\n",
              "      <td>1.13</td>\n",
              "      <td>8.19</td>\n",
              "      <td>50.00</td>\n",
              "    </tr>\n",
              "    <tr>\n",
              "      <th>SNES</th>\n",
              "      <td>26.67</td>\n",
              "      <td>8.85</td>\n",
              "      <td>12.47</td>\n",
              "      <td>1.25</td>\n",
              "      <td>49.24</td>\n",
              "    </tr>\n",
              "    <tr>\n",
              "      <th>PS</th>\n",
              "      <td>16.97</td>\n",
              "      <td>13.65</td>\n",
              "      <td>12.45</td>\n",
              "      <td>2.52</td>\n",
              "      <td>45.59</td>\n",
              "    </tr>\n",
              "    <tr>\n",
              "      <th>N64</th>\n",
              "      <td>22.36</td>\n",
              "      <td>8.69</td>\n",
              "      <td>5.72</td>\n",
              "      <td>0.69</td>\n",
              "      <td>37.46</td>\n",
              "    </tr>\n",
              "    <tr>\n",
              "      <th>GBA</th>\n",
              "      <td>10.40</td>\n",
              "      <td>6.55</td>\n",
              "      <td>8.53</td>\n",
              "      <td>0.85</td>\n",
              "      <td>26.33</td>\n",
              "    </tr>\n",
              "    <tr>\n",
              "      <th>XB</th>\n",
              "      <td>6.82</td>\n",
              "      <td>1.53</td>\n",
              "      <td>0.05</td>\n",
              "      <td>0.08</td>\n",
              "      <td>8.48</td>\n",
              "    </tr>\n",
              "    <tr>\n",
              "      <th>PC</th>\n",
              "      <td>0.98</td>\n",
              "      <td>6.42</td>\n",
              "      <td>0.00</td>\n",
              "      <td>0.71</td>\n",
              "      <td>8.11</td>\n",
              "    </tr>\n",
              "    <tr>\n",
              "      <th>2600</th>\n",
              "      <td>7.28</td>\n",
              "      <td>0.45</td>\n",
              "      <td>0.00</td>\n",
              "      <td>0.08</td>\n",
              "      <td>7.81</td>\n",
              "    </tr>\n",
              "    <tr>\n",
              "      <th>PSP</th>\n",
              "      <td>2.90</td>\n",
              "      <td>2.83</td>\n",
              "      <td>0.24</td>\n",
              "      <td>1.75</td>\n",
              "      <td>7.72</td>\n",
              "    </tr>\n",
              "  </tbody>\n",
              "</table>\n",
              "</div>"
            ],
            "text/plain": [
              "          NA_Sales  EU_Sales  JP_Sales  Other_Sales  Total_Sales\n",
              "Platform                                                        \n",
              "Wii         156.38    109.99     34.18        30.37       330.92\n",
              "DS           72.66     65.14     52.08        17.30       207.18\n",
              "X360        120.95     51.19      1.43        16.38       189.95\n",
              "GB           66.35     27.12     31.63         3.59       128.69\n",
              "PS3          41.38     46.52      4.73        18.87       111.50\n",
              "NES          70.94      8.83     11.63         1.89        93.29\n",
              "PS2          37.60     17.57      6.88        22.67        84.72\n",
              "3DS          27.94     21.06     21.47         4.58        75.05\n",
              "PS4          16.41     24.27      1.13         8.19        50.00\n",
              "SNES         26.67      8.85     12.47         1.25        49.24\n",
              "PS           16.97     13.65     12.45         2.52        45.59\n",
              "N64          22.36      8.69      5.72         0.69        37.46\n",
              "GBA          10.40      6.55      8.53         0.85        26.33\n",
              "XB            6.82      1.53      0.05         0.08         8.48\n",
              "PC            0.98      6.42      0.00         0.71         8.11\n",
              "2600          7.28      0.45      0.00         0.08         7.81\n",
              "PSP           2.90      2.83      0.24         1.75         7.72"
            ]
          },
          "metadata": {
            "tags": []
          },
          "execution_count": 22
        }
      ]
    },
    {
      "cell_type": "markdown",
      "metadata": {
        "id": "odUElHKpSy_h"
      },
      "source": [
        "#### 1) Top 100 게임들의 platform 순위\r\n"
      ]
    },
    {
      "cell_type": "code",
      "metadata": {
        "colab": {
          "base_uri": "https://localhost:8080/",
          "height": 542
        },
        "id": "wLY3jAwvXmNZ",
        "outputId": "3e87ef2f-80fb-4e0a-a91b-0ae9283df6d7"
      },
      "source": [
        "import plotly.graph_objects as go\r\n",
        "import plotly.express as px\r\n",
        "import plotly.io as pio\r\n",
        "pio.templates.default = \"ggplot2\"\r\n",
        "#px.defaults.template = \"\"\r\n",
        "#pio.templates.default = \"ggplot2\"\r\n",
        "\r\n",
        "fig = go.Figure(data=[\r\n",
        "    go.Bar(name='NA_Sales', x=plat100.index, y= plat100['NA_Sales']),\r\n",
        "    go.Bar(name='EU_Sales', x=plat100.index, y=plat100['EU_Sales']),\r\n",
        "    go.Bar(name='JP_Sales', x=plat100.index, y=plat100['JP_Sales']),\r\n",
        "    go.Bar(name='Other_Sales', x=plat100.index, y=plat100['Other_Sales'])\r\n",
        "])\r\n",
        "\r\n",
        "# Change the bar mode\r\n",
        "fig.update_layout(title=\"Platforms of Top 100 games\",\r\n",
        "    xaxis_title=\"Platforms\",\r\n",
        "    yaxis_title=\"Sales\",\r\n",
        "    font=dict(size=18),barmode='stack')\r\n",
        "#fig.add_annotation( \r\n",
        "   # text=\"Nintendo Wii\", height = 80, x=\"Wii\", y=330, arrowsize = 5, arrowhead=6, showarrow=True\r\n",
        "#)\r\n",
        "fig.update_yaxes( # the y-axis is in dollars\r\n",
        "   ticksuffix=\"M($)\", showgrid=True)\r\n",
        "\r\n",
        "fig.show()"
      ],
      "execution_count": 23,
      "outputs": [
        {
          "output_type": "display_data",
          "data": {
            "text/html": [
              "<html>\n",
              "<head><meta charset=\"utf-8\" /></head>\n",
              "<body>\n",
              "    <div>\n",
              "            <script src=\"https://cdnjs.cloudflare.com/ajax/libs/mathjax/2.7.5/MathJax.js?config=TeX-AMS-MML_SVG\"></script><script type=\"text/javascript\">if (window.MathJax) {MathJax.Hub.Config({SVG: {font: \"STIX-Web\"}});}</script>\n",
              "                <script type=\"text/javascript\">window.PlotlyConfig = {MathJaxConfig: 'local'};</script>\n",
              "        <script src=\"https://cdn.plot.ly/plotly-latest.min.js\"></script>    \n",
              "            <div id=\"882eeeed-4f0d-41e7-a925-5ff20b205001\" class=\"plotly-graph-div\" style=\"height:525px; width:100%;\"></div>\n",
              "            <script type=\"text/javascript\">\n",
              "                \n",
              "                    window.PLOTLYENV=window.PLOTLYENV || {};\n",
              "                    \n",
              "                if (document.getElementById(\"882eeeed-4f0d-41e7-a925-5ff20b205001\")) {\n",
              "                    Plotly.newPlot(\n",
              "                        '882eeeed-4f0d-41e7-a925-5ff20b205001',\n",
              "                        [{\"name\": \"NA_Sales\", \"type\": \"bar\", \"x\": [\"2600\", \"3DS\", \"DS\", \"GB\", \"GBA\", \"N64\", \"NES\", \"PC\", \"PS\", \"PS2\", \"PS3\", \"PS4\", \"PSP\", \"SNES\", \"Wii\", \"X360\", \"XB\"], \"y\": [7.28, 27.940000000000005, 72.65999999999998, 66.35, 10.399999999999999, 22.36, 70.94, 0.98, 16.97, 37.599999999999994, 41.379999999999995, 16.41, 2.9, 26.669999999999998, 156.38000000000002, 120.95, 6.82]}, {\"name\": \"EU_Sales\", \"type\": \"bar\", \"x\": [\"2600\", \"3DS\", \"DS\", \"GB\", \"GBA\", \"N64\", \"NES\", \"PC\", \"PS\", \"PS2\", \"PS3\", \"PS4\", \"PSP\", \"SNES\", \"Wii\", \"X360\", \"XB\"], \"y\": [0.45, 21.060000000000002, 65.14, 27.119999999999997, 6.55, 8.69, 8.83, 6.42, 13.65, 17.57, 46.51999999999999, 24.27, 2.83, 8.85, 109.99000000000002, 51.190000000000005, 1.53]}, {\"name\": \"JP_Sales\", \"type\": \"bar\", \"x\": [\"2600\", \"3DS\", \"DS\", \"GB\", \"GBA\", \"N64\", \"NES\", \"PC\", \"PS\", \"PS2\", \"PS3\", \"PS4\", \"PSP\", \"SNES\", \"Wii\", \"X360\", \"XB\"], \"y\": [0.0, 21.47, 52.07999999999999, 31.630000000000003, 8.53, 5.72, 11.629999999999999, 0.0, 12.450000000000001, 6.880000000000001, 4.73, 1.13, 0.24, 12.47, 34.17999999999999, 1.4300000000000002, 0.05]}, {\"name\": \"Other_Sales\", \"type\": \"bar\", \"x\": [\"2600\", \"3DS\", \"DS\", \"GB\", \"GBA\", \"N64\", \"NES\", \"PC\", \"PS\", \"PS2\", \"PS3\", \"PS4\", \"PSP\", \"SNES\", \"Wii\", \"X360\", \"XB\"], \"y\": [0.08, 4.58, 17.300000000000004, 3.59, 0.85, 0.6900000000000001, 1.89, 0.71, 2.52, 22.669999999999998, 18.869999999999997, 8.190000000000001, 1.75, 1.25, 30.370000000000005, 16.38, 0.08]}],\n",
              "                        {\"barmode\": \"stack\", \"font\": {\"size\": 18}, \"template\": {\"data\": {\"bar\": [{\"error_x\": {\"color\": \"rgb(51,51,51)\"}, \"error_y\": {\"color\": \"rgb(51,51,51)\"}, \"marker\": {\"line\": {\"color\": \"rgb(237,237,237)\", \"width\": 0.5}}, \"type\": \"bar\"}], \"barpolar\": [{\"marker\": {\"line\": {\"color\": \"rgb(237,237,237)\", \"width\": 0.5}}, \"type\": \"barpolar\"}], \"carpet\": [{\"aaxis\": {\"endlinecolor\": \"rgb(51,51,51)\", \"gridcolor\": \"white\", \"linecolor\": \"white\", \"minorgridcolor\": \"white\", \"startlinecolor\": \"rgb(51,51,51)\"}, \"baxis\": {\"endlinecolor\": \"rgb(51,51,51)\", \"gridcolor\": \"white\", \"linecolor\": \"white\", \"minorgridcolor\": \"white\", \"startlinecolor\": \"rgb(51,51,51)\"}, \"type\": \"carpet\"}], \"choropleth\": [{\"colorbar\": {\"outlinewidth\": 0, \"tickcolor\": \"rgb(237,237,237)\", \"ticklen\": 6, \"ticks\": \"inside\"}, \"type\": \"choropleth\"}], \"contour\": [{\"colorbar\": {\"outlinewidth\": 0, \"tickcolor\": \"rgb(237,237,237)\", \"ticklen\": 6, \"ticks\": \"inside\"}, \"colorscale\": [[0, \"rgb(20,44,66)\"], [1, \"rgb(90,179,244)\"]], \"type\": \"contour\"}], \"contourcarpet\": [{\"colorbar\": {\"outlinewidth\": 0, \"tickcolor\": \"rgb(237,237,237)\", \"ticklen\": 6, \"ticks\": \"inside\"}, \"type\": \"contourcarpet\"}], \"heatmap\": [{\"colorbar\": {\"outlinewidth\": 0, \"tickcolor\": \"rgb(237,237,237)\", \"ticklen\": 6, \"ticks\": \"inside\"}, \"colorscale\": [[0, \"rgb(20,44,66)\"], [1, \"rgb(90,179,244)\"]], \"type\": \"heatmap\"}], \"heatmapgl\": [{\"colorbar\": {\"outlinewidth\": 0, \"tickcolor\": \"rgb(237,237,237)\", \"ticklen\": 6, \"ticks\": \"inside\"}, \"colorscale\": [[0, \"rgb(20,44,66)\"], [1, \"rgb(90,179,244)\"]], \"type\": \"heatmapgl\"}], \"histogram\": [{\"marker\": {\"colorbar\": {\"outlinewidth\": 0, \"tickcolor\": \"rgb(237,237,237)\", \"ticklen\": 6, \"ticks\": \"inside\"}}, \"type\": \"histogram\"}], \"histogram2d\": [{\"colorbar\": {\"outlinewidth\": 0, \"tickcolor\": \"rgb(237,237,237)\", \"ticklen\": 6, \"ticks\": \"inside\"}, \"colorscale\": [[0, \"rgb(20,44,66)\"], [1, \"rgb(90,179,244)\"]], \"type\": \"histogram2d\"}], \"histogram2dcontour\": [{\"colorbar\": {\"outlinewidth\": 0, \"tickcolor\": \"rgb(237,237,237)\", \"ticklen\": 6, \"ticks\": \"inside\"}, \"colorscale\": [[0, \"rgb(20,44,66)\"], [1, \"rgb(90,179,244)\"]], \"type\": \"histogram2dcontour\"}], \"mesh3d\": [{\"colorbar\": {\"outlinewidth\": 0, \"tickcolor\": \"rgb(237,237,237)\", \"ticklen\": 6, \"ticks\": \"inside\"}, \"type\": \"mesh3d\"}], \"parcoords\": [{\"line\": {\"colorbar\": {\"outlinewidth\": 0, \"tickcolor\": \"rgb(237,237,237)\", \"ticklen\": 6, \"ticks\": \"inside\"}}, \"type\": \"parcoords\"}], \"pie\": [{\"automargin\": true, \"type\": \"pie\"}], \"scatter\": [{\"marker\": {\"colorbar\": {\"outlinewidth\": 0, \"tickcolor\": \"rgb(237,237,237)\", \"ticklen\": 6, \"ticks\": \"inside\"}}, \"type\": \"scatter\"}], \"scatter3d\": [{\"line\": {\"colorbar\": {\"outlinewidth\": 0, \"tickcolor\": \"rgb(237,237,237)\", \"ticklen\": 6, \"ticks\": \"inside\"}}, \"marker\": {\"colorbar\": {\"outlinewidth\": 0, \"tickcolor\": \"rgb(237,237,237)\", \"ticklen\": 6, \"ticks\": \"inside\"}}, \"type\": \"scatter3d\"}], \"scattercarpet\": [{\"marker\": {\"colorbar\": {\"outlinewidth\": 0, \"tickcolor\": \"rgb(237,237,237)\", \"ticklen\": 6, \"ticks\": \"inside\"}}, \"type\": \"scattercarpet\"}], \"scattergeo\": [{\"marker\": {\"colorbar\": {\"outlinewidth\": 0, \"tickcolor\": \"rgb(237,237,237)\", \"ticklen\": 6, \"ticks\": \"inside\"}}, \"type\": \"scattergeo\"}], \"scattergl\": [{\"marker\": {\"colorbar\": {\"outlinewidth\": 0, \"tickcolor\": \"rgb(237,237,237)\", \"ticklen\": 6, \"ticks\": \"inside\"}}, \"type\": \"scattergl\"}], \"scattermapbox\": [{\"marker\": {\"colorbar\": {\"outlinewidth\": 0, \"tickcolor\": \"rgb(237,237,237)\", \"ticklen\": 6, \"ticks\": \"inside\"}}, \"type\": \"scattermapbox\"}], \"scatterpolar\": [{\"marker\": {\"colorbar\": {\"outlinewidth\": 0, \"tickcolor\": \"rgb(237,237,237)\", \"ticklen\": 6, \"ticks\": \"inside\"}}, \"type\": \"scatterpolar\"}], \"scatterpolargl\": [{\"marker\": {\"colorbar\": {\"outlinewidth\": 0, \"tickcolor\": \"rgb(237,237,237)\", \"ticklen\": 6, \"ticks\": \"inside\"}}, \"type\": \"scatterpolargl\"}], \"scatterternary\": [{\"marker\": {\"colorbar\": {\"outlinewidth\": 0, \"tickcolor\": \"rgb(237,237,237)\", \"ticklen\": 6, \"ticks\": \"inside\"}}, \"type\": \"scatterternary\"}], \"surface\": [{\"colorbar\": {\"outlinewidth\": 0, \"tickcolor\": \"rgb(237,237,237)\", \"ticklen\": 6, \"ticks\": \"inside\"}, \"colorscale\": [[0, \"rgb(20,44,66)\"], [1, \"rgb(90,179,244)\"]], \"type\": \"surface\"}], \"table\": [{\"cells\": {\"fill\": {\"color\": \"rgb(237,237,237)\"}, \"line\": {\"color\": \"white\"}}, \"header\": {\"fill\": {\"color\": \"rgb(217,217,217)\"}, \"line\": {\"color\": \"white\"}}, \"type\": \"table\"}]}, \"layout\": {\"annotationdefaults\": {\"arrowhead\": 0, \"arrowwidth\": 1}, \"coloraxis\": {\"colorbar\": {\"outlinewidth\": 0, \"tickcolor\": \"rgb(237,237,237)\", \"ticklen\": 6, \"ticks\": \"inside\"}}, \"colorscale\": {\"sequential\": [[0, \"rgb(20,44,66)\"], [1, \"rgb(90,179,244)\"]], \"sequentialminus\": [[0, \"rgb(20,44,66)\"], [1, \"rgb(90,179,244)\"]]}, \"colorway\": [\"#F8766D\", \"#A3A500\", \"#00BF7D\", \"#00B0F6\", \"#E76BF3\"], \"font\": {\"color\": \"rgb(51,51,51)\"}, \"geo\": {\"bgcolor\": \"white\", \"lakecolor\": \"white\", \"landcolor\": \"rgb(237,237,237)\", \"showlakes\": true, \"showland\": true, \"subunitcolor\": \"white\"}, \"hoverlabel\": {\"align\": \"left\"}, \"hovermode\": \"closest\", \"paper_bgcolor\": \"white\", \"plot_bgcolor\": \"rgb(237,237,237)\", \"polar\": {\"angularaxis\": {\"gridcolor\": \"white\", \"linecolor\": \"white\", \"showgrid\": true, \"tickcolor\": \"rgb(51,51,51)\", \"ticks\": \"outside\"}, \"bgcolor\": \"rgb(237,237,237)\", \"radialaxis\": {\"gridcolor\": \"white\", \"linecolor\": \"white\", \"showgrid\": true, \"tickcolor\": \"rgb(51,51,51)\", \"ticks\": \"outside\"}}, \"scene\": {\"xaxis\": {\"backgroundcolor\": \"rgb(237,237,237)\", \"gridcolor\": \"white\", \"gridwidth\": 2, \"linecolor\": \"white\", \"showbackground\": true, \"showgrid\": true, \"tickcolor\": \"rgb(51,51,51)\", \"ticks\": \"outside\", \"zerolinecolor\": \"white\"}, \"yaxis\": {\"backgroundcolor\": \"rgb(237,237,237)\", \"gridcolor\": \"white\", \"gridwidth\": 2, \"linecolor\": \"white\", \"showbackground\": true, \"showgrid\": true, \"tickcolor\": \"rgb(51,51,51)\", \"ticks\": \"outside\", \"zerolinecolor\": \"white\"}, \"zaxis\": {\"backgroundcolor\": \"rgb(237,237,237)\", \"gridcolor\": \"white\", \"gridwidth\": 2, \"linecolor\": \"white\", \"showbackground\": true, \"showgrid\": true, \"tickcolor\": \"rgb(51,51,51)\", \"ticks\": \"outside\", \"zerolinecolor\": \"white\"}}, \"shapedefaults\": {\"fillcolor\": \"black\", \"line\": {\"width\": 0}, \"opacity\": 0.3}, \"ternary\": {\"aaxis\": {\"gridcolor\": \"white\", \"linecolor\": \"white\", \"showgrid\": true, \"tickcolor\": \"rgb(51,51,51)\", \"ticks\": \"outside\"}, \"baxis\": {\"gridcolor\": \"white\", \"linecolor\": \"white\", \"showgrid\": true, \"tickcolor\": \"rgb(51,51,51)\", \"ticks\": \"outside\"}, \"bgcolor\": \"rgb(237,237,237)\", \"caxis\": {\"gridcolor\": \"white\", \"linecolor\": \"white\", \"showgrid\": true, \"tickcolor\": \"rgb(51,51,51)\", \"ticks\": \"outside\"}}, \"xaxis\": {\"automargin\": true, \"gridcolor\": \"white\", \"linecolor\": \"white\", \"showgrid\": true, \"tickcolor\": \"rgb(51,51,51)\", \"ticks\": \"outside\", \"title\": {\"standoff\": 15}, \"zerolinecolor\": \"white\"}, \"yaxis\": {\"automargin\": true, \"gridcolor\": \"white\", \"linecolor\": \"white\", \"showgrid\": true, \"tickcolor\": \"rgb(51,51,51)\", \"ticks\": \"outside\", \"title\": {\"standoff\": 15}, \"zerolinecolor\": \"white\"}}}, \"title\": {\"text\": \"Platforms of Top 100 games\"}, \"xaxis\": {\"title\": {\"text\": \"Platforms\"}}, \"yaxis\": {\"showgrid\": true, \"ticksuffix\": \"M($)\", \"title\": {\"text\": \"Sales\"}}},\n",
              "                        {\"responsive\": true}\n",
              "                    ).then(function(){\n",
              "                            \n",
              "var gd = document.getElementById('882eeeed-4f0d-41e7-a925-5ff20b205001');\n",
              "var x = new MutationObserver(function (mutations, observer) {{\n",
              "        var display = window.getComputedStyle(gd).display;\n",
              "        if (!display || display === 'none') {{\n",
              "            console.log([gd, 'removed!']);\n",
              "            Plotly.purge(gd);\n",
              "            observer.disconnect();\n",
              "        }}\n",
              "}});\n",
              "\n",
              "// Listen for the removal of the full notebook cells\n",
              "var notebookContainer = gd.closest('#notebook-container');\n",
              "if (notebookContainer) {{\n",
              "    x.observe(notebookContainer, {childList: true});\n",
              "}}\n",
              "\n",
              "// Listen for the clearing of the current output cell\n",
              "var outputEl = gd.closest('.output');\n",
              "if (outputEl) {{\n",
              "    x.observe(outputEl, {childList: true});\n",
              "}}\n",
              "\n",
              "                        })\n",
              "                };\n",
              "                \n",
              "            </script>\n",
              "        </div>\n",
              "</body>\n",
              "</html>"
            ]
          },
          "metadata": {
            "tags": []
          }
        }
      ]
    },
    {
      "cell_type": "markdown",
      "metadata": {
        "id": "tb7Yqzcmj5Oa"
      },
      "source": [
        "닌텐도 Wii, 닌텐도 DS, X360이 각각 1,2,3위를 차지했고 Wii 같은 경우는 전지역에서 많이 팔렸지만, 현시점에서 단종된 기종이기 때문에 유용한 정보는 아니라고 생각합니다."
      ]
    },
    {
      "cell_type": "markdown",
      "metadata": {
        "id": "es-_mK1juRm9"
      },
      "source": [
        "## 2) Top 100 게임들의 퍼블리셔 순위 "
      ]
    },
    {
      "cell_type": "code",
      "metadata": {
        "colab": {
          "base_uri": "https://localhost:8080/",
          "height": 421
        },
        "id": "1kTXwybZbLz3",
        "outputId": "9a0c660a-acf7-46af-a50e-5957a70a9cac"
      },
      "source": [
        "pub100 = top100.groupby('Publisher').sum().drop(columns=['Year'])\r\n",
        "pub100"
      ],
      "execution_count": 25,
      "outputs": [
        {
          "output_type": "execute_result",
          "data": {
            "text/html": [
              "<div>\n",
              "<style scoped>\n",
              "    .dataframe tbody tr th:only-of-type {\n",
              "        vertical-align: middle;\n",
              "    }\n",
              "\n",
              "    .dataframe tbody tr th {\n",
              "        vertical-align: top;\n",
              "    }\n",
              "\n",
              "    .dataframe thead th {\n",
              "        text-align: right;\n",
              "    }\n",
              "</style>\n",
              "<table border=\"1\" class=\"dataframe\">\n",
              "  <thead>\n",
              "    <tr style=\"text-align: right;\">\n",
              "      <th></th>\n",
              "      <th>NA_Sales</th>\n",
              "      <th>EU_Sales</th>\n",
              "      <th>JP_Sales</th>\n",
              "      <th>Other_Sales</th>\n",
              "      <th>Total_Sales</th>\n",
              "    </tr>\n",
              "    <tr>\n",
              "      <th>Publisher</th>\n",
              "      <th></th>\n",
              "      <th></th>\n",
              "      <th></th>\n",
              "      <th></th>\n",
              "      <th></th>\n",
              "    </tr>\n",
              "  </thead>\n",
              "  <tbody>\n",
              "    <tr>\n",
              "      <th>Activision</th>\n",
              "      <td>87.05</td>\n",
              "      <td>55.52</td>\n",
              "      <td>3.43</td>\n",
              "      <td>19.93</td>\n",
              "      <td>165.93</td>\n",
              "    </tr>\n",
              "    <tr>\n",
              "      <th>Atari</th>\n",
              "      <td>7.28</td>\n",
              "      <td>0.45</td>\n",
              "      <td>0.00</td>\n",
              "      <td>0.08</td>\n",
              "      <td>7.81</td>\n",
              "    </tr>\n",
              "    <tr>\n",
              "      <th>Bethesda Softworks</th>\n",
              "      <td>5.03</td>\n",
              "      <td>2.86</td>\n",
              "      <td>0.10</td>\n",
              "      <td>0.85</td>\n",
              "      <td>8.84</td>\n",
              "    </tr>\n",
              "    <tr>\n",
              "      <th>Electronic Arts</th>\n",
              "      <td>10.54</td>\n",
              "      <td>22.95</td>\n",
              "      <td>0.47</td>\n",
              "      <td>5.90</td>\n",
              "      <td>39.86</td>\n",
              "    </tr>\n",
              "    <tr>\n",
              "      <th>Microsoft Game Studios</th>\n",
              "      <td>49.00</td>\n",
              "      <td>16.47</td>\n",
              "      <td>0.56</td>\n",
              "      <td>5.24</td>\n",
              "      <td>71.27</td>\n",
              "    </tr>\n",
              "    <tr>\n",
              "      <th>Nintendo</th>\n",
              "      <td>439.23</td>\n",
              "      <td>246.29</td>\n",
              "      <td>177.04</td>\n",
              "      <td>57.76</td>\n",
              "      <td>920.32</td>\n",
              "    </tr>\n",
              "    <tr>\n",
              "      <th>Sega</th>\n",
              "      <td>2.58</td>\n",
              "      <td>3.90</td>\n",
              "      <td>0.66</td>\n",
              "      <td>0.91</td>\n",
              "      <td>8.05</td>\n",
              "    </tr>\n",
              "    <tr>\n",
              "      <th>Sony Computer Entertainment</th>\n",
              "      <td>30.42</td>\n",
              "      <td>23.98</td>\n",
              "      <td>15.33</td>\n",
              "      <td>13.43</td>\n",
              "      <td>83.16</td>\n",
              "    </tr>\n",
              "    <tr>\n",
              "      <th>SquareSoft</th>\n",
              "      <td>2.28</td>\n",
              "      <td>1.72</td>\n",
              "      <td>3.63</td>\n",
              "      <td>0.23</td>\n",
              "      <td>7.86</td>\n",
              "    </tr>\n",
              "    <tr>\n",
              "      <th>Take-Two Interactive</th>\n",
              "      <td>59.69</td>\n",
              "      <td>40.48</td>\n",
              "      <td>3.39</td>\n",
              "      <td>25.59</td>\n",
              "      <td>129.15</td>\n",
              "    </tr>\n",
              "    <tr>\n",
              "      <th>Ubisoft</th>\n",
              "      <td>11.89</td>\n",
              "      <td>6.04</td>\n",
              "      <td>0.01</td>\n",
              "      <td>1.85</td>\n",
              "      <td>19.79</td>\n",
              "    </tr>\n",
              "  </tbody>\n",
              "</table>\n",
              "</div>"
            ],
            "text/plain": [
              "                             NA_Sales  EU_Sales  ...  Other_Sales  Total_Sales\n",
              "Publisher                                        ...                          \n",
              "Activision                      87.05     55.52  ...        19.93       165.93\n",
              "Atari                            7.28      0.45  ...         0.08         7.81\n",
              "Bethesda Softworks               5.03      2.86  ...         0.85         8.84\n",
              "Electronic Arts                 10.54     22.95  ...         5.90        39.86\n",
              "Microsoft Game Studios          49.00     16.47  ...         5.24        71.27\n",
              "Nintendo                       439.23    246.29  ...        57.76       920.32\n",
              "Sega                             2.58      3.90  ...         0.91         8.05\n",
              "Sony Computer Entertainment     30.42     23.98  ...        13.43        83.16\n",
              "SquareSoft                       2.28      1.72  ...         0.23         7.86\n",
              "Take-Two Interactive            59.69     40.48  ...        25.59       129.15\n",
              "Ubisoft                         11.89      6.04  ...         1.85        19.79\n",
              "\n",
              "[11 rows x 5 columns]"
            ]
          },
          "metadata": {
            "tags": []
          },
          "execution_count": 25
        }
      ]
    },
    {
      "cell_type": "code",
      "metadata": {
        "colab": {
          "base_uri": "https://localhost:8080/",
          "height": 542
        },
        "id": "-Ij_ogppaezW",
        "outputId": "68cb751e-f6c9-48dc-a2c1-ab6435206542"
      },
      "source": [
        "import plotly.graph_objects as go\r\n",
        "import plotly.express as px\r\n",
        "import plotly.io as pio\r\n",
        "pio.templates.default = \"ggplot2\"\r\n",
        "#px.defaults.template = \"\"\r\n",
        "#pio.templates.default = \"ggplot2\"\r\n",
        "\r\n",
        "fig = go.Figure(data=[\r\n",
        "    go.Bar(name='NA_Sales', x=pub100.index, y= pub100['NA_Sales']),\r\n",
        "    go.Bar(name='EU_Sales', x=pub100.index, y=pub100['EU_Sales']),\r\n",
        "    go.Bar(name='JP_Sales', x=pub100.index, y=pub100['JP_Sales']),\r\n",
        "    go.Bar(name='Other_Sales', x=pub100.index, y=pub100['Other_Sales'])\r\n",
        "])\r\n",
        "\r\n",
        "# Change the bar mode\r\n",
        "fig.update_layout(title=\"Publishers of Top 100 games\",\r\n",
        "    xaxis_title=\"Publishers\",\r\n",
        "    yaxis_title=\"Sales\",\r\n",
        "    font=dict(size=18),barmode='stack')\r\n",
        "#fig.add_annotation( \r\n",
        "   # text=\"Nintendo Wii\", height = 80, x=\"Wii\", y=330, arrowsize = 5, arrowhead=6, showarrow=True\r\n",
        "#)\r\n",
        "fig.update_yaxes( # the y-axis is in dollars\r\n",
        "   ticksuffix=\"M($)\", showgrid=True)\r\n",
        "\r\n",
        "fig.show()"
      ],
      "execution_count": 26,
      "outputs": [
        {
          "output_type": "display_data",
          "data": {
            "text/html": [
              "<html>\n",
              "<head><meta charset=\"utf-8\" /></head>\n",
              "<body>\n",
              "    <div>\n",
              "            <script src=\"https://cdnjs.cloudflare.com/ajax/libs/mathjax/2.7.5/MathJax.js?config=TeX-AMS-MML_SVG\"></script><script type=\"text/javascript\">if (window.MathJax) {MathJax.Hub.Config({SVG: {font: \"STIX-Web\"}});}</script>\n",
              "                <script type=\"text/javascript\">window.PlotlyConfig = {MathJaxConfig: 'local'};</script>\n",
              "        <script src=\"https://cdn.plot.ly/plotly-latest.min.js\"></script>    \n",
              "            <div id=\"dddbf9ae-2e88-4faf-aa00-91b8603b963a\" class=\"plotly-graph-div\" style=\"height:525px; width:100%;\"></div>\n",
              "            <script type=\"text/javascript\">\n",
              "                \n",
              "                    window.PLOTLYENV=window.PLOTLYENV || {};\n",
              "                    \n",
              "                if (document.getElementById(\"dddbf9ae-2e88-4faf-aa00-91b8603b963a\")) {\n",
              "                    Plotly.newPlot(\n",
              "                        'dddbf9ae-2e88-4faf-aa00-91b8603b963a',\n",
              "                        [{\"name\": \"NA_Sales\", \"type\": \"bar\", \"x\": [\"Activision\", \"Atari\", \"Bethesda Softworks\", \"Electronic Arts\", \"Microsoft Game Studios\", \"Nintendo\", \"Sega\", \"Sony Computer Entertainment\", \"SquareSoft\", \"Take-Two Interactive\", \"Ubisoft\"], \"y\": [87.05000000000001, 7.28, 5.03, 10.54, 49.0, 439.2300000000002, 2.58, 30.42, 2.28, 59.69, 11.89]}, {\"name\": \"EU_Sales\", \"type\": \"bar\", \"x\": [\"Activision\", \"Atari\", \"Bethesda Softworks\", \"Electronic Arts\", \"Microsoft Game Studios\", \"Nintendo\", \"Sega\", \"Sony Computer Entertainment\", \"SquareSoft\", \"Take-Two Interactive\", \"Ubisoft\"], \"y\": [55.519999999999996, 0.45, 2.86, 22.95, 16.47, 246.2900000000001, 3.9, 23.979999999999997, 1.72, 40.47999999999999, 6.04]}, {\"name\": \"JP_Sales\", \"type\": \"bar\", \"x\": [\"Activision\", \"Atari\", \"Bethesda Softworks\", \"Electronic Arts\", \"Microsoft Game Studios\", \"Nintendo\", \"Sega\", \"Sony Computer Entertainment\", \"SquareSoft\", \"Take-Two Interactive\", \"Ubisoft\"], \"y\": [3.43, 0.0, 0.1, 0.47000000000000003, 0.56, 177.04, 0.66, 15.33, 3.63, 3.3899999999999997, 0.01]}, {\"name\": \"Other_Sales\", \"type\": \"bar\", \"x\": [\"Activision\", \"Atari\", \"Bethesda Softworks\", \"Electronic Arts\", \"Microsoft Game Studios\", \"Nintendo\", \"Sega\", \"Sony Computer Entertainment\", \"SquareSoft\", \"Take-Two Interactive\", \"Ubisoft\"], \"y\": [19.93, 0.08, 0.85, 5.899999999999999, 5.24, 57.75999999999998, 0.91, 13.43, 0.23, 25.590000000000003, 1.85]}],\n",
              "                        {\"barmode\": \"stack\", \"font\": {\"size\": 18}, \"template\": {\"data\": {\"bar\": [{\"error_x\": {\"color\": \"rgb(51,51,51)\"}, \"error_y\": {\"color\": \"rgb(51,51,51)\"}, \"marker\": {\"line\": {\"color\": \"rgb(237,237,237)\", \"width\": 0.5}}, \"type\": \"bar\"}], \"barpolar\": [{\"marker\": {\"line\": {\"color\": \"rgb(237,237,237)\", \"width\": 0.5}}, \"type\": \"barpolar\"}], \"carpet\": [{\"aaxis\": {\"endlinecolor\": \"rgb(51,51,51)\", \"gridcolor\": \"white\", \"linecolor\": \"white\", \"minorgridcolor\": \"white\", \"startlinecolor\": \"rgb(51,51,51)\"}, \"baxis\": {\"endlinecolor\": \"rgb(51,51,51)\", \"gridcolor\": \"white\", \"linecolor\": \"white\", \"minorgridcolor\": \"white\", \"startlinecolor\": \"rgb(51,51,51)\"}, \"type\": \"carpet\"}], \"choropleth\": [{\"colorbar\": {\"outlinewidth\": 0, \"tickcolor\": \"rgb(237,237,237)\", \"ticklen\": 6, \"ticks\": \"inside\"}, \"type\": \"choropleth\"}], \"contour\": [{\"colorbar\": {\"outlinewidth\": 0, \"tickcolor\": \"rgb(237,237,237)\", \"ticklen\": 6, \"ticks\": \"inside\"}, \"colorscale\": [[0, \"rgb(20,44,66)\"], [1, \"rgb(90,179,244)\"]], \"type\": \"contour\"}], \"contourcarpet\": [{\"colorbar\": {\"outlinewidth\": 0, \"tickcolor\": \"rgb(237,237,237)\", \"ticklen\": 6, \"ticks\": \"inside\"}, \"type\": \"contourcarpet\"}], \"heatmap\": [{\"colorbar\": {\"outlinewidth\": 0, \"tickcolor\": \"rgb(237,237,237)\", \"ticklen\": 6, \"ticks\": \"inside\"}, \"colorscale\": [[0, \"rgb(20,44,66)\"], [1, \"rgb(90,179,244)\"]], \"type\": \"heatmap\"}], \"heatmapgl\": [{\"colorbar\": {\"outlinewidth\": 0, \"tickcolor\": \"rgb(237,237,237)\", \"ticklen\": 6, \"ticks\": \"inside\"}, \"colorscale\": [[0, \"rgb(20,44,66)\"], [1, \"rgb(90,179,244)\"]], \"type\": \"heatmapgl\"}], \"histogram\": [{\"marker\": {\"colorbar\": {\"outlinewidth\": 0, \"tickcolor\": \"rgb(237,237,237)\", \"ticklen\": 6, \"ticks\": \"inside\"}}, \"type\": \"histogram\"}], \"histogram2d\": [{\"colorbar\": {\"outlinewidth\": 0, \"tickcolor\": \"rgb(237,237,237)\", \"ticklen\": 6, \"ticks\": \"inside\"}, \"colorscale\": [[0, \"rgb(20,44,66)\"], [1, \"rgb(90,179,244)\"]], \"type\": \"histogram2d\"}], \"histogram2dcontour\": [{\"colorbar\": {\"outlinewidth\": 0, \"tickcolor\": \"rgb(237,237,237)\", \"ticklen\": 6, \"ticks\": \"inside\"}, \"colorscale\": [[0, \"rgb(20,44,66)\"], [1, \"rgb(90,179,244)\"]], \"type\": \"histogram2dcontour\"}], \"mesh3d\": [{\"colorbar\": {\"outlinewidth\": 0, \"tickcolor\": \"rgb(237,237,237)\", \"ticklen\": 6, \"ticks\": \"inside\"}, \"type\": \"mesh3d\"}], \"parcoords\": [{\"line\": {\"colorbar\": {\"outlinewidth\": 0, \"tickcolor\": \"rgb(237,237,237)\", \"ticklen\": 6, \"ticks\": \"inside\"}}, \"type\": \"parcoords\"}], \"pie\": [{\"automargin\": true, \"type\": \"pie\"}], \"scatter\": [{\"marker\": {\"colorbar\": {\"outlinewidth\": 0, \"tickcolor\": \"rgb(237,237,237)\", \"ticklen\": 6, \"ticks\": \"inside\"}}, \"type\": \"scatter\"}], \"scatter3d\": [{\"line\": {\"colorbar\": {\"outlinewidth\": 0, \"tickcolor\": \"rgb(237,237,237)\", \"ticklen\": 6, \"ticks\": \"inside\"}}, \"marker\": {\"colorbar\": {\"outlinewidth\": 0, \"tickcolor\": \"rgb(237,237,237)\", \"ticklen\": 6, \"ticks\": \"inside\"}}, \"type\": \"scatter3d\"}], \"scattercarpet\": [{\"marker\": {\"colorbar\": {\"outlinewidth\": 0, \"tickcolor\": \"rgb(237,237,237)\", \"ticklen\": 6, \"ticks\": \"inside\"}}, \"type\": \"scattercarpet\"}], \"scattergeo\": [{\"marker\": {\"colorbar\": {\"outlinewidth\": 0, \"tickcolor\": \"rgb(237,237,237)\", \"ticklen\": 6, \"ticks\": \"inside\"}}, \"type\": \"scattergeo\"}], \"scattergl\": [{\"marker\": {\"colorbar\": {\"outlinewidth\": 0, \"tickcolor\": \"rgb(237,237,237)\", \"ticklen\": 6, \"ticks\": \"inside\"}}, \"type\": \"scattergl\"}], \"scattermapbox\": [{\"marker\": {\"colorbar\": {\"outlinewidth\": 0, \"tickcolor\": \"rgb(237,237,237)\", \"ticklen\": 6, \"ticks\": \"inside\"}}, \"type\": \"scattermapbox\"}], \"scatterpolar\": [{\"marker\": {\"colorbar\": {\"outlinewidth\": 0, \"tickcolor\": \"rgb(237,237,237)\", \"ticklen\": 6, \"ticks\": \"inside\"}}, \"type\": \"scatterpolar\"}], \"scatterpolargl\": [{\"marker\": {\"colorbar\": {\"outlinewidth\": 0, \"tickcolor\": \"rgb(237,237,237)\", \"ticklen\": 6, \"ticks\": \"inside\"}}, \"type\": \"scatterpolargl\"}], \"scatterternary\": [{\"marker\": {\"colorbar\": {\"outlinewidth\": 0, \"tickcolor\": \"rgb(237,237,237)\", \"ticklen\": 6, \"ticks\": \"inside\"}}, \"type\": \"scatterternary\"}], \"surface\": [{\"colorbar\": {\"outlinewidth\": 0, \"tickcolor\": \"rgb(237,237,237)\", \"ticklen\": 6, \"ticks\": \"inside\"}, \"colorscale\": [[0, \"rgb(20,44,66)\"], [1, \"rgb(90,179,244)\"]], \"type\": \"surface\"}], \"table\": [{\"cells\": {\"fill\": {\"color\": \"rgb(237,237,237)\"}, \"line\": {\"color\": \"white\"}}, \"header\": {\"fill\": {\"color\": \"rgb(217,217,217)\"}, \"line\": {\"color\": \"white\"}}, \"type\": \"table\"}]}, \"layout\": {\"annotationdefaults\": {\"arrowhead\": 0, \"arrowwidth\": 1}, \"coloraxis\": {\"colorbar\": {\"outlinewidth\": 0, \"tickcolor\": \"rgb(237,237,237)\", \"ticklen\": 6, \"ticks\": \"inside\"}}, \"colorscale\": {\"sequential\": [[0, \"rgb(20,44,66)\"], [1, \"rgb(90,179,244)\"]], \"sequentialminus\": [[0, \"rgb(20,44,66)\"], [1, \"rgb(90,179,244)\"]]}, \"colorway\": [\"#F8766D\", \"#A3A500\", \"#00BF7D\", \"#00B0F6\", \"#E76BF3\"], \"font\": {\"color\": \"rgb(51,51,51)\"}, \"geo\": {\"bgcolor\": \"white\", \"lakecolor\": \"white\", \"landcolor\": \"rgb(237,237,237)\", \"showlakes\": true, \"showland\": true, \"subunitcolor\": \"white\"}, \"hoverlabel\": {\"align\": \"left\"}, \"hovermode\": \"closest\", \"paper_bgcolor\": \"white\", \"plot_bgcolor\": \"rgb(237,237,237)\", \"polar\": {\"angularaxis\": {\"gridcolor\": \"white\", \"linecolor\": \"white\", \"showgrid\": true, \"tickcolor\": \"rgb(51,51,51)\", \"ticks\": \"outside\"}, \"bgcolor\": \"rgb(237,237,237)\", \"radialaxis\": {\"gridcolor\": \"white\", \"linecolor\": \"white\", \"showgrid\": true, \"tickcolor\": \"rgb(51,51,51)\", \"ticks\": \"outside\"}}, \"scene\": {\"xaxis\": {\"backgroundcolor\": \"rgb(237,237,237)\", \"gridcolor\": \"white\", \"gridwidth\": 2, \"linecolor\": \"white\", \"showbackground\": true, \"showgrid\": true, \"tickcolor\": \"rgb(51,51,51)\", \"ticks\": \"outside\", \"zerolinecolor\": \"white\"}, \"yaxis\": {\"backgroundcolor\": \"rgb(237,237,237)\", \"gridcolor\": \"white\", \"gridwidth\": 2, \"linecolor\": \"white\", \"showbackground\": true, \"showgrid\": true, \"tickcolor\": \"rgb(51,51,51)\", \"ticks\": \"outside\", \"zerolinecolor\": \"white\"}, \"zaxis\": {\"backgroundcolor\": \"rgb(237,237,237)\", \"gridcolor\": \"white\", \"gridwidth\": 2, \"linecolor\": \"white\", \"showbackground\": true, \"showgrid\": true, \"tickcolor\": \"rgb(51,51,51)\", \"ticks\": \"outside\", \"zerolinecolor\": \"white\"}}, \"shapedefaults\": {\"fillcolor\": \"black\", \"line\": {\"width\": 0}, \"opacity\": 0.3}, \"ternary\": {\"aaxis\": {\"gridcolor\": \"white\", \"linecolor\": \"white\", \"showgrid\": true, \"tickcolor\": \"rgb(51,51,51)\", \"ticks\": \"outside\"}, \"baxis\": {\"gridcolor\": \"white\", \"linecolor\": \"white\", \"showgrid\": true, \"tickcolor\": \"rgb(51,51,51)\", \"ticks\": \"outside\"}, \"bgcolor\": \"rgb(237,237,237)\", \"caxis\": {\"gridcolor\": \"white\", \"linecolor\": \"white\", \"showgrid\": true, \"tickcolor\": \"rgb(51,51,51)\", \"ticks\": \"outside\"}}, \"xaxis\": {\"automargin\": true, \"gridcolor\": \"white\", \"linecolor\": \"white\", \"showgrid\": true, \"tickcolor\": \"rgb(51,51,51)\", \"ticks\": \"outside\", \"title\": {\"standoff\": 15}, \"zerolinecolor\": \"white\"}, \"yaxis\": {\"automargin\": true, \"gridcolor\": \"white\", \"linecolor\": \"white\", \"showgrid\": true, \"tickcolor\": \"rgb(51,51,51)\", \"ticks\": \"outside\", \"title\": {\"standoff\": 15}, \"zerolinecolor\": \"white\"}}}, \"title\": {\"text\": \"Publishers of Top 100 games\"}, \"xaxis\": {\"title\": {\"text\": \"Publishers\"}}, \"yaxis\": {\"showgrid\": true, \"ticksuffix\": \"M($)\", \"title\": {\"text\": \"Sales\"}}},\n",
              "                        {\"responsive\": true}\n",
              "                    ).then(function(){\n",
              "                            \n",
              "var gd = document.getElementById('dddbf9ae-2e88-4faf-aa00-91b8603b963a');\n",
              "var x = new MutationObserver(function (mutations, observer) {{\n",
              "        var display = window.getComputedStyle(gd).display;\n",
              "        if (!display || display === 'none') {{\n",
              "            console.log([gd, 'removed!']);\n",
              "            Plotly.purge(gd);\n",
              "            observer.disconnect();\n",
              "        }}\n",
              "}});\n",
              "\n",
              "// Listen for the removal of the full notebook cells\n",
              "var notebookContainer = gd.closest('#notebook-container');\n",
              "if (notebookContainer) {{\n",
              "    x.observe(notebookContainer, {childList: true});\n",
              "}}\n",
              "\n",
              "// Listen for the clearing of the current output cell\n",
              "var outputEl = gd.closest('.output');\n",
              "if (outputEl) {{\n",
              "    x.observe(outputEl, {childList: true});\n",
              "}}\n",
              "\n",
              "                        })\n",
              "                };\n",
              "                \n",
              "            </script>\n",
              "        </div>\n",
              "</body>\n",
              "</html>"
            ]
          },
          "metadata": {
            "tags": []
          }
        }
      ]
    },
    {
      "cell_type": "markdown",
      "metadata": {
        "id": "no4qg9FpuYMr"
      },
      "source": [
        "닌텐도가 우세하며 Wii, 3ds, ds 등 다양한 플랫폼을 갖고 있기 때문이라 생각됩니다."
      ]
    },
    {
      "cell_type": "markdown",
      "metadata": {
        "id": "JFg6v1tMkbOl"
      },
      "source": [
        "# 2. 연도별 플랫폼과 장르의 선호 분석"
      ]
    },
    {
      "cell_type": "markdown",
      "metadata": {
        "id": "ovlw_FDaB62j"
      },
      "source": [
        "## 장르와 연도의 연관성(카이제곱 검정)"
      ]
    },
    {
      "cell_type": "code",
      "metadata": {
        "id": "8tbNVpAMzurT"
      },
      "source": [
        "#subset2 = year, genre의 결측치 drop한 값\r\n",
        "subset2 = subset.loc[~subset['Genre'].isin([np.nan])]"
      ],
      "execution_count": 68,
      "outputs": []
    },
    {
      "cell_type": "code",
      "metadata": {
        "colab": {
          "base_uri": "https://localhost:8080/",
          "height": 450
        },
        "id": "Gs8Tq17s3cyu",
        "outputId": "fd4f5968-946c-48eb-bbe8-9058a3ece856"
      },
      "source": [
        "subset2align = subset2.sort_values(by=\"Year\")\r\n",
        "subset2align"
      ],
      "execution_count": 263,
      "outputs": [
        {
          "output_type": "execute_result",
          "data": {
            "text/html": [
              "<div>\n",
              "<style scoped>\n",
              "    .dataframe tbody tr th:only-of-type {\n",
              "        vertical-align: middle;\n",
              "    }\n",
              "\n",
              "    .dataframe tbody tr th {\n",
              "        vertical-align: top;\n",
              "    }\n",
              "\n",
              "    .dataframe thead th {\n",
              "        text-align: right;\n",
              "    }\n",
              "</style>\n",
              "<table border=\"1\" class=\"dataframe\">\n",
              "  <thead>\n",
              "    <tr style=\"text-align: right;\">\n",
              "      <th></th>\n",
              "      <th>Name</th>\n",
              "      <th>Platform</th>\n",
              "      <th>Year</th>\n",
              "      <th>Genre</th>\n",
              "      <th>Publisher</th>\n",
              "      <th>NA_Sales</th>\n",
              "      <th>EU_Sales</th>\n",
              "      <th>JP_Sales</th>\n",
              "      <th>Other_Sales</th>\n",
              "      <th>Total_Sales</th>\n",
              "    </tr>\n",
              "    <tr>\n",
              "      <th>Unnamed: 0</th>\n",
              "      <th></th>\n",
              "      <th></th>\n",
              "      <th></th>\n",
              "      <th></th>\n",
              "      <th></th>\n",
              "      <th></th>\n",
              "      <th></th>\n",
              "      <th></th>\n",
              "      <th></th>\n",
              "      <th></th>\n",
              "    </tr>\n",
              "  </thead>\n",
              "  <tbody>\n",
              "    <tr>\n",
              "      <th>13134</th>\n",
              "      <td>Freeway</td>\n",
              "      <td>2600</td>\n",
              "      <td>1980</td>\n",
              "      <td>Action</td>\n",
              "      <td>Activision</td>\n",
              "      <td>0.32</td>\n",
              "      <td>0.02</td>\n",
              "      <td>0.00</td>\n",
              "      <td>0.00</td>\n",
              "      <td>0.34</td>\n",
              "    </tr>\n",
              "    <tr>\n",
              "      <th>7318</th>\n",
              "      <td>Checkers</td>\n",
              "      <td>2600</td>\n",
              "      <td>1980</td>\n",
              "      <td>Misc</td>\n",
              "      <td>Atari</td>\n",
              "      <td>0.22</td>\n",
              "      <td>0.01</td>\n",
              "      <td>0.00</td>\n",
              "      <td>0.00</td>\n",
              "      <td>0.23</td>\n",
              "    </tr>\n",
              "    <tr>\n",
              "      <th>14265</th>\n",
              "      <td>Boxing</td>\n",
              "      <td>2600</td>\n",
              "      <td>1980</td>\n",
              "      <td>Fighting</td>\n",
              "      <td>Activision</td>\n",
              "      <td>0.72</td>\n",
              "      <td>0.04</td>\n",
              "      <td>0.00</td>\n",
              "      <td>0.01</td>\n",
              "      <td>0.77</td>\n",
              "    </tr>\n",
              "    <tr>\n",
              "      <th>9227</th>\n",
              "      <td>Bridge</td>\n",
              "      <td>2600</td>\n",
              "      <td>1980</td>\n",
              "      <td>Misc</td>\n",
              "      <td>Activision</td>\n",
              "      <td>0.25</td>\n",
              "      <td>0.02</td>\n",
              "      <td>0.00</td>\n",
              "      <td>0.00</td>\n",
              "      <td>0.27</td>\n",
              "    </tr>\n",
              "    <tr>\n",
              "      <th>5724</th>\n",
              "      <td>Asteroids</td>\n",
              "      <td>2600</td>\n",
              "      <td>1980</td>\n",
              "      <td>Shooter</td>\n",
              "      <td>Atari</td>\n",
              "      <td>4.00</td>\n",
              "      <td>0.26</td>\n",
              "      <td>0.00</td>\n",
              "      <td>0.05</td>\n",
              "      <td>4.31</td>\n",
              "    </tr>\n",
              "    <tr>\n",
              "      <th>...</th>\n",
              "      <td>...</td>\n",
              "      <td>...</td>\n",
              "      <td>...</td>\n",
              "      <td>...</td>\n",
              "      <td>...</td>\n",
              "      <td>...</td>\n",
              "      <td>...</td>\n",
              "      <td>...</td>\n",
              "      <td>...</td>\n",
              "      <td>...</td>\n",
              "    </tr>\n",
              "    <tr>\n",
              "      <th>13772</th>\n",
              "      <td>Lego Star Wars: The Force Awakens</td>\n",
              "      <td>XOne</td>\n",
              "      <td>2016</td>\n",
              "      <td>Action</td>\n",
              "      <td>Warner Bros. Interactive Entertainment</td>\n",
              "      <td>0.12</td>\n",
              "      <td>0.10</td>\n",
              "      <td>0.00</td>\n",
              "      <td>0.02</td>\n",
              "      <td>0.24</td>\n",
              "    </tr>\n",
              "    <tr>\n",
              "      <th>5311</th>\n",
              "      <td>Brothers Conflict: Precious Baby</td>\n",
              "      <td>PSV</td>\n",
              "      <td>2017</td>\n",
              "      <td>Action</td>\n",
              "      <td>Idea Factory</td>\n",
              "      <td>0.00</td>\n",
              "      <td>0.00</td>\n",
              "      <td>0.01</td>\n",
              "      <td>0.00</td>\n",
              "      <td>0.01</td>\n",
              "    </tr>\n",
              "    <tr>\n",
              "      <th>15234</th>\n",
              "      <td>Phantasy Star Online 2 Episode 4: Deluxe Package</td>\n",
              "      <td>PSV</td>\n",
              "      <td>2017</td>\n",
              "      <td>Role-Playing</td>\n",
              "      <td>Sega</td>\n",
              "      <td>0.00</td>\n",
              "      <td>0.00</td>\n",
              "      <td>0.01</td>\n",
              "      <td>0.00</td>\n",
              "      <td>0.01</td>\n",
              "    </tr>\n",
              "    <tr>\n",
              "      <th>10108</th>\n",
              "      <td>Phantasy Star Online 2 Episode 4: Deluxe Package</td>\n",
              "      <td>PS4</td>\n",
              "      <td>2017</td>\n",
              "      <td>Role-Playing</td>\n",
              "      <td>Sega</td>\n",
              "      <td>0.00</td>\n",
              "      <td>0.00</td>\n",
              "      <td>0.03</td>\n",
              "      <td>0.00</td>\n",
              "      <td>0.03</td>\n",
              "    </tr>\n",
              "    <tr>\n",
              "      <th>6907</th>\n",
              "      <td>Imagine: Makeup Artist</td>\n",
              "      <td>DS</td>\n",
              "      <td>2020</td>\n",
              "      <td>Simulation</td>\n",
              "      <td>Ubisoft</td>\n",
              "      <td>0.27</td>\n",
              "      <td>0.00</td>\n",
              "      <td>0.00</td>\n",
              "      <td>0.02</td>\n",
              "      <td>0.29</td>\n",
              "    </tr>\n",
              "  </tbody>\n",
              "</table>\n",
              "<p>16277 rows × 10 columns</p>\n",
              "</div>"
            ],
            "text/plain": [
              "                                                        Name  ... Total_Sales\n",
              "Unnamed: 0                                                    ...            \n",
              "13134                                                Freeway  ...        0.34\n",
              "7318                                                Checkers  ...        0.23\n",
              "14265                                                 Boxing  ...        0.77\n",
              "9227                                                  Bridge  ...        0.27\n",
              "5724                                               Asteroids  ...        4.31\n",
              "...                                                      ...  ...         ...\n",
              "13772                      Lego Star Wars: The Force Awakens  ...        0.24\n",
              "5311                        Brothers Conflict: Precious Baby  ...        0.01\n",
              "15234       Phantasy Star Online 2 Episode 4: Deluxe Package  ...        0.01\n",
              "10108       Phantasy Star Online 2 Episode 4: Deluxe Package  ...        0.03\n",
              "6907                                  Imagine: Makeup Artist  ...        0.29\n",
              "\n",
              "[16277 rows x 10 columns]"
            ]
          },
          "metadata": {
            "tags": []
          },
          "execution_count": 263
        }
      ]
    },
    {
      "cell_type": "code",
      "metadata": {
        "id": "GWTXOCoHBpib"
      },
      "source": [
        "yearbygenre = pd.crosstab(subset2align['Year'],subset2align['Genre'])\r\n",
        "yearbygenre"
      ],
      "execution_count": null,
      "outputs": []
    },
    {
      "cell_type": "code",
      "metadata": {
        "colab": {
          "base_uri": "https://localhost:8080/"
        },
        "id": "146bDKz5KKud",
        "outputId": "960fbb46-d2c0-4aec-9314-0d3ded7daee5"
      },
      "source": [
        "from scipy.stats import chi2_contingency\r\n",
        "\r\n",
        "chi2_contingency(yearbygenre)\r\n",
        "#귀무가설: 연도와 장르는 독립적이다.\r\n",
        "#대안가설: 연도와 장르는 독립적이지 않다.\r\n",
        "#pvalue가 0이기 때문에 유의수준 5%하에서 독립적이라는 귀무가설을 기각한다."
      ],
      "execution_count": 306,
      "outputs": [
        {
          "output_type": "execute_result",
          "data": {
            "text/plain": [
              "(2762.7998731892862,\n",
              " 0.0,\n",
              " 418,\n",
              " array([[1.59341402e+00, 6.24193647e-01, 4.10395036e-01, 8.37992259e-01,\n",
              "         4.29563187e-01, 2.78675432e-01, 5.99619094e-01, 7.20525895e-01,\n",
              "         6.29108558e-01, 4.17275911e-01, 1.12993795e+00, 3.29299011e-01],\n",
              "        [9.16213061e+00, 3.58911347e+00, 2.35977146e+00, 4.81845549e+00,\n",
              "         2.46998833e+00, 1.60238373e+00, 3.44780979e+00, 4.14302390e+00,\n",
              "         3.61737421e+00, 2.39933649e+00, 6.49714321e+00, 1.89346931e+00],\n",
              "        [7.17036309e+00, 2.80887141e+00, 1.84677766e+00, 3.77096517e+00,\n",
              "         1.93303434e+00, 1.25403944e+00, 2.69828592e+00, 3.24236653e+00,\n",
              "         2.83098851e+00, 1.87774160e+00, 5.08472077e+00, 1.48184555e+00],\n",
              "        [3.38600479e+00, 1.32641150e+00, 8.72089451e-01, 1.78073355e+00,\n",
              "         9.12821773e-01, 5.92185292e-01, 1.27419058e+00, 1.53111753e+00,\n",
              "         1.33685569e+00, 8.86711310e-01, 2.40111814e+00, 6.99760398e-01],\n",
              "        [2.78847453e+00, 1.09233888e+00, 7.18191313e-01, 1.46648645e+00,\n",
              "         7.51735578e-01, 4.87682005e-01, 1.04933342e+00, 1.26092032e+00,\n",
              "         1.10093998e+00, 7.30232844e-01, 1.97739141e+00, 5.76273269e-01],\n",
              "        [2.78847453e+00, 1.09233888e+00, 7.18191313e-01, 1.46648645e+00,\n",
              "         7.51735578e-01, 4.87682005e-01, 1.04933342e+00, 1.26092032e+00,\n",
              "         1.10093998e+00, 7.30232844e-01, 1.97739141e+00, 5.76273269e-01],\n",
              "        [4.18271180e+00, 1.63850832e+00, 1.07728697e+00, 2.19972968e+00,\n",
              "         1.12760337e+00, 7.31523008e-01, 1.57400012e+00, 1.89138048e+00,\n",
              "         1.65140996e+00, 1.09534927e+00, 2.96608712e+00, 8.64409904e-01],\n",
              "        [3.18682804e+00, 1.24838729e+00, 8.20790072e-01, 1.67598452e+00,\n",
              "         8.59126375e-01, 5.57350863e-01, 1.19923819e+00, 1.44105179e+00,\n",
              "         1.25821712e+00, 8.34551822e-01, 2.25987590e+00, 6.58598022e-01],\n",
              "        [2.98765129e+00, 1.17036309e+00, 7.69490692e-01, 1.57123549e+00,\n",
              "         8.05430976e-01, 5.22516434e-01, 1.12428580e+00, 1.35098605e+00,\n",
              "         1.17957855e+00, 7.82392333e-01, 2.11863365e+00, 6.17435645e-01],\n",
              "        [3.38600479e+00, 1.32641150e+00, 8.72089451e-01, 1.78073355e+00,\n",
              "         9.12821773e-01, 5.92185292e-01, 1.27419058e+00, 1.53111753e+00,\n",
              "         1.33685569e+00, 8.86711310e-01, 2.40111814e+00, 6.99760398e-01],\n",
              "        [3.18682804e+00, 1.24838729e+00, 8.20790072e-01, 1.67598452e+00,\n",
              "         8.59126375e-01, 5.57350863e-01, 1.19923819e+00, 1.44105179e+00,\n",
              "         1.25821712e+00, 8.34551822e-01, 2.25987590e+00, 6.58598022e-01],\n",
              "        [8.16624685e+00, 3.19899244e+00, 2.10327456e+00, 4.29471033e+00,\n",
              "         2.20151134e+00, 1.42821159e+00, 3.07304786e+00, 3.69269521e+00,\n",
              "         3.22418136e+00, 2.13853904e+00, 5.79093199e+00, 1.68765743e+00],\n",
              "        [8.56460036e+00, 3.35504086e+00, 2.20587332e+00, 4.50420839e+00,\n",
              "         2.30890213e+00, 1.49788044e+00, 3.22295263e+00, 3.87282669e+00,\n",
              "         3.38145850e+00, 2.24285802e+00, 6.07341648e+00, 1.76998218e+00],\n",
              "        [1.19506051e+01, 4.68145236e+00, 3.07796277e+00, 6.28494194e+00,\n",
              "         3.22172390e+00, 2.09006574e+00, 4.49714321e+00, 5.40394422e+00,\n",
              "         4.71831419e+00, 3.12956933e+00, 8.47453462e+00, 2.46974258e+00],\n",
              "        [2.41003870e+01, 9.44092892e+00, 6.20722492e+00, 1.26746329e+01,\n",
              "         6.49714321e+00, 4.21496590e+00, 9.06923880e+00, 1.08979542e+01,\n",
              "         9.51526694e+00, 6.31129815e+00, 1.70903115e+01, 4.98064754e+00],\n",
              "        [4.36197088e+01, 1.70873011e+01, 1.12345641e+01, 2.29400381e+01,\n",
              "         1.17592923e+01, 7.62873994e+00, 1.64145727e+01, 1.97243964e+01,\n",
              "         1.72218468e+01, 1.14229281e+01, 3.09320514e+01, 9.01456042e+00],\n",
              "        [5.21843091e+01, 2.04423420e+01, 1.34404374e+01, 2.74442465e+01,\n",
              "         1.40681944e+01, 9.12662038e+00, 1.96375253e+01, 2.35972231e+01,\n",
              "         2.06033053e+01, 1.36657861e+01, 3.70054678e+01, 1.07845426e+01],\n",
              "        [5.75620815e+01, 2.25489955e+01, 1.48255207e+01, 3.02724704e+01,\n",
              "         1.55179701e+01, 1.00671500e+01, 2.16612398e+01, 2.60289980e+01,\n",
              "         2.27265467e+01, 1.50740923e+01, 4.08190084e+01, 1.18959268e+01],\n",
              "        [7.50896357e+01, 2.94151256e+01, 1.93398661e+01, 3.94903852e+01,\n",
              "         2.02431652e+01, 1.31325797e+01, 2.82570498e+01, 3.39547828e+01,\n",
              "         2.96467408e+01, 1.96641273e+01, 5.32483259e+01, 1.55182159e+01],\n",
              "        [6.69233888e+01, 2.62161332e+01, 1.72365915e+01, 3.51956749e+01,\n",
              "         1.80416539e+01, 1.17043681e+01, 2.51840020e+01, 3.02620876e+01,\n",
              "         2.64225594e+01, 1.75255883e+01, 4.74573939e+01, 1.38305585e+01],\n",
              "        [6.93135099e+01, 2.71524237e+01, 1.78521841e+01, 3.64526633e+01,\n",
              "         1.86859986e+01, 1.21223813e+01, 2.60834306e+01, 3.13428765e+01,\n",
              "         2.73662223e+01, 1.81515021e+01, 4.91523008e+01, 1.43245070e+01],\n",
              "        [9.56048412e+01, 3.74516188e+01, 2.46237022e+01, 5.02795355e+01,\n",
              "         2.57737912e+01, 1.67205259e+01, 3.59771457e+01, 4.32315537e+01,\n",
              "         3.77465135e+01, 2.50365546e+01, 6.77962770e+01, 1.97579407e+01],\n",
              "        [1.64519998e+02, 6.44479941e+01, 4.23732875e+01, 8.65227007e+01,\n",
              "         4.43523991e+01, 2.87732383e+01, 6.19106715e+01, 7.43942987e+01,\n",
              "         6.49554586e+01, 4.30837378e+01, 1.16666093e+02, 3.40001229e+01],\n",
              "        [1.54162806e+02, 6.03907354e+01, 3.97057197e+01, 8.10757511e+01,\n",
              "         4.15602384e+01, 2.69618480e+01, 5.80131474e+01, 6.97108804e+01,\n",
              "         6.08662530e+01, 4.03714444e+01, 1.09321497e+02, 3.18596793e+01],\n",
              "        [1.51175155e+02, 5.92203723e+01, 3.89362290e+01, 7.95045156e+01,\n",
              "         4.07548074e+01, 2.64393316e+01, 5.68888616e+01, 6.83598943e+01,\n",
              "         5.96866744e+01, 3.95890520e+01, 1.07202863e+02, 3.12422437e+01],\n",
              "        [1.87026971e+02, 7.32647294e+01, 4.81701173e+01, 9.83593414e+01,\n",
              "         5.04199791e+01, 3.27095288e+01, 7.03802912e+01, 8.45717270e+01,\n",
              "         7.38416170e+01, 4.89777600e+01, 1.32626467e+02, 3.86514714e+01],\n",
              "        [2.00172636e+02, 7.84143270e+01, 5.15558764e+01, 1.05272778e+02,\n",
              "         5.39638754e+01, 3.50086011e+01, 7.53271487e+01, 9.05160656e+01,\n",
              "         7.90317626e+01, 5.24202863e+01, 1.41948455e+02, 4.13681882e+01],\n",
              "        [2.38215396e+02, 9.33169503e+01, 6.13540579e+01, 1.25279843e+02,\n",
              "         6.42196965e+01, 4.16619770e+01, 8.96430546e+01, 1.07718621e+02,\n",
              "         9.40517294e+01, 6.23827487e+01, 1.68925723e+02, 4.92302021e+01],\n",
              "        [2.83428519e+02, 1.11028445e+02, 7.29990170e+01, 1.49057873e+02,\n",
              "         7.64085519e+01, 4.95693924e+01, 1.06657246e+02, 1.28163544e+02,\n",
              "         1.11902685e+02, 7.42229526e+01, 2.00987713e+02, 5.85740616e+01],\n",
              "        [2.84424403e+02, 1.11418566e+02, 7.32555139e+01, 1.49581618e+02,\n",
              "         7.66770289e+01, 4.97435645e+01, 1.07032008e+02, 1.28613872e+02,\n",
              "         1.12295878e+02, 7.44837501e+01, 2.01693924e+02, 5.87798734e+01],\n",
              "        [2.49966824e+02, 9.79203784e+01, 6.43807213e+01, 1.31460036e+02,\n",
              "         6.73877250e+01, 4.37172083e+01, 9.40652454e+01, 1.13032500e+02,\n",
              "         9.86914051e+01, 6.54601585e+01, 1.77259016e+02, 5.16587823e+01],\n",
              "        [2.26264791e+02, 8.86354979e+01, 5.82760951e+01, 1.18994901e+02,\n",
              "         6.09979726e+01, 3.95719113e+01, 8.51459114e+01, 1.02314677e+02,\n",
              "         8.93334152e+01, 5.92531793e+01, 1.60451189e+02, 4.67604595e+01],\n",
              "        [1.30261596e+02, 5.10278307e+01, 3.35497942e+01, 6.85058672e+01,\n",
              "         3.51167906e+01, 2.27817165e+01, 4.90188610e+01, 5.89029920e+01,\n",
              "         5.14296246e+01, 3.41123057e+01, 9.23724274e+01, 2.69201941e+01],\n",
              "        [1.08551330e+02, 4.25231922e+01, 2.79581618e+01, 5.70882226e+01,\n",
              "         2.92639921e+01, 1.89847638e+01, 4.08490508e+01, 4.90858266e+01,\n",
              "         4.28580205e+01, 2.84269214e+01, 7.69770228e+01, 2.24334951e+01],\n",
              "        [1.15920870e+02, 4.54100879e+01, 2.98562389e+01, 6.09639368e+01,\n",
              "         3.12507219e+01, 2.02736376e+01, 4.36222891e+01, 5.24182589e+01,\n",
              "         4.57676476e+01, 3.03568225e+01, 8.22029858e+01, 2.39565030e+01],\n",
              "        [1.21696996e+02, 4.76727898e+01, 3.13439209e+01, 6.40016588e+01,\n",
              "         3.28078884e+01, 2.12838361e+01, 4.57959083e+01, 5.50301653e+01,\n",
              "         4.80481661e+01, 3.18694477e+01, 8.62990109e+01, 2.51502120e+01],\n",
              "        [6.85168029e+01, 2.68403268e+01, 1.76469865e+01, 3.60336671e+01,\n",
              "         1.84712171e+01, 1.19830436e+01, 2.57836211e+01, 3.09826135e+01,\n",
              "         2.70516680e+01, 1.79428642e+01, 4.85873318e+01, 1.41598575e+01],\n",
              "        [5.97530257e-01, 2.34072618e-01, 1.53898138e-01, 3.14247097e-01,\n",
              "         1.61086195e-01, 1.04503287e-01, 2.24857160e-01, 2.70197211e-01,\n",
              "         2.35915709e-01, 1.56478467e-01, 4.23726731e-01, 1.23487129e-01],\n",
              "        [1.99176752e-01, 7.80242059e-02, 5.12993795e-02, 1.04749032e-01,\n",
              "         5.36953984e-02, 3.48344289e-02, 7.49523868e-02, 9.00657369e-02,\n",
              "         7.86385698e-02, 5.21594888e-02, 1.41242244e-01, 4.11623764e-02]]))"
            ]
          },
          "metadata": {
            "tags": []
          },
          "execution_count": 306
        }
      ]
    },
    {
      "cell_type": "code",
      "metadata": {
        "id": "GQpH1AFdZL75"
      },
      "source": [
        "tidy1 = subset2drop.melt(id_vars=['Year','Genre'], value_vars = ['Total_Sales'])\r\n",
        "tidy1 = tidy1.drop(columns=['variable'])\r\n",
        "tidy1"
      ],
      "execution_count": null,
      "outputs": []
    },
    {
      "cell_type": "code",
      "metadata": {
        "id": "QeHI-Gcfjy4C"
      },
      "source": [
        "tidy1 = tidy1.groupby([\"Year\",'Genre']).sum()\r\n",
        "tidy1"
      ],
      "execution_count": null,
      "outputs": []
    },
    {
      "cell_type": "code",
      "metadata": {
        "id": "CXp5Yxo64UyG"
      },
      "source": [
        "tidy3 = tidy1.reset_index()\r\n",
        "tidy3"
      ],
      "execution_count": null,
      "outputs": []
    },
    {
      "cell_type": "code",
      "metadata": {
        "colab": {
          "base_uri": "https://localhost:8080/",
          "height": 1000
        },
        "id": "UB0rwIA1tS84",
        "outputId": "7490961f-ac9b-42fe-ff84-9fd723321412"
      },
      "source": [
        "pivot1 = pd.pivot_table(tidy3, index='Year', columns='Genre', values='value').fillna(0)\r\n",
        "pivot1\r\n"
      ],
      "execution_count": 128,
      "outputs": [
        {
          "output_type": "execute_result",
          "data": {
            "text/html": [
              "<div>\n",
              "<style scoped>\n",
              "    .dataframe tbody tr th:only-of-type {\n",
              "        vertical-align: middle;\n",
              "    }\n",
              "\n",
              "    .dataframe tbody tr th {\n",
              "        vertical-align: top;\n",
              "    }\n",
              "\n",
              "    .dataframe thead th {\n",
              "        text-align: right;\n",
              "    }\n",
              "</style>\n",
              "<table border=\"1\" class=\"dataframe\">\n",
              "  <thead>\n",
              "    <tr style=\"text-align: right;\">\n",
              "      <th>Genre</th>\n",
              "      <th>Action</th>\n",
              "      <th>Adventure</th>\n",
              "      <th>Fighting</th>\n",
              "      <th>Misc</th>\n",
              "      <th>Platform</th>\n",
              "      <th>Puzzle</th>\n",
              "      <th>Racing</th>\n",
              "      <th>Role-Playing</th>\n",
              "      <th>Shooter</th>\n",
              "      <th>Simulation</th>\n",
              "      <th>Sports</th>\n",
              "      <th>Strategy</th>\n",
              "    </tr>\n",
              "    <tr>\n",
              "      <th>Year</th>\n",
              "      <th></th>\n",
              "      <th></th>\n",
              "      <th></th>\n",
              "      <th></th>\n",
              "      <th></th>\n",
              "      <th></th>\n",
              "      <th></th>\n",
              "      <th></th>\n",
              "      <th></th>\n",
              "      <th></th>\n",
              "      <th></th>\n",
              "      <th></th>\n",
              "    </tr>\n",
              "  </thead>\n",
              "  <tbody>\n",
              "    <tr>\n",
              "      <th>1980</th>\n",
              "      <td>0.34</td>\n",
              "      <td>0.00</td>\n",
              "      <td>0.77</td>\n",
              "      <td>2.70</td>\n",
              "      <td>0.00</td>\n",
              "      <td>0.00</td>\n",
              "      <td>0.00</td>\n",
              "      <td>0.00</td>\n",
              "      <td>7.07</td>\n",
              "      <td>0.00</td>\n",
              "      <td>0.00</td>\n",
              "      <td>0.00</td>\n",
              "    </tr>\n",
              "    <tr>\n",
              "      <th>1981</th>\n",
              "      <td>14.79</td>\n",
              "      <td>0.00</td>\n",
              "      <td>0.00</td>\n",
              "      <td>0.00</td>\n",
              "      <td>6.92</td>\n",
              "      <td>2.25</td>\n",
              "      <td>0.48</td>\n",
              "      <td>0.00</td>\n",
              "      <td>10.02</td>\n",
              "      <td>0.44</td>\n",
              "      <td>0.78</td>\n",
              "      <td>0.00</td>\n",
              "    </tr>\n",
              "    <tr>\n",
              "      <th>1982</th>\n",
              "      <td>6.50</td>\n",
              "      <td>0.00</td>\n",
              "      <td>0.00</td>\n",
              "      <td>0.87</td>\n",
              "      <td>5.03</td>\n",
              "      <td>10.04</td>\n",
              "      <td>1.57</td>\n",
              "      <td>0.00</td>\n",
              "      <td>3.81</td>\n",
              "      <td>0.00</td>\n",
              "      <td>1.06</td>\n",
              "      <td>0.00</td>\n",
              "    </tr>\n",
              "    <tr>\n",
              "      <th>1983</th>\n",
              "      <td>2.86</td>\n",
              "      <td>0.40</td>\n",
              "      <td>0.00</td>\n",
              "      <td>2.14</td>\n",
              "      <td>6.93</td>\n",
              "      <td>0.78</td>\n",
              "      <td>0.00</td>\n",
              "      <td>0.00</td>\n",
              "      <td>0.49</td>\n",
              "      <td>0.00</td>\n",
              "      <td>3.20</td>\n",
              "      <td>0.00</td>\n",
              "    </tr>\n",
              "    <tr>\n",
              "      <th>1984</th>\n",
              "      <td>1.85</td>\n",
              "      <td>0.00</td>\n",
              "      <td>0.00</td>\n",
              "      <td>1.45</td>\n",
              "      <td>0.69</td>\n",
              "      <td>3.14</td>\n",
              "      <td>5.95</td>\n",
              "      <td>0.00</td>\n",
              "      <td>31.10</td>\n",
              "      <td>0.00</td>\n",
              "      <td>6.17</td>\n",
              "      <td>0.00</td>\n",
              "    </tr>\n",
              "    <tr>\n",
              "      <th>1985</th>\n",
              "      <td>3.52</td>\n",
              "      <td>0.00</td>\n",
              "      <td>1.05</td>\n",
              "      <td>0.00</td>\n",
              "      <td>43.17</td>\n",
              "      <td>3.21</td>\n",
              "      <td>0.00</td>\n",
              "      <td>0.00</td>\n",
              "      <td>1.00</td>\n",
              "      <td>0.04</td>\n",
              "      <td>1.96</td>\n",
              "      <td>0.00</td>\n",
              "    </tr>\n",
              "    <tr>\n",
              "      <th>1986</th>\n",
              "      <td>13.74</td>\n",
              "      <td>0.00</td>\n",
              "      <td>0.00</td>\n",
              "      <td>0.00</td>\n",
              "      <td>9.39</td>\n",
              "      <td>0.00</td>\n",
              "      <td>1.96</td>\n",
              "      <td>2.52</td>\n",
              "      <td>3.89</td>\n",
              "      <td>0.00</td>\n",
              "      <td>5.58</td>\n",
              "      <td>0.00</td>\n",
              "    </tr>\n",
              "    <tr>\n",
              "      <th>1987</th>\n",
              "      <td>1.11</td>\n",
              "      <td>4.38</td>\n",
              "      <td>5.42</td>\n",
              "      <td>0.00</td>\n",
              "      <td>1.74</td>\n",
              "      <td>0.00</td>\n",
              "      <td>0.00</td>\n",
              "      <td>4.65</td>\n",
              "      <td>0.69</td>\n",
              "      <td>0.00</td>\n",
              "      <td>3.71</td>\n",
              "      <td>0.00</td>\n",
              "    </tr>\n",
              "    <tr>\n",
              "      <th>1988</th>\n",
              "      <td>1.74</td>\n",
              "      <td>0.00</td>\n",
              "      <td>0.00</td>\n",
              "      <td>0.00</td>\n",
              "      <td>27.73</td>\n",
              "      <td>5.58</td>\n",
              "      <td>2.14</td>\n",
              "      <td>5.88</td>\n",
              "      <td>0.51</td>\n",
              "      <td>0.03</td>\n",
              "      <td>3.60</td>\n",
              "      <td>0.00</td>\n",
              "    </tr>\n",
              "    <tr>\n",
              "      <th>1989</th>\n",
              "      <td>4.65</td>\n",
              "      <td>0.00</td>\n",
              "      <td>0.00</td>\n",
              "      <td>1.28</td>\n",
              "      <td>20.66</td>\n",
              "      <td>37.75</td>\n",
              "      <td>0.00</td>\n",
              "      <td>2.20</td>\n",
              "      <td>1.19</td>\n",
              "      <td>0.00</td>\n",
              "      <td>5.72</td>\n",
              "      <td>0.00</td>\n",
              "    </tr>\n",
              "    <tr>\n",
              "      <th>1990</th>\n",
              "      <td>6.39</td>\n",
              "      <td>0.00</td>\n",
              "      <td>0.00</td>\n",
              "      <td>0.00</td>\n",
              "      <td>22.98</td>\n",
              "      <td>5.99</td>\n",
              "      <td>6.25</td>\n",
              "      <td>4.52</td>\n",
              "      <td>0.00</td>\n",
              "      <td>1.13</td>\n",
              "      <td>2.11</td>\n",
              "      <td>0.00</td>\n",
              "    </tr>\n",
              "    <tr>\n",
              "      <th>1991</th>\n",
              "      <td>6.76</td>\n",
              "      <td>2.24</td>\n",
              "      <td>0.39</td>\n",
              "      <td>0.08</td>\n",
              "      <td>7.63</td>\n",
              "      <td>3.24</td>\n",
              "      <td>1.14</td>\n",
              "      <td>3.26</td>\n",
              "      <td>1.99</td>\n",
              "      <td>2.15</td>\n",
              "      <td>2.41</td>\n",
              "      <td>0.94</td>\n",
              "    </tr>\n",
              "    <tr>\n",
              "      <th>1992</th>\n",
              "      <td>3.84</td>\n",
              "      <td>12.24</td>\n",
              "      <td>15.23</td>\n",
              "      <td>4.94</td>\n",
              "      <td>13.41</td>\n",
              "      <td>4.84</td>\n",
              "      <td>9.05</td>\n",
              "      <td>6.86</td>\n",
              "      <td>0.28</td>\n",
              "      <td>2.14</td>\n",
              "      <td>2.95</td>\n",
              "      <td>0.36</td>\n",
              "    </tr>\n",
              "    <tr>\n",
              "      <th>1993</th>\n",
              "      <td>1.81</td>\n",
              "      <td>0.07</td>\n",
              "      <td>8.75</td>\n",
              "      <td>0.30</td>\n",
              "      <td>18.68</td>\n",
              "      <td>3.17</td>\n",
              "      <td>0.36</td>\n",
              "      <td>5.59</td>\n",
              "      <td>3.08</td>\n",
              "      <td>0.19</td>\n",
              "      <td>3.18</td>\n",
              "      <td>0.81</td>\n",
              "    </tr>\n",
              "    <tr>\n",
              "      <th>1994</th>\n",
              "      <td>1.55</td>\n",
              "      <td>3.74</td>\n",
              "      <td>8.47</td>\n",
              "      <td>2.86</td>\n",
              "      <td>28.76</td>\n",
              "      <td>1.53</td>\n",
              "      <td>2.18</td>\n",
              "      <td>7.13</td>\n",
              "      <td>8.30</td>\n",
              "      <td>2.72</td>\n",
              "      <td>8.41</td>\n",
              "      <td>3.57</td>\n",
              "    </tr>\n",
              "    <tr>\n",
              "      <th>1995</th>\n",
              "      <td>3.58</td>\n",
              "      <td>0.71</td>\n",
              "      <td>14.84</td>\n",
              "      <td>6.39</td>\n",
              "      <td>16.69</td>\n",
              "      <td>2.69</td>\n",
              "      <td>6.09</td>\n",
              "      <td>14.27</td>\n",
              "      <td>4.15</td>\n",
              "      <td>4.17</td>\n",
              "      <td>7.99</td>\n",
              "      <td>6.54</td>\n",
              "    </tr>\n",
              "    <tr>\n",
              "      <th>1996</th>\n",
              "      <td>20.60</td>\n",
              "      <td>4.18</td>\n",
              "      <td>18.04</td>\n",
              "      <td>10.66</td>\n",
              "      <td>28.23</td>\n",
              "      <td>3.92</td>\n",
              "      <td>27.85</td>\n",
              "      <td>43.99</td>\n",
              "      <td>6.90</td>\n",
              "      <td>11.33</td>\n",
              "      <td>17.42</td>\n",
              "      <td>5.61</td>\n",
              "    </tr>\n",
              "    <tr>\n",
              "      <th>1997</th>\n",
              "      <td>27.59</td>\n",
              "      <td>4.97</td>\n",
              "      <td>11.80</td>\n",
              "      <td>5.68</td>\n",
              "      <td>21.86</td>\n",
              "      <td>5.87</td>\n",
              "      <td>31.92</td>\n",
              "      <td>21.82</td>\n",
              "      <td>22.16</td>\n",
              "      <td>9.64</td>\n",
              "      <td>30.04</td>\n",
              "      <td>7.72</td>\n",
              "    </tr>\n",
              "    <tr>\n",
              "      <th>1998</th>\n",
              "      <td>39.41</td>\n",
              "      <td>9.04</td>\n",
              "      <td>31.68</td>\n",
              "      <td>11.84</td>\n",
              "      <td>29.83</td>\n",
              "      <td>6.35</td>\n",
              "      <td>26.78</td>\n",
              "      <td>28.09</td>\n",
              "      <td>9.80</td>\n",
              "      <td>7.11</td>\n",
              "      <td>41.75</td>\n",
              "      <td>13.49</td>\n",
              "    </tr>\n",
              "    <tr>\n",
              "      <th>1999</th>\n",
              "      <td>27.62</td>\n",
              "      <td>7.61</td>\n",
              "      <td>14.31</td>\n",
              "      <td>20.68</td>\n",
              "      <td>20.80</td>\n",
              "      <td>1.34</td>\n",
              "      <td>37.19</td>\n",
              "      <td>47.24</td>\n",
              "      <td>12.23</td>\n",
              "      <td>11.46</td>\n",
              "      <td>30.21</td>\n",
              "      <td>18.47</td>\n",
              "    </tr>\n",
              "    <tr>\n",
              "      <th>2000</th>\n",
              "      <td>33.89</td>\n",
              "      <td>2.96</td>\n",
              "      <td>20.26</td>\n",
              "      <td>15.55</td>\n",
              "      <td>16.05</td>\n",
              "      <td>3.83</td>\n",
              "      <td>20.00</td>\n",
              "      <td>29.04</td>\n",
              "      <td>6.83</td>\n",
              "      <td>3.37</td>\n",
              "      <td>41.24</td>\n",
              "      <td>8.52</td>\n",
              "    </tr>\n",
              "    <tr>\n",
              "      <th>2001</th>\n",
              "      <td>56.68</td>\n",
              "      <td>8.96</td>\n",
              "      <td>18.10</td>\n",
              "      <td>16.39</td>\n",
              "      <td>39.33</td>\n",
              "      <td>7.94</td>\n",
              "      <td>55.83</td>\n",
              "      <td>22.02</td>\n",
              "      <td>24.81</td>\n",
              "      <td>19.54</td>\n",
              "      <td>51.47</td>\n",
              "      <td>7.54</td>\n",
              "    </tr>\n",
              "    <tr>\n",
              "      <th>2002</th>\n",
              "      <td>86.65</td>\n",
              "      <td>11.07</td>\n",
              "      <td>24.92</td>\n",
              "      <td>15.63</td>\n",
              "      <td>45.95</td>\n",
              "      <td>5.33</td>\n",
              "      <td>30.15</td>\n",
              "      <td>45.09</td>\n",
              "      <td>47.64</td>\n",
              "      <td>10.82</td>\n",
              "      <td>65.31</td>\n",
              "      <td>5.51</td>\n",
              "    </tr>\n",
              "    <tr>\n",
              "      <th>2003</th>\n",
              "      <td>67.98</td>\n",
              "      <td>2.12</td>\n",
              "      <td>23.79</td>\n",
              "      <td>23.79</td>\n",
              "      <td>42.82</td>\n",
              "      <td>1.71</td>\n",
              "      <td>52.18</td>\n",
              "      <td>30.29</td>\n",
              "      <td>27.10</td>\n",
              "      <td>21.21</td>\n",
              "      <td>55.96</td>\n",
              "      <td>7.95</td>\n",
              "    </tr>\n",
              "    <tr>\n",
              "      <th>2004</th>\n",
              "      <td>76.15</td>\n",
              "      <td>8.63</td>\n",
              "      <td>16.76</td>\n",
              "      <td>31.16</td>\n",
              "      <td>47.34</td>\n",
              "      <td>8.41</td>\n",
              "      <td>45.61</td>\n",
              "      <td>53.95</td>\n",
              "      <td>46.92</td>\n",
              "      <td>10.89</td>\n",
              "      <td>61.11</td>\n",
              "      <td>7.14</td>\n",
              "    </tr>\n",
              "    <tr>\n",
              "      <th>2005</th>\n",
              "      <td>85.52</td>\n",
              "      <td>8.53</td>\n",
              "      <td>19.68</td>\n",
              "      <td>61.13</td>\n",
              "      <td>22.81</td>\n",
              "      <td>20.26</td>\n",
              "      <td>56.40</td>\n",
              "      <td>28.51</td>\n",
              "      <td>41.57</td>\n",
              "      <td>49.28</td>\n",
              "      <td>59.53</td>\n",
              "      <td>5.34</td>\n",
              "    </tr>\n",
              "    <tr>\n",
              "      <th>2006</th>\n",
              "      <td>66.49</td>\n",
              "      <td>11.48</td>\n",
              "      <td>22.53</td>\n",
              "      <td>67.23</td>\n",
              "      <td>49.70</td>\n",
              "      <td>10.79</td>\n",
              "      <td>34.06</td>\n",
              "      <td>51.79</td>\n",
              "      <td>38.35</td>\n",
              "      <td>21.73</td>\n",
              "      <td>136.12</td>\n",
              "      <td>4.23</td>\n",
              "    </tr>\n",
              "    <tr>\n",
              "      <th>2007</th>\n",
              "      <td>105.99</td>\n",
              "      <td>24.44</td>\n",
              "      <td>17.63</td>\n",
              "      <td>92.28</td>\n",
              "      <td>35.53</td>\n",
              "      <td>23.78</td>\n",
              "      <td>38.95</td>\n",
              "      <td>43.86</td>\n",
              "      <td>70.88</td>\n",
              "      <td>48.85</td>\n",
              "      <td>98.24</td>\n",
              "      <td>9.38</td>\n",
              "    </tr>\n",
              "    <tr>\n",
              "      <th>2008</th>\n",
              "      <td>135.46</td>\n",
              "      <td>24.91</td>\n",
              "      <td>35.41</td>\n",
              "      <td>86.18</td>\n",
              "      <td>35.65</td>\n",
              "      <td>15.53</td>\n",
              "      <td>70.73</td>\n",
              "      <td>59.69</td>\n",
              "      <td>59.51</td>\n",
              "      <td>46.40</td>\n",
              "      <td>95.24</td>\n",
              "      <td>11.70</td>\n",
              "    </tr>\n",
              "    <tr>\n",
              "      <th>2009</th>\n",
              "      <td>138.32</td>\n",
              "      <td>20.67</td>\n",
              "      <td>32.18</td>\n",
              "      <td>76.90</td>\n",
              "      <td>40.95</td>\n",
              "      <td>20.28</td>\n",
              "      <td>34.09</td>\n",
              "      <td>47.96</td>\n",
              "      <td>69.84</td>\n",
              "      <td>33.55</td>\n",
              "      <td>138.59</td>\n",
              "      <td>12.51</td>\n",
              "    </tr>\n",
              "    <tr>\n",
              "      <th>2010</th>\n",
              "      <td>117.50</td>\n",
              "      <td>16.57</td>\n",
              "      <td>14.88</td>\n",
              "      <td>88.40</td>\n",
              "      <td>31.98</td>\n",
              "      <td>11.15</td>\n",
              "      <td>34.93</td>\n",
              "      <td>70.56</td>\n",
              "      <td>77.44</td>\n",
              "      <td>22.06</td>\n",
              "      <td>92.02</td>\n",
              "      <td>13.82</td>\n",
              "    </tr>\n",
              "    <tr>\n",
              "      <th>2011</th>\n",
              "      <td>119.00</td>\n",
              "      <td>15.88</td>\n",
              "      <td>22.11</td>\n",
              "      <td>55.77</td>\n",
              "      <td>28.12</td>\n",
              "      <td>5.10</td>\n",
              "      <td>34.97</td>\n",
              "      <td>53.32</td>\n",
              "      <td>99.35</td>\n",
              "      <td>15.33</td>\n",
              "      <td>57.06</td>\n",
              "      <td>9.03</td>\n",
              "    </tr>\n",
              "    <tr>\n",
              "      <th>2012</th>\n",
              "      <td>120.81</td>\n",
              "      <td>5.90</td>\n",
              "      <td>9.53</td>\n",
              "      <td>22.93</td>\n",
              "      <td>18.56</td>\n",
              "      <td>1.74</td>\n",
              "      <td>14.43</td>\n",
              "      <td>47.77</td>\n",
              "      <td>72.84</td>\n",
              "      <td>13.37</td>\n",
              "      <td>30.90</td>\n",
              "      <td>3.33</td>\n",
              "    </tr>\n",
              "    <tr>\n",
              "      <th>2013</th>\n",
              "      <td>125.21</td>\n",
              "      <td>6.61</td>\n",
              "      <td>7.23</td>\n",
              "      <td>25.66</td>\n",
              "      <td>25.09</td>\n",
              "      <td>1.00</td>\n",
              "      <td>13.02</td>\n",
              "      <td>30.54</td>\n",
              "      <td>62.73</td>\n",
              "      <td>8.68</td>\n",
              "      <td>41.54</td>\n",
              "      <td>6.32</td>\n",
              "    </tr>\n",
              "    <tr>\n",
              "      <th>2014</th>\n",
              "      <td>99.01</td>\n",
              "      <td>6.09</td>\n",
              "      <td>16.15</td>\n",
              "      <td>23.73</td>\n",
              "      <td>8.87</td>\n",
              "      <td>1.51</td>\n",
              "      <td>16.71</td>\n",
              "      <td>45.89</td>\n",
              "      <td>65.99</td>\n",
              "      <td>5.54</td>\n",
              "      <td>46.64</td>\n",
              "      <td>0.97</td>\n",
              "    </tr>\n",
              "    <tr>\n",
              "      <th>2015</th>\n",
              "      <td>68.25</td>\n",
              "      <td>8.01</td>\n",
              "      <td>7.78</td>\n",
              "      <td>11.66</td>\n",
              "      <td>6.05</td>\n",
              "      <td>0.69</td>\n",
              "      <td>7.92</td>\n",
              "      <td>36.43</td>\n",
              "      <td>66.12</td>\n",
              "      <td>5.61</td>\n",
              "      <td>41.49</td>\n",
              "      <td>1.82</td>\n",
              "    </tr>\n",
              "    <tr>\n",
              "      <th>2016</th>\n",
              "      <td>19.85</td>\n",
              "      <td>1.81</td>\n",
              "      <td>3.85</td>\n",
              "      <td>1.15</td>\n",
              "      <td>2.08</td>\n",
              "      <td>0.00</td>\n",
              "      <td>1.67</td>\n",
              "      <td>6.75</td>\n",
              "      <td>18.17</td>\n",
              "      <td>0.39</td>\n",
              "      <td>14.63</td>\n",
              "      <td>0.52</td>\n",
              "    </tr>\n",
              "    <tr>\n",
              "      <th>2017</th>\n",
              "      <td>0.01</td>\n",
              "      <td>0.00</td>\n",
              "      <td>0.00</td>\n",
              "      <td>0.00</td>\n",
              "      <td>0.00</td>\n",
              "      <td>0.00</td>\n",
              "      <td>0.00</td>\n",
              "      <td>0.04</td>\n",
              "      <td>0.00</td>\n",
              "      <td>0.00</td>\n",
              "      <td>0.00</td>\n",
              "      <td>0.00</td>\n",
              "    </tr>\n",
              "    <tr>\n",
              "      <th>2020</th>\n",
              "      <td>0.00</td>\n",
              "      <td>0.00</td>\n",
              "      <td>0.00</td>\n",
              "      <td>0.00</td>\n",
              "      <td>0.00</td>\n",
              "      <td>0.00</td>\n",
              "      <td>0.00</td>\n",
              "      <td>0.00</td>\n",
              "      <td>0.00</td>\n",
              "      <td>0.29</td>\n",
              "      <td>0.00</td>\n",
              "      <td>0.00</td>\n",
              "    </tr>\n",
              "  </tbody>\n",
              "</table>\n",
              "</div>"
            ],
            "text/plain": [
              "Genre  Action  Adventure  Fighting  ...  Simulation  Sports  Strategy\n",
              "Year                                ...                              \n",
              "1980     0.34       0.00      0.77  ...        0.00    0.00      0.00\n",
              "1981    14.79       0.00      0.00  ...        0.44    0.78      0.00\n",
              "1982     6.50       0.00      0.00  ...        0.00    1.06      0.00\n",
              "1983     2.86       0.40      0.00  ...        0.00    3.20      0.00\n",
              "1984     1.85       0.00      0.00  ...        0.00    6.17      0.00\n",
              "1985     3.52       0.00      1.05  ...        0.04    1.96      0.00\n",
              "1986    13.74       0.00      0.00  ...        0.00    5.58      0.00\n",
              "1987     1.11       4.38      5.42  ...        0.00    3.71      0.00\n",
              "1988     1.74       0.00      0.00  ...        0.03    3.60      0.00\n",
              "1989     4.65       0.00      0.00  ...        0.00    5.72      0.00\n",
              "1990     6.39       0.00      0.00  ...        1.13    2.11      0.00\n",
              "1991     6.76       2.24      0.39  ...        2.15    2.41      0.94\n",
              "1992     3.84      12.24     15.23  ...        2.14    2.95      0.36\n",
              "1993     1.81       0.07      8.75  ...        0.19    3.18      0.81\n",
              "1994     1.55       3.74      8.47  ...        2.72    8.41      3.57\n",
              "1995     3.58       0.71     14.84  ...        4.17    7.99      6.54\n",
              "1996    20.60       4.18     18.04  ...       11.33   17.42      5.61\n",
              "1997    27.59       4.97     11.80  ...        9.64   30.04      7.72\n",
              "1998    39.41       9.04     31.68  ...        7.11   41.75     13.49\n",
              "1999    27.62       7.61     14.31  ...       11.46   30.21     18.47\n",
              "2000    33.89       2.96     20.26  ...        3.37   41.24      8.52\n",
              "2001    56.68       8.96     18.10  ...       19.54   51.47      7.54\n",
              "2002    86.65      11.07     24.92  ...       10.82   65.31      5.51\n",
              "2003    67.98       2.12     23.79  ...       21.21   55.96      7.95\n",
              "2004    76.15       8.63     16.76  ...       10.89   61.11      7.14\n",
              "2005    85.52       8.53     19.68  ...       49.28   59.53      5.34\n",
              "2006    66.49      11.48     22.53  ...       21.73  136.12      4.23\n",
              "2007   105.99      24.44     17.63  ...       48.85   98.24      9.38\n",
              "2008   135.46      24.91     35.41  ...       46.40   95.24     11.70\n",
              "2009   138.32      20.67     32.18  ...       33.55  138.59     12.51\n",
              "2010   117.50      16.57     14.88  ...       22.06   92.02     13.82\n",
              "2011   119.00      15.88     22.11  ...       15.33   57.06      9.03\n",
              "2012   120.81       5.90      9.53  ...       13.37   30.90      3.33\n",
              "2013   125.21       6.61      7.23  ...        8.68   41.54      6.32\n",
              "2014    99.01       6.09     16.15  ...        5.54   46.64      0.97\n",
              "2015    68.25       8.01      7.78  ...        5.61   41.49      1.82\n",
              "2016    19.85       1.81      3.85  ...        0.39   14.63      0.52\n",
              "2017     0.01       0.00      0.00  ...        0.00    0.00      0.00\n",
              "2020     0.00       0.00      0.00  ...        0.29    0.00      0.00\n",
              "\n",
              "[39 rows x 12 columns]"
            ]
          },
          "metadata": {
            "tags": []
          },
          "execution_count": 128
        }
      ]
    },
    {
      "cell_type": "code",
      "metadata": {
        "colab": {
          "base_uri": "https://localhost:8080/",
          "height": 817
        },
        "id": "YPbAtLBDmqHb",
        "outputId": "6e456070-e150-4e1c-801f-ffef66fa0ddc"
      },
      "source": [
        "\r\n",
        "import plotly.graph_objects as go\r\n",
        "import plotly.express as px\r\n",
        "import plotly.io as pio\r\n",
        "pio.templates.default = \"ggplot2\"\r\n",
        "#px.defaults.template = \"\"\r\n",
        "#759d44\r\n",
        "\r\n",
        "fig = go.Figure(data=[\r\n",
        "    go.Bar(name='Action', x=pivot1.index, y= pivot1['Action'], marker=dict(color='#8f701f')),\r\n",
        "    go.Bar(name='Sports', x=pivot1.index, y=pivot1['Sports'], marker=dict(color='#858f20')),\r\n",
        "    go.Bar(name='Shooter', x=pivot1.index, y=pivot1['Shooter'], marker=dict(color='#c9ba73')),\r\n",
        "    go.Bar(name='Platform', x=pivot1.index, y=pivot1['Platform'], marker=dict(color='#ceca87')),\r\n",
        "    go.Bar(name='Misc', x=pivot1.index, y=pivot1['Misc'], marker=dict(color='#e8daa3')),\r\n",
        "    go.Bar(name='Racing', x=pivot1.index, y=pivot1['Racing'], marker=dict(color='#ffebc0')),\r\n",
        "    go.Bar(name='Role-Playing', x=pivot1.index, y=pivot1['Role-Playing'], marker=dict(color='#f8d2a0')),\r\n",
        "    go.Bar(name='Adventure', x=pivot1.index, y=pivot1['Adventure'], marker=dict(color='#f2b885')),\r\n",
        "    go.Bar(name='Fighting', x=pivot1.index, y=pivot1['Fighting'], marker=dict(color='#ec9d6f')),\r\n",
        "    go.Bar(name='Puzzle', x=pivot1.index, y=pivot1['Puzzle'], marker=dict(color='#e6805e')),\r\n",
        "    go.Bar(name='Simulation', x=pivot1.index, y=pivot1['Simulation'], marker=dict(color='#de6155')),\r\n",
        "    go.Bar(name='Strategy', x=pivot1.index, y=pivot1['Strategy'], marker=dict(color='#de425b'))\r\n",
        "])\r\n",
        "\r\n",
        "# Change the bar mode\r\n",
        "fig.update_layout(title=\"Total sales over time \",   autosize=False,\r\n",
        "    width=1500,\r\n",
        "    height=800,\r\n",
        "    xaxis_title=\"Year\",\r\n",
        "    yaxis_title=\"Sales\",\r\n",
        "    font=dict(size=18),barmode='stack')\r\n",
        "#fig.add_annotation( \r\n",
        "   # text=\"Nintendo Wii\", height = 80, x=\"Wii\", y=330, arrowsize = 5, arrowhead=6, showarrow=True\r\n",
        "#)\r\n",
        "fig.update_yaxes( # the y-axis is in dollars\r\n",
        "   ticksuffix=\"M($)\", showgrid=True)\r\n",
        "\r\n",
        "fig.show()"
      ],
      "execution_count": 225,
      "outputs": [
        {
          "output_type": "display_data",
          "data": {
            "text/html": [
              "<html>\n",
              "<head><meta charset=\"utf-8\" /></head>\n",
              "<body>\n",
              "    <div>\n",
              "            <script src=\"https://cdnjs.cloudflare.com/ajax/libs/mathjax/2.7.5/MathJax.js?config=TeX-AMS-MML_SVG\"></script><script type=\"text/javascript\">if (window.MathJax) {MathJax.Hub.Config({SVG: {font: \"STIX-Web\"}});}</script>\n",
              "                <script type=\"text/javascript\">window.PlotlyConfig = {MathJaxConfig: 'local'};</script>\n",
              "        <script src=\"https://cdn.plot.ly/plotly-latest.min.js\"></script>    \n",
              "            <div id=\"ce8d5e83-491b-41cf-929f-cd522d58ebfc\" class=\"plotly-graph-div\" style=\"height:800px; width:1500px;\"></div>\n",
              "            <script type=\"text/javascript\">\n",
              "                \n",
              "                    window.PLOTLYENV=window.PLOTLYENV || {};\n",
              "                    \n",
              "                if (document.getElementById(\"ce8d5e83-491b-41cf-929f-cd522d58ebfc\")) {\n",
              "                    Plotly.newPlot(\n",
              "                        'ce8d5e83-491b-41cf-929f-cd522d58ebfc',\n",
              "                        [{\"marker\": {\"color\": \"#8f701f\"}, \"name\": \"Action\", \"type\": \"bar\", \"x\": [1980, 1981, 1982, 1983, 1984, 1985, 1986, 1987, 1988, 1989, 1990, 1991, 1992, 1993, 1994, 1995, 1996, 1997, 1998, 1999, 2000, 2001, 2002, 2003, 2004, 2005, 2006, 2007, 2008, 2009, 2010, 2011, 2012, 2013, 2014, 2015, 2016, 2017, 2020], \"y\": [0.34, 14.790000000000003, 6.5, 2.8600000000000003, 1.8499999999999999, 3.52, 13.739999999999998, 1.11, 1.74, 4.65, 6.390000000000001, 6.76, 3.84, 1.81, 1.55, 3.5800000000000005, 20.599999999999998, 27.59, 39.41, 27.620000000000005, 33.88999999999999, 56.68, 86.65000000000002, 67.97999999999998, 76.14999999999999, 85.52000000000002, 66.49000000000002, 105.99000000000007, 135.45999999999998, 138.32000000000005, 117.49999999999999, 119.00000000000001, 120.81000000000006, 125.21000000000001, 99.01000000000006, 68.25000000000006, 19.849999999999987, 0.01, 0.0]}, {\"marker\": {\"color\": \"#858f20\"}, \"name\": \"Sports\", \"type\": \"bar\", \"x\": [1980, 1981, 1982, 1983, 1984, 1985, 1986, 1987, 1988, 1989, 1990, 1991, 1992, 1993, 1994, 1995, 1996, 1997, 1998, 1999, 2000, 2001, 2002, 2003, 2004, 2005, 2006, 2007, 2008, 2009, 2010, 2011, 2012, 2013, 2014, 2015, 2016, 2017, 2020], \"y\": [0.0, 0.78, 1.06, 3.2, 6.17, 1.96, 5.58, 3.71, 3.6, 5.720000000000001, 2.1100000000000003, 2.41, 2.95, 3.18, 8.409999999999998, 7.989999999999998, 17.42, 30.040000000000003, 41.74999999999999, 30.210000000000004, 41.24000000000001, 51.469999999999985, 65.31000000000003, 55.960000000000015, 61.11000000000003, 59.52999999999998, 136.12, 98.24000000000001, 95.23999999999995, 138.59, 92.02, 57.05999999999999, 30.899999999999984, 41.54, 46.64, 41.489999999999995, 14.629999999999999, 0.0, 0.0]}, {\"marker\": {\"color\": \"#c9ba73\"}, \"name\": \"Shooter\", \"type\": \"bar\", \"x\": [1980, 1981, 1982, 1983, 1984, 1985, 1986, 1987, 1988, 1989, 1990, 1991, 1992, 1993, 1994, 1995, 1996, 1997, 1998, 1999, 2000, 2001, 2002, 2003, 2004, 2005, 2006, 2007, 2008, 2009, 2010, 2011, 2012, 2013, 2014, 2015, 2016, 2017, 2020], \"y\": [7.069999999999999, 10.02, 3.8100000000000005, 0.49, 31.099999999999998, 1.0, 3.8899999999999997, 0.69, 0.51, 1.19, 0.0, 1.9899999999999998, 0.28, 3.0799999999999996, 8.299999999999999, 4.149999999999999, 6.900000000000002, 22.159999999999997, 9.799999999999999, 12.23, 6.829999999999999, 24.81, 47.63999999999999, 27.099999999999998, 46.92, 41.57, 38.35, 70.88000000000002, 59.509999999999984, 69.84000000000003, 77.43999999999998, 99.34999999999998, 72.83999999999999, 62.73, 65.99, 66.11999999999998, 18.169999999999995, 0.0, 0.0]}, {\"marker\": {\"color\": \"#ceca87\"}, \"name\": \"Platform\", \"type\": \"bar\", \"x\": [1980, 1981, 1982, 1983, 1984, 1985, 1986, 1987, 1988, 1989, 1990, 1991, 1992, 1993, 1994, 1995, 1996, 1997, 1998, 1999, 2000, 2001, 2002, 2003, 2004, 2005, 2006, 2007, 2008, 2009, 2010, 2011, 2012, 2013, 2014, 2015, 2016, 2017, 2020], \"y\": [0.0, 6.92, 5.03, 6.9300000000000015, 0.69, 43.17, 9.39, 1.74, 27.73, 20.660000000000004, 22.98, 7.630000000000001, 13.41, 18.68, 28.759999999999998, 16.69, 28.23, 21.86, 29.83, 20.8, 16.05, 39.330000000000005, 45.95000000000002, 42.82, 47.339999999999996, 22.810000000000002, 49.699999999999996, 35.53, 35.650000000000006, 40.949999999999996, 31.979999999999997, 28.120000000000005, 18.560000000000002, 25.090000000000003, 8.87, 6.050000000000001, 2.0799999999999996, 0.0, 0.0]}, {\"marker\": {\"color\": \"#e8daa3\"}, \"name\": \"Misc\", \"type\": \"bar\", \"x\": [1980, 1981, 1982, 1983, 1984, 1985, 1986, 1987, 1988, 1989, 1990, 1991, 1992, 1993, 1994, 1995, 1996, 1997, 1998, 1999, 2000, 2001, 2002, 2003, 2004, 2005, 2006, 2007, 2008, 2009, 2010, 2011, 2012, 2013, 2014, 2015, 2016, 2017, 2020], \"y\": [2.7, 0.0, 0.8700000000000001, 2.1399999999999997, 1.45, 0.0, 0.0, 0.0, 0.0, 1.28, 0.0, 0.08, 4.9399999999999995, 0.3, 2.8599999999999994, 6.39, 10.659999999999997, 5.68, 11.84, 20.679999999999993, 15.55, 16.389999999999997, 15.630000000000003, 23.790000000000003, 31.159999999999997, 61.12999999999999, 67.22999999999998, 92.27999999999999, 86.17999999999994, 76.89999999999998, 88.4, 55.77, 22.93, 25.659999999999993, 23.730000000000008, 11.66, 1.1500000000000006, 0.0, 0.0]}, {\"marker\": {\"color\": \"#ffebc0\"}, \"name\": \"Racing\", \"type\": \"bar\", \"x\": [1980, 1981, 1982, 1983, 1984, 1985, 1986, 1987, 1988, 1989, 1990, 1991, 1992, 1993, 1994, 1995, 1996, 1997, 1998, 1999, 2000, 2001, 2002, 2003, 2004, 2005, 2006, 2007, 2008, 2009, 2010, 2011, 2012, 2013, 2014, 2015, 2016, 2017, 2020], \"y\": [0.0, 0.48, 1.5700000000000003, 0.0, 5.949999999999999, 0.0, 1.96, 0.0, 2.14, 0.0, 6.25, 1.14, 9.049999999999999, 0.36, 2.18, 6.090000000000001, 27.85, 31.920000000000005, 26.78, 37.18999999999999, 19.999999999999996, 55.82999999999998, 30.149999999999995, 52.18, 45.61000000000001, 56.40000000000002, 34.06, 38.95000000000002, 70.72999999999998, 34.09, 34.929999999999986, 34.970000000000006, 14.429999999999998, 13.019999999999998, 16.709999999999997, 7.919999999999999, 1.6700000000000002, 0.0, 0.0]}, {\"marker\": {\"color\": \"#f8d2a0\"}, \"name\": \"Role-Playing\", \"type\": \"bar\", \"x\": [1980, 1981, 1982, 1983, 1984, 1985, 1986, 1987, 1988, 1989, 1990, 1991, 1992, 1993, 1994, 1995, 1996, 1997, 1998, 1999, 2000, 2001, 2002, 2003, 2004, 2005, 2006, 2007, 2008, 2009, 2010, 2011, 2012, 2013, 2014, 2015, 2016, 2017, 2020], \"y\": [0.0, 0.0, 0.0, 0.0, 0.0, 0.0, 2.52, 4.65, 5.88, 2.2, 4.52, 3.26, 6.859999999999999, 5.590000000000001, 7.130000000000001, 14.27, 43.99000000000003, 21.820000000000004, 28.09, 47.24000000000001, 29.039999999999996, 22.020000000000007, 45.089999999999996, 30.290000000000003, 53.949999999999996, 28.509999999999987, 51.78999999999999, 43.86, 59.69000000000002, 47.95999999999998, 70.56000000000002, 53.32000000000003, 47.77, 30.54, 45.88999999999999, 36.43000000000001, 6.749999999999998, 0.04, 0.0]}, {\"marker\": {\"color\": \"#f2b885\"}, \"name\": \"Adventure\", \"type\": \"bar\", \"x\": [1980, 1981, 1982, 1983, 1984, 1985, 1986, 1987, 1988, 1989, 1990, 1991, 1992, 1993, 1994, 1995, 1996, 1997, 1998, 1999, 2000, 2001, 2002, 2003, 2004, 2005, 2006, 2007, 2008, 2009, 2010, 2011, 2012, 2013, 2014, 2015, 2016, 2017, 2020], \"y\": [0.0, 0.0, 0.0, 0.4, 0.0, 0.0, 0.0, 4.38, 0.0, 0.0, 0.0, 2.24, 12.239999999999997, 0.07, 3.74, 0.7100000000000001, 4.18, 4.970000000000001, 9.04, 7.609999999999999, 2.96, 8.96, 11.07, 2.12, 8.629999999999999, 8.529999999999998, 11.479999999999993, 24.44, 24.909999999999997, 20.669999999999998, 16.56999999999998, 15.879999999999985, 5.899999999999998, 6.609999999999993, 6.089999999999996, 8.009999999999996, 1.8100000000000007, 0.0, 0.0]}, {\"marker\": {\"color\": \"#ec9d6f\"}, \"name\": \"Fighting\", \"type\": \"bar\", \"x\": [1980, 1981, 1982, 1983, 1984, 1985, 1986, 1987, 1988, 1989, 1990, 1991, 1992, 1993, 1994, 1995, 1996, 1997, 1998, 1999, 2000, 2001, 2002, 2003, 2004, 2005, 2006, 2007, 2008, 2009, 2010, 2011, 2012, 2013, 2014, 2015, 2016, 2017, 2020], \"y\": [0.77, 0.0, 0.0, 0.0, 0.0, 1.05, 0.0, 5.42, 0.0, 0.0, 0.0, 0.39, 15.23, 8.75, 8.47, 14.84, 18.04, 11.8, 31.68, 14.309999999999997, 20.26, 18.1, 24.92, 23.789999999999996, 16.76, 19.679999999999996, 22.530000000000005, 17.63, 35.40999999999999, 32.18000000000001, 14.879999999999999, 22.11, 9.529999999999998, 7.230000000000001, 16.15, 7.7799999999999985, 3.8499999999999996, 0.0, 0.0]}, {\"marker\": {\"color\": \"#e6805e\"}, \"name\": \"Puzzle\", \"type\": \"bar\", \"x\": [1980, 1981, 1982, 1983, 1984, 1985, 1986, 1987, 1988, 1989, 1990, 1991, 1992, 1993, 1994, 1995, 1996, 1997, 1998, 1999, 2000, 2001, 2002, 2003, 2004, 2005, 2006, 2007, 2008, 2009, 2010, 2011, 2012, 2013, 2014, 2015, 2016, 2017, 2020], \"y\": [0.0, 2.25, 10.040000000000001, 0.78, 3.1400000000000006, 3.21, 0.0, 0.0, 5.580000000000001, 37.75, 5.99, 3.2399999999999998, 4.84, 3.17, 1.53, 2.6899999999999995, 3.92, 5.87, 6.349999999999999, 1.34, 3.8300000000000005, 7.9399999999999995, 5.33, 1.7100000000000002, 8.41, 20.260000000000005, 10.789999999999997, 23.779999999999994, 15.529999999999992, 20.279999999999998, 11.149999999999999, 5.1000000000000005, 1.7400000000000002, 1.0, 1.5100000000000005, 0.6900000000000002, 0.0, 0.0, 0.0]}, {\"marker\": {\"color\": \"#de6155\"}, \"name\": \"Simulation\", \"type\": \"bar\", \"x\": [1980, 1981, 1982, 1983, 1984, 1985, 1986, 1987, 1988, 1989, 1990, 1991, 1992, 1993, 1994, 1995, 1996, 1997, 1998, 1999, 2000, 2001, 2002, 2003, 2004, 2005, 2006, 2007, 2008, 2009, 2010, 2011, 2012, 2013, 2014, 2015, 2016, 2017, 2020], \"y\": [0.0, 0.44, 0.0, 0.0, 0.0, 0.04, 0.0, 0.0, 0.03, 0.0, 1.13, 2.1500000000000004, 2.14, 0.19, 2.72, 4.17, 11.330000000000002, 9.64, 7.109999999999999, 11.46, 3.369999999999999, 19.540000000000003, 10.82, 21.210000000000004, 10.889999999999999, 49.280000000000015, 21.729999999999997, 48.85000000000002, 46.4, 33.550000000000004, 22.060000000000002, 15.329999999999997, 13.370000000000001, 8.68, 5.540000000000001, 5.610000000000001, 0.39, 0.0, 0.29000000000000004]}, {\"marker\": {\"color\": \"#de425b\"}, \"name\": \"Strategy\", \"type\": \"bar\", \"x\": [1980, 1981, 1982, 1983, 1984, 1985, 1986, 1987, 1988, 1989, 1990, 1991, 1992, 1993, 1994, 1995, 1996, 1997, 1998, 1999, 2000, 2001, 2002, 2003, 2004, 2005, 2006, 2007, 2008, 2009, 2010, 2011, 2012, 2013, 2014, 2015, 2016, 2017, 2020], \"y\": [0.0, 0.0, 0.0, 0.0, 0.0, 0.0, 0.0, 0.0, 0.0, 0.0, 0.0, 0.94, 0.36, 0.81, 3.5700000000000003, 6.539999999999999, 5.609999999999999, 7.720000000000002, 13.490000000000002, 18.47, 8.520000000000001, 7.540000000000001, 5.51, 7.95, 7.139999999999999, 5.339999999999999, 4.23, 9.379999999999997, 11.699999999999998, 12.509999999999996, 13.819999999999993, 9.03, 3.329999999999999, 6.32, 0.97, 1.8200000000000003, 0.52, 0.0, 0.0]}],\n",
              "                        {\"autosize\": false, \"barmode\": \"stack\", \"font\": {\"size\": 18}, \"height\": 800, \"template\": {\"data\": {\"bar\": [{\"error_x\": {\"color\": \"rgb(51,51,51)\"}, \"error_y\": {\"color\": \"rgb(51,51,51)\"}, \"marker\": {\"line\": {\"color\": \"rgb(237,237,237)\", \"width\": 0.5}}, \"type\": \"bar\"}], \"barpolar\": [{\"marker\": {\"line\": {\"color\": \"rgb(237,237,237)\", \"width\": 0.5}}, \"type\": \"barpolar\"}], \"carpet\": [{\"aaxis\": {\"endlinecolor\": \"rgb(51,51,51)\", \"gridcolor\": \"white\", \"linecolor\": \"white\", \"minorgridcolor\": \"white\", \"startlinecolor\": \"rgb(51,51,51)\"}, \"baxis\": {\"endlinecolor\": \"rgb(51,51,51)\", \"gridcolor\": \"white\", \"linecolor\": \"white\", \"minorgridcolor\": \"white\", \"startlinecolor\": \"rgb(51,51,51)\"}, \"type\": \"carpet\"}], \"choropleth\": [{\"colorbar\": {\"outlinewidth\": 0, \"tickcolor\": \"rgb(237,237,237)\", \"ticklen\": 6, \"ticks\": \"inside\"}, \"type\": \"choropleth\"}], \"contour\": [{\"colorbar\": {\"outlinewidth\": 0, \"tickcolor\": \"rgb(237,237,237)\", \"ticklen\": 6, \"ticks\": \"inside\"}, \"colorscale\": [[0, \"rgb(20,44,66)\"], [1, \"rgb(90,179,244)\"]], \"type\": \"contour\"}], \"contourcarpet\": [{\"colorbar\": {\"outlinewidth\": 0, \"tickcolor\": \"rgb(237,237,237)\", \"ticklen\": 6, \"ticks\": \"inside\"}, \"type\": \"contourcarpet\"}], \"heatmap\": [{\"colorbar\": {\"outlinewidth\": 0, \"tickcolor\": \"rgb(237,237,237)\", \"ticklen\": 6, \"ticks\": \"inside\"}, \"colorscale\": [[0, \"rgb(20,44,66)\"], [1, \"rgb(90,179,244)\"]], \"type\": \"heatmap\"}], \"heatmapgl\": [{\"colorbar\": {\"outlinewidth\": 0, \"tickcolor\": \"rgb(237,237,237)\", \"ticklen\": 6, \"ticks\": \"inside\"}, \"colorscale\": [[0, \"rgb(20,44,66)\"], [1, \"rgb(90,179,244)\"]], \"type\": \"heatmapgl\"}], \"histogram\": [{\"marker\": {\"colorbar\": {\"outlinewidth\": 0, \"tickcolor\": \"rgb(237,237,237)\", \"ticklen\": 6, \"ticks\": \"inside\"}}, \"type\": \"histogram\"}], \"histogram2d\": [{\"colorbar\": {\"outlinewidth\": 0, \"tickcolor\": \"rgb(237,237,237)\", \"ticklen\": 6, \"ticks\": \"inside\"}, \"colorscale\": [[0, \"rgb(20,44,66)\"], [1, \"rgb(90,179,244)\"]], \"type\": \"histogram2d\"}], \"histogram2dcontour\": [{\"colorbar\": {\"outlinewidth\": 0, \"tickcolor\": \"rgb(237,237,237)\", \"ticklen\": 6, \"ticks\": \"inside\"}, \"colorscale\": [[0, \"rgb(20,44,66)\"], [1, \"rgb(90,179,244)\"]], \"type\": \"histogram2dcontour\"}], \"mesh3d\": [{\"colorbar\": {\"outlinewidth\": 0, \"tickcolor\": \"rgb(237,237,237)\", \"ticklen\": 6, \"ticks\": \"inside\"}, \"type\": \"mesh3d\"}], \"parcoords\": [{\"line\": {\"colorbar\": {\"outlinewidth\": 0, \"tickcolor\": \"rgb(237,237,237)\", \"ticklen\": 6, \"ticks\": \"inside\"}}, \"type\": \"parcoords\"}], \"pie\": [{\"automargin\": true, \"type\": \"pie\"}], \"scatter\": [{\"marker\": {\"colorbar\": {\"outlinewidth\": 0, \"tickcolor\": \"rgb(237,237,237)\", \"ticklen\": 6, \"ticks\": \"inside\"}}, \"type\": \"scatter\"}], \"scatter3d\": [{\"line\": {\"colorbar\": {\"outlinewidth\": 0, \"tickcolor\": \"rgb(237,237,237)\", \"ticklen\": 6, \"ticks\": \"inside\"}}, \"marker\": {\"colorbar\": {\"outlinewidth\": 0, \"tickcolor\": \"rgb(237,237,237)\", \"ticklen\": 6, \"ticks\": \"inside\"}}, \"type\": \"scatter3d\"}], \"scattercarpet\": [{\"marker\": {\"colorbar\": {\"outlinewidth\": 0, \"tickcolor\": \"rgb(237,237,237)\", \"ticklen\": 6, \"ticks\": \"inside\"}}, \"type\": \"scattercarpet\"}], \"scattergeo\": [{\"marker\": {\"colorbar\": {\"outlinewidth\": 0, \"tickcolor\": \"rgb(237,237,237)\", \"ticklen\": 6, \"ticks\": \"inside\"}}, \"type\": \"scattergeo\"}], \"scattergl\": [{\"marker\": {\"colorbar\": {\"outlinewidth\": 0, \"tickcolor\": \"rgb(237,237,237)\", \"ticklen\": 6, \"ticks\": \"inside\"}}, \"type\": \"scattergl\"}], \"scattermapbox\": [{\"marker\": {\"colorbar\": {\"outlinewidth\": 0, \"tickcolor\": \"rgb(237,237,237)\", \"ticklen\": 6, \"ticks\": \"inside\"}}, \"type\": \"scattermapbox\"}], \"scatterpolar\": [{\"marker\": {\"colorbar\": {\"outlinewidth\": 0, \"tickcolor\": \"rgb(237,237,237)\", \"ticklen\": 6, \"ticks\": \"inside\"}}, \"type\": \"scatterpolar\"}], \"scatterpolargl\": [{\"marker\": {\"colorbar\": {\"outlinewidth\": 0, \"tickcolor\": \"rgb(237,237,237)\", \"ticklen\": 6, \"ticks\": \"inside\"}}, \"type\": \"scatterpolargl\"}], \"scatterternary\": [{\"marker\": {\"colorbar\": {\"outlinewidth\": 0, \"tickcolor\": \"rgb(237,237,237)\", \"ticklen\": 6, \"ticks\": \"inside\"}}, \"type\": \"scatterternary\"}], \"surface\": [{\"colorbar\": {\"outlinewidth\": 0, \"tickcolor\": \"rgb(237,237,237)\", \"ticklen\": 6, \"ticks\": \"inside\"}, \"colorscale\": [[0, \"rgb(20,44,66)\"], [1, \"rgb(90,179,244)\"]], \"type\": \"surface\"}], \"table\": [{\"cells\": {\"fill\": {\"color\": \"rgb(237,237,237)\"}, \"line\": {\"color\": \"white\"}}, \"header\": {\"fill\": {\"color\": \"rgb(217,217,217)\"}, \"line\": {\"color\": \"white\"}}, \"type\": \"table\"}]}, \"layout\": {\"annotationdefaults\": {\"arrowhead\": 0, \"arrowwidth\": 1}, \"coloraxis\": {\"colorbar\": {\"outlinewidth\": 0, \"tickcolor\": \"rgb(237,237,237)\", \"ticklen\": 6, \"ticks\": \"inside\"}}, \"colorscale\": {\"sequential\": [[0, \"rgb(20,44,66)\"], [1, \"rgb(90,179,244)\"]], \"sequentialminus\": [[0, \"rgb(20,44,66)\"], [1, \"rgb(90,179,244)\"]]}, \"colorway\": [\"#F8766D\", \"#A3A500\", \"#00BF7D\", \"#00B0F6\", \"#E76BF3\"], \"font\": {\"color\": \"rgb(51,51,51)\"}, \"geo\": {\"bgcolor\": \"white\", \"lakecolor\": \"white\", \"landcolor\": \"rgb(237,237,237)\", \"showlakes\": true, \"showland\": true, \"subunitcolor\": \"white\"}, \"hoverlabel\": {\"align\": \"left\"}, \"hovermode\": \"closest\", \"paper_bgcolor\": \"white\", \"plot_bgcolor\": \"rgb(237,237,237)\", \"polar\": {\"angularaxis\": {\"gridcolor\": \"white\", \"linecolor\": \"white\", \"showgrid\": true, \"tickcolor\": \"rgb(51,51,51)\", \"ticks\": \"outside\"}, \"bgcolor\": \"rgb(237,237,237)\", \"radialaxis\": {\"gridcolor\": \"white\", \"linecolor\": \"white\", \"showgrid\": true, \"tickcolor\": \"rgb(51,51,51)\", \"ticks\": \"outside\"}}, \"scene\": {\"xaxis\": {\"backgroundcolor\": \"rgb(237,237,237)\", \"gridcolor\": \"white\", \"gridwidth\": 2, \"linecolor\": \"white\", \"showbackground\": true, \"showgrid\": true, \"tickcolor\": \"rgb(51,51,51)\", \"ticks\": \"outside\", \"zerolinecolor\": \"white\"}, \"yaxis\": {\"backgroundcolor\": \"rgb(237,237,237)\", \"gridcolor\": \"white\", \"gridwidth\": 2, \"linecolor\": \"white\", \"showbackground\": true, \"showgrid\": true, \"tickcolor\": \"rgb(51,51,51)\", \"ticks\": \"outside\", \"zerolinecolor\": \"white\"}, \"zaxis\": {\"backgroundcolor\": \"rgb(237,237,237)\", \"gridcolor\": \"white\", \"gridwidth\": 2, \"linecolor\": \"white\", \"showbackground\": true, \"showgrid\": true, \"tickcolor\": \"rgb(51,51,51)\", \"ticks\": \"outside\", \"zerolinecolor\": \"white\"}}, \"shapedefaults\": {\"fillcolor\": \"black\", \"line\": {\"width\": 0}, \"opacity\": 0.3}, \"ternary\": {\"aaxis\": {\"gridcolor\": \"white\", \"linecolor\": \"white\", \"showgrid\": true, \"tickcolor\": \"rgb(51,51,51)\", \"ticks\": \"outside\"}, \"baxis\": {\"gridcolor\": \"white\", \"linecolor\": \"white\", \"showgrid\": true, \"tickcolor\": \"rgb(51,51,51)\", \"ticks\": \"outside\"}, \"bgcolor\": \"rgb(237,237,237)\", \"caxis\": {\"gridcolor\": \"white\", \"linecolor\": \"white\", \"showgrid\": true, \"tickcolor\": \"rgb(51,51,51)\", \"ticks\": \"outside\"}}, \"xaxis\": {\"automargin\": true, \"gridcolor\": \"white\", \"linecolor\": \"white\", \"showgrid\": true, \"tickcolor\": \"rgb(51,51,51)\", \"ticks\": \"outside\", \"title\": {\"standoff\": 15}, \"zerolinecolor\": \"white\"}, \"yaxis\": {\"automargin\": true, \"gridcolor\": \"white\", \"linecolor\": \"white\", \"showgrid\": true, \"tickcolor\": \"rgb(51,51,51)\", \"ticks\": \"outside\", \"title\": {\"standoff\": 15}, \"zerolinecolor\": \"white\"}}}, \"title\": {\"text\": \"Total sales over time \"}, \"width\": 1500, \"xaxis\": {\"title\": {\"text\": \"Year\"}}, \"yaxis\": {\"showgrid\": true, \"ticksuffix\": \"M($)\", \"title\": {\"text\": \"Sales\"}}},\n",
              "                        {\"responsive\": true}\n",
              "                    ).then(function(){\n",
              "                            \n",
              "var gd = document.getElementById('ce8d5e83-491b-41cf-929f-cd522d58ebfc');\n",
              "var x = new MutationObserver(function (mutations, observer) {{\n",
              "        var display = window.getComputedStyle(gd).display;\n",
              "        if (!display || display === 'none') {{\n",
              "            console.log([gd, 'removed!']);\n",
              "            Plotly.purge(gd);\n",
              "            observer.disconnect();\n",
              "        }}\n",
              "}});\n",
              "\n",
              "// Listen for the removal of the full notebook cells\n",
              "var notebookContainer = gd.closest('#notebook-container');\n",
              "if (notebookContainer) {{\n",
              "    x.observe(notebookContainer, {childList: true});\n",
              "}}\n",
              "\n",
              "// Listen for the clearing of the current output cell\n",
              "var outputEl = gd.closest('.output');\n",
              "if (outputEl) {{\n",
              "    x.observe(outputEl, {childList: true});\n",
              "}}\n",
              "\n",
              "                        })\n",
              "                };\n",
              "                \n",
              "            </script>\n",
              "        </div>\n",
              "</body>\n",
              "</html>"
            ]
          },
          "metadata": {
            "tags": []
          }
        }
      ]
    },
    {
      "cell_type": "markdown",
      "metadata": {
        "id": "FGm0k5KsvxLE"
      },
      "source": [
        "시계열 그래프를 보면 비디오 게임 시장은 계속 성장하다고 2008년도에 정점을 찍고 하향세 입니다. 2005~2011년은 비디오 게임의 황금기였는데, 그 당시 액션, 스포츠, 슈터 장르가 잘 팔린 것을 알 수 있습니다."
      ]
    },
    {
      "cell_type": "markdown",
      "metadata": {
        "id": "vKVHMTKxwIOl"
      },
      "source": [
        "#3. 지역별 장르 선호도 차이"
      ]
    },
    {
      "cell_type": "code",
      "metadata": {
        "colab": {
          "base_uri": "https://localhost:8080/"
        },
        "id": "jF_psiMSG3A6",
        "outputId": "c566486a-2990-4357-f00c-d63fb8df3d09"
      },
      "source": [
        "#장르에 따른 매출액 분석\r\n",
        "groupedGenre = df.groupby('Genre')                                                     \r\n",
        "genre = pd.DataFrame(groupedGenre.sum()[['NA_Sales', 'EU_Sales','JP_Sales','Other_Sales','Total_Sales']])\r\n",
        "#genre.sort_values(by='Total_Sales', ascending=False)\r\n",
        "genre.index"
      ],
      "execution_count": 30,
      "outputs": [
        {
          "output_type": "execute_result",
          "data": {
            "text/plain": [
              "Index(['Action', 'Adventure', 'Fighting', 'Misc', 'Platform', 'Puzzle',\n",
              "       'Racing', 'Role-Playing', 'Shooter', 'Simulation', 'Sports',\n",
              "       'Strategy'],\n",
              "      dtype='object', name='Genre')"
            ]
          },
          "metadata": {
            "tags": []
          },
          "execution_count": 30
        }
      ]
    },
    {
      "cell_type": "code",
      "metadata": {
        "id": "dTx_uwrkIUDk"
      },
      "source": [
        "NA_genre = genre.sort_values(by='NA_Sales', ascending=False)\r\n",
        "EU_genre = genre.sort_values(by='EU_Sales', ascending=False)\r\n",
        "JP_genre = genre.sort_values(by='JP_Sales', ascending=False)\r\n",
        "Other_genre = genre.sort_values(by='Other_Sales', ascending=False)\r\n",
        "#그래프 4개로 비교하기\r\n",
        "#북미: Action, Sports, Shooter, Platform, Misc\r\n",
        "#유럽: Action, Sports, Shooter, Racing, Misc\r\n",
        "#일본: Role-Playing, Action, Sports, Platform, Misc\r\n",
        "#그외: Action, Sports, Shooter, Racing, Misc\r\n",
        "#전체: Action, Sports, Shooter, Role-Playing, Platform"
      ],
      "execution_count": 31,
      "outputs": []
    },
    {
      "cell_type": "code",
      "metadata": {
        "colab": {
          "base_uri": "https://localhost:8080/",
          "height": 204
        },
        "id": "vBddiOJVKB4a",
        "outputId": "517e5050-4e9e-4301-e529-5bbfcd0f8694"
      },
      "source": [
        "NA_genre = NA_genre.reset_index()\r\n",
        "NA_genre = NA_genre.iloc[:5,:2]\r\n",
        "NA_genre"
      ],
      "execution_count": 32,
      "outputs": [
        {
          "output_type": "execute_result",
          "data": {
            "text/html": [
              "<div>\n",
              "<style scoped>\n",
              "    .dataframe tbody tr th:only-of-type {\n",
              "        vertical-align: middle;\n",
              "    }\n",
              "\n",
              "    .dataframe tbody tr th {\n",
              "        vertical-align: top;\n",
              "    }\n",
              "\n",
              "    .dataframe thead th {\n",
              "        text-align: right;\n",
              "    }\n",
              "</style>\n",
              "<table border=\"1\" class=\"dataframe\">\n",
              "  <thead>\n",
              "    <tr style=\"text-align: right;\">\n",
              "      <th></th>\n",
              "      <th>Genre</th>\n",
              "      <th>NA_Sales</th>\n",
              "    </tr>\n",
              "  </thead>\n",
              "  <tbody>\n",
              "    <tr>\n",
              "      <th>0</th>\n",
              "      <td>Action</td>\n",
              "      <td>874.81</td>\n",
              "    </tr>\n",
              "    <tr>\n",
              "      <th>1</th>\n",
              "      <td>Sports</td>\n",
              "      <td>680.52</td>\n",
              "    </tr>\n",
              "    <tr>\n",
              "      <th>2</th>\n",
              "      <td>Shooter</td>\n",
              "      <td>581.92</td>\n",
              "    </tr>\n",
              "    <tr>\n",
              "      <th>3</th>\n",
              "      <td>Platform</td>\n",
              "      <td>446.44</td>\n",
              "    </tr>\n",
              "    <tr>\n",
              "      <th>4</th>\n",
              "      <td>Misc</td>\n",
              "      <td>408.05</td>\n",
              "    </tr>\n",
              "  </tbody>\n",
              "</table>\n",
              "</div>"
            ],
            "text/plain": [
              "      Genre  NA_Sales\n",
              "0    Action    874.81\n",
              "1    Sports    680.52\n",
              "2   Shooter    581.92\n",
              "3  Platform    446.44\n",
              "4      Misc    408.05"
            ]
          },
          "metadata": {
            "tags": []
          },
          "execution_count": 32
        }
      ]
    },
    {
      "cell_type": "code",
      "metadata": {
        "id": "exGHMNb5M2Mt"
      },
      "source": [
        "EU_genre = EU_genre.reset_index()\r\n",
        "EU_genre = EU_genre.iloc[:5,[0,2] ]\r\n",
        "JP_genre = JP_genre.reset_index()\r\n",
        "JP_genre = JP_genre.iloc[:5,[0,3]]\r\n",
        "Other_genre = Other_genre.reset_index()\r\n",
        "Other_genre = Other_genre.iloc[:5, [0,4]]"
      ],
      "execution_count": 33,
      "outputs": []
    },
    {
      "cell_type": "code",
      "metadata": {
        "colab": {
          "base_uri": "https://localhost:8080/"
        },
        "id": "Vu6AF2BgxgTB",
        "outputId": "229f766b-9feb-4c6f-a0d9-1e6feb0a9adb"
      },
      "source": [
        "from scipy.stats import chisquare\r\n",
        "print(chisquare(chi_genre, axis=None))    "
      ],
      "execution_count": 238,
      "outputs": [
        {
          "output_type": "stream",
          "text": [
            "Power_divergenceResult(statistic=3381.686126967247, pvalue=0.0)\n",
            "Power_divergenceResult(statistic=1.1244241187263566, pvalue=0.9999088286862591)\n"
          ],
          "name": "stdout"
        }
      ]
    },
    {
      "cell_type": "code",
      "metadata": {
        "colab": {
          "base_uri": "https://localhost:8080/",
          "height": 953
        },
        "id": "BUxU84o2fJSl",
        "outputId": "8030ec94-ed1f-4f4a-9f9d-3d1168869141"
      },
      "source": [
        "import matplotlib.ticker as ticker\r\n",
        "import seaborn as sns\r\n",
        "fig = plt.figure(figsize=(20,16))\r\n",
        "\r\n",
        "ax1 = fig.add_subplot(2,2,1)\r\n",
        "ax1.set_title(\"Top 5 Genre of NA Sales\", fontsize =20)\r\n",
        "ax1 = sns.barplot(x='Genre', y = 'NA_Sales', palette = {\"Action\": '#583d72', \"Sports\": '#9f5f80', \"Shooter\": '#ffba93', \"Platform\": '#ff8e71', \"Misc\":'#d4e2d4'},data=NA_genre)\r\n",
        "ax1.yaxis.set_major_formatter(ticker.EngFormatter(\"M($)\"))\r\n",
        "\r\n",
        "ax2 = fig.add_subplot(2,2,2)\r\n",
        "ax2 = sns.barplot(x='Genre', y = 'EU_Sales', palette = {\"Action\": '#583d72', \"Sports\": '#9f5f80', \"Shooter\": '#ffba93', \"Racing\": '#51c2d5', \"Misc\":'#d4e2d4'}, data=EU_genre)\r\n",
        "ax2.set_title(\"Top 5 Genre of EU Sales\", fontsize =20)\r\n",
        "ax2.yaxis.set_major_formatter(ticker.EngFormatter(\"M($)\"))\r\n",
        "\r\n",
        "ax3 = fig.add_subplot(2,2,3)\r\n",
        "ax3 = sns.barplot(x='Genre', y = 'JP_Sales',palette = {\"Role-Playing\": '#ec4646', \"Action\": '#583d72', \"Sports\": '#9f5f80', \"Platform\": '#ff8e71', \"Misc\":'#d4e2d4'}, data=JP_genre)\r\n",
        "ax3.set_title(\"Top 5 Genre of JP Sales\", fontsize =20)\r\n",
        "ax3.yaxis.set_major_formatter(ticker.EngFormatter(\"M($)\"))\r\n",
        "\r\n",
        "ax4 = fig.add_subplot(2,2,4)\r\n",
        "ax4 = sns.barplot(x='Genre', y = 'Other_Sales', palette = {\"Action\": '#583d72', \"Sports\": '#9f5f80', \"Shooter\": '#ffba93', \"Racing\": '#51c2d5', \"Misc\":'#d4e2d4'},data=Other_genre)\r\n",
        "ax4.set_title(\"Top 5 Genre of Other Sales\", fontsize =20)\r\n",
        "ax4.yaxis.set_major_formatter(ticker.EngFormatter(\"M($)\"))"
      ],
      "execution_count": 45,
      "outputs": [
        {
          "output_type": "display_data",
          "data": {
            "image/png": "[encoded data removed]",
            "text/plain": [
              "<Figure size 1440x1152 with 4 Axes>"
            ]
          },
          "metadata": {
            "tags": [],
            "needs_background": "light"
          }
        }
      ]
    },
    {
      "cell_type": "markdown",
      "metadata": {
        "id": "lq2CRkDbxa3Z"
      },
      "source": [
        "### 지역별 점유율 차이"
      ]
    },
    {
      "cell_type": "code",
      "metadata": {
        "colab": {
          "base_uri": "https://localhost:8080/",
          "height": 80
        },
        "id": "Lct5wyDe2hXl",
        "outputId": "83dd8690-c550-4b28-e0e1-e67f42561984"
      },
      "source": [
        "dfsum = pd.DataFrame({\"NA_Sales_sum\": [df['NA_Sales'].sum()], \"EU_Sales_sum\": [df['EU_Sales'].sum()], \"JP_Sales_sum\" : [df['JP_Sales'].sum()], \"Other_Sales_sum\": [df['Other_Sales'].sum()]})\r\n",
        "dfsum"
      ],
      "execution_count": 49,
      "outputs": [
        {
          "output_type": "execute_result",
          "data": {
            "text/html": [
              "<div>\n",
              "<style scoped>\n",
              "    .dataframe tbody tr th:only-of-type {\n",
              "        vertical-align: middle;\n",
              "    }\n",
              "\n",
              "    .dataframe tbody tr th {\n",
              "        vertical-align: top;\n",
              "    }\n",
              "\n",
              "    .dataframe thead th {\n",
              "        text-align: right;\n",
              "    }\n",
              "</style>\n",
              "<table border=\"1\" class=\"dataframe\">\n",
              "  <thead>\n",
              "    <tr style=\"text-align: right;\">\n",
              "      <th></th>\n",
              "      <th>NA_Sales_sum</th>\n",
              "      <th>EU_Sales_sum</th>\n",
              "      <th>JP_Sales_sum</th>\n",
              "      <th>Other_Sales_sum</th>\n",
              "    </tr>\n",
              "  </thead>\n",
              "  <tbody>\n",
              "    <tr>\n",
              "      <th>0</th>\n",
              "      <td>4392.95</td>\n",
              "      <td>2434.13</td>\n",
              "      <td>1291.02</td>\n",
              "      <td>797.75</td>\n",
              "    </tr>\n",
              "  </tbody>\n",
              "</table>\n",
              "</div>"
            ],
            "text/plain": [
              "   NA_Sales_sum  EU_Sales_sum  JP_Sales_sum  Other_Sales_sum\n",
              "0       4392.95       2434.13       1291.02           797.75"
            ]
          },
          "metadata": {
            "tags": []
          },
          "execution_count": 49
        }
      ]
    },
    {
      "cell_type": "code",
      "metadata": {
        "colab": {
          "base_uri": "https://localhost:8080/",
          "height": 542
        },
        "id": "6_C7-GdA8NBM",
        "outputId": "5ca6e245-ee3e-4e42-b3b2-d300407e7908"
      },
      "source": [
        "#pie chart로 지역별 매출액 비교하기\r\n",
        "import plotly.express as px\r\n",
        "\r\n",
        "fig = px.pie(dfsum, values= dfsum.iloc[0,:], names= dfsum.columns, title='Market Share by Region')\r\n",
        "fig.update_traces(textposition='inside', textinfo='percent+label')\r\n",
        "fig.show()"
      ],
      "execution_count": 50,
      "outputs": [
        {
          "output_type": "display_data",
          "data": {
            "text/html": [
              "<html>\n",
              "<head><meta charset=\"utf-8\" /></head>\n",
              "<body>\n",
              "    <div>\n",
              "            <script src=\"https://cdnjs.cloudflare.com/ajax/libs/mathjax/2.7.5/MathJax.js?config=TeX-AMS-MML_SVG\"></script><script type=\"text/javascript\">if (window.MathJax) {MathJax.Hub.Config({SVG: {font: \"STIX-Web\"}});}</script>\n",
              "                <script type=\"text/javascript\">window.PlotlyConfig = {MathJaxConfig: 'local'};</script>\n",
              "        <script src=\"https://cdn.plot.ly/plotly-latest.min.js\"></script>    \n",
              "            <div id=\"3dcb3210-e347-477a-931c-429c7ae2218c\" class=\"plotly-graph-div\" style=\"height:525px; width:100%;\"></div>\n",
              "            <script type=\"text/javascript\">\n",
              "                \n",
              "                    window.PLOTLYENV=window.PLOTLYENV || {};\n",
              "                    \n",
              "                if (document.getElementById(\"3dcb3210-e347-477a-931c-429c7ae2218c\")) {\n",
              "                    Plotly.newPlot(\n",
              "                        '3dcb3210-e347-477a-931c-429c7ae2218c',\n",
              "                        [{\"domain\": {\"x\": [0.0, 1.0], \"y\": [0.0, 1.0]}, \"hoverlabel\": {\"namelength\": 0}, \"hovertemplate\": \"label=%{label}<br>value=%{value}\", \"labels\": [\"NA_Sales_sum\", \"EU_Sales_sum\", \"JP_Sales_sum\", \"Other_Sales_sum\"], \"legendgroup\": \"\", \"name\": \"\", \"showlegend\": true, \"textinfo\": \"percent+label\", \"textposition\": \"inside\", \"type\": \"pie\", \"values\": [4392.95, 2434.13, 1291.0199999999998, 797.75]}],\n",
              "                        {\"legend\": {\"tracegroupgap\": 0}, \"template\": {\"data\": {\"bar\": [{\"error_x\": {\"color\": \"rgb(51,51,51)\"}, \"error_y\": {\"color\": \"rgb(51,51,51)\"}, \"marker\": {\"line\": {\"color\": \"rgb(237,237,237)\", \"width\": 0.5}}, \"type\": \"bar\"}], \"barpolar\": [{\"marker\": {\"line\": {\"color\": \"rgb(237,237,237)\", \"width\": 0.5}}, \"type\": \"barpolar\"}], \"carpet\": [{\"aaxis\": {\"endlinecolor\": \"rgb(51,51,51)\", \"gridcolor\": \"white\", \"linecolor\": \"white\", \"minorgridcolor\": \"white\", \"startlinecolor\": \"rgb(51,51,51)\"}, \"baxis\": {\"endlinecolor\": \"rgb(51,51,51)\", \"gridcolor\": \"white\", \"linecolor\": \"white\", \"minorgridcolor\": \"white\", \"startlinecolor\": \"rgb(51,51,51)\"}, \"type\": \"carpet\"}], \"choropleth\": [{\"colorbar\": {\"outlinewidth\": 0, \"tickcolor\": \"rgb(237,237,237)\", \"ticklen\": 6, \"ticks\": \"inside\"}, \"type\": \"choropleth\"}], \"contour\": [{\"colorbar\": {\"outlinewidth\": 0, \"tickcolor\": \"rgb(237,237,237)\", \"ticklen\": 6, \"ticks\": \"inside\"}, \"colorscale\": [[0, \"rgb(20,44,66)\"], [1, \"rgb(90,179,244)\"]], \"type\": \"contour\"}], \"contourcarpet\": [{\"colorbar\": {\"outlinewidth\": 0, \"tickcolor\": \"rgb(237,237,237)\", \"ticklen\": 6, \"ticks\": \"inside\"}, \"type\": \"contourcarpet\"}], \"heatmap\": [{\"colorbar\": {\"outlinewidth\": 0, \"tickcolor\": \"rgb(237,237,237)\", \"ticklen\": 6, \"ticks\": \"inside\"}, \"colorscale\": [[0, \"rgb(20,44,66)\"], [1, \"rgb(90,179,244)\"]], \"type\": \"heatmap\"}], \"heatmapgl\": [{\"colorbar\": {\"outlinewidth\": 0, \"tickcolor\": \"rgb(237,237,237)\", \"ticklen\": 6, \"ticks\": \"inside\"}, \"colorscale\": [[0, \"rgb(20,44,66)\"], [1, \"rgb(90,179,244)\"]], \"type\": \"heatmapgl\"}], \"histogram\": [{\"marker\": {\"colorbar\": {\"outlinewidth\": 0, \"tickcolor\": \"rgb(237,237,237)\", \"ticklen\": 6, \"ticks\": \"inside\"}}, \"type\": \"histogram\"}], \"histogram2d\": [{\"colorbar\": {\"outlinewidth\": 0, \"tickcolor\": \"rgb(237,237,237)\", \"ticklen\": 6, \"ticks\": \"inside\"}, \"colorscale\": [[0, \"rgb(20,44,66)\"], [1, \"rgb(90,179,244)\"]], \"type\": \"histogram2d\"}], \"histogram2dcontour\": [{\"colorbar\": {\"outlinewidth\": 0, \"tickcolor\": \"rgb(237,237,237)\", \"ticklen\": 6, \"ticks\": \"inside\"}, \"colorscale\": [[0, \"rgb(20,44,66)\"], [1, \"rgb(90,179,244)\"]], \"type\": \"histogram2dcontour\"}], \"mesh3d\": [{\"colorbar\": {\"outlinewidth\": 0, \"tickcolor\": \"rgb(237,237,237)\", \"ticklen\": 6, \"ticks\": \"inside\"}, \"type\": \"mesh3d\"}], \"parcoords\": [{\"line\": {\"colorbar\": {\"outlinewidth\": 0, \"tickcolor\": \"rgb(237,237,237)\", \"ticklen\": 6, \"ticks\": \"inside\"}}, \"type\": \"parcoords\"}], \"pie\": [{\"automargin\": true, \"type\": \"pie\"}], \"scatter\": [{\"marker\": {\"colorbar\": {\"outlinewidth\": 0, \"tickcolor\": \"rgb(237,237,237)\", \"ticklen\": 6, \"ticks\": \"inside\"}}, \"type\": \"scatter\"}], \"scatter3d\": [{\"line\": {\"colorbar\": {\"outlinewidth\": 0, \"tickcolor\": \"rgb(237,237,237)\", \"ticklen\": 6, \"ticks\": \"inside\"}}, \"marker\": {\"colorbar\": {\"outlinewidth\": 0, \"tickcolor\": \"rgb(237,237,237)\", \"ticklen\": 6, \"ticks\": \"inside\"}}, \"type\": \"scatter3d\"}], \"scattercarpet\": [{\"marker\": {\"colorbar\": {\"outlinewidth\": 0, \"tickcolor\": \"rgb(237,237,237)\", \"ticklen\": 6, \"ticks\": \"inside\"}}, \"type\": \"scattercarpet\"}], \"scattergeo\": [{\"marker\": {\"colorbar\": {\"outlinewidth\": 0, \"tickcolor\": \"rgb(237,237,237)\", \"ticklen\": 6, \"ticks\": \"inside\"}}, \"type\": \"scattergeo\"}], \"scattergl\": [{\"marker\": {\"colorbar\": {\"outlinewidth\": 0, \"tickcolor\": \"rgb(237,237,237)\", \"ticklen\": 6, \"ticks\": \"inside\"}}, \"type\": \"scattergl\"}], \"scattermapbox\": [{\"marker\": {\"colorbar\": {\"outlinewidth\": 0, \"tickcolor\": \"rgb(237,237,237)\", \"ticklen\": 6, \"ticks\": \"inside\"}}, \"type\": \"scattermapbox\"}], \"scatterpolar\": [{\"marker\": {\"colorbar\": {\"outlinewidth\": 0, \"tickcolor\": \"rgb(237,237,237)\", \"ticklen\": 6, \"ticks\": \"inside\"}}, \"type\": \"scatterpolar\"}], \"scatterpolargl\": [{\"marker\": {\"colorbar\": {\"outlinewidth\": 0, \"tickcolor\": \"rgb(237,237,237)\", \"ticklen\": 6, \"ticks\": \"inside\"}}, \"type\": \"scatterpolargl\"}], \"scatterternary\": [{\"marker\": {\"colorbar\": {\"outlinewidth\": 0, \"tickcolor\": \"rgb(237,237,237)\", \"ticklen\": 6, \"ticks\": \"inside\"}}, \"type\": \"scatterternary\"}], \"surface\": [{\"colorbar\": {\"outlinewidth\": 0, \"tickcolor\": \"rgb(237,237,237)\", \"ticklen\": 6, \"ticks\": \"inside\"}, \"colorscale\": [[0, \"rgb(20,44,66)\"], [1, \"rgb(90,179,244)\"]], \"type\": \"surface\"}], \"table\": [{\"cells\": {\"fill\": {\"color\": \"rgb(237,237,237)\"}, \"line\": {\"color\": \"white\"}}, \"header\": {\"fill\": {\"color\": \"rgb(217,217,217)\"}, \"line\": {\"color\": \"white\"}}, \"type\": \"table\"}]}, \"layout\": {\"annotationdefaults\": {\"arrowhead\": 0, \"arrowwidth\": 1}, \"coloraxis\": {\"colorbar\": {\"outlinewidth\": 0, \"tickcolor\": \"rgb(237,237,237)\", \"ticklen\": 6, \"ticks\": \"inside\"}}, \"colorscale\": {\"sequential\": [[0, \"rgb(20,44,66)\"], [1, \"rgb(90,179,244)\"]], \"sequentialminus\": [[0, \"rgb(20,44,66)\"], [1, \"rgb(90,179,244)\"]]}, \"colorway\": [\"#F8766D\", \"#A3A500\", \"#00BF7D\", \"#00B0F6\", \"#E76BF3\"], \"font\": {\"color\": \"rgb(51,51,51)\"}, \"geo\": {\"bgcolor\": \"white\", \"lakecolor\": \"white\", \"landcolor\": \"rgb(237,237,237)\", \"showlakes\": true, \"showland\": true, \"subunitcolor\": \"white\"}, \"hoverlabel\": {\"align\": \"left\"}, \"hovermode\": \"closest\", \"paper_bgcolor\": \"white\", \"plot_bgcolor\": \"rgb(237,237,237)\", \"polar\": {\"angularaxis\": {\"gridcolor\": \"white\", \"linecolor\": \"white\", \"showgrid\": true, \"tickcolor\": \"rgb(51,51,51)\", \"ticks\": \"outside\"}, \"bgcolor\": \"rgb(237,237,237)\", \"radialaxis\": {\"gridcolor\": \"white\", \"linecolor\": \"white\", \"showgrid\": true, \"tickcolor\": \"rgb(51,51,51)\", \"ticks\": \"outside\"}}, \"scene\": {\"xaxis\": {\"backgroundcolor\": \"rgb(237,237,237)\", \"gridcolor\": \"white\", \"gridwidth\": 2, \"linecolor\": \"white\", \"showbackground\": true, \"showgrid\": true, \"tickcolor\": \"rgb(51,51,51)\", \"ticks\": \"outside\", \"zerolinecolor\": \"white\"}, \"yaxis\": {\"backgroundcolor\": \"rgb(237,237,237)\", \"gridcolor\": \"white\", \"gridwidth\": 2, \"linecolor\": \"white\", \"showbackground\": true, \"showgrid\": true, \"tickcolor\": \"rgb(51,51,51)\", \"ticks\": \"outside\", \"zerolinecolor\": \"white\"}, \"zaxis\": {\"backgroundcolor\": \"rgb(237,237,237)\", \"gridcolor\": \"white\", \"gridwidth\": 2, \"linecolor\": \"white\", \"showbackground\": true, \"showgrid\": true, \"tickcolor\": \"rgb(51,51,51)\", \"ticks\": \"outside\", \"zerolinecolor\": \"white\"}}, \"shapedefaults\": {\"fillcolor\": \"black\", \"line\": {\"width\": 0}, \"opacity\": 0.3}, \"ternary\": {\"aaxis\": {\"gridcolor\": \"white\", \"linecolor\": \"white\", \"showgrid\": true, \"tickcolor\": \"rgb(51,51,51)\", \"ticks\": \"outside\"}, \"baxis\": {\"gridcolor\": \"white\", \"linecolor\": \"white\", \"showgrid\": true, \"tickcolor\": \"rgb(51,51,51)\", \"ticks\": \"outside\"}, \"bgcolor\": \"rgb(237,237,237)\", \"caxis\": {\"gridcolor\": \"white\", \"linecolor\": \"white\", \"showgrid\": true, \"tickcolor\": \"rgb(51,51,51)\", \"ticks\": \"outside\"}}, \"xaxis\": {\"automargin\": true, \"gridcolor\": \"white\", \"linecolor\": \"white\", \"showgrid\": true, \"tickcolor\": \"rgb(51,51,51)\", \"ticks\": \"outside\", \"title\": {\"standoff\": 15}, \"zerolinecolor\": \"white\"}, \"yaxis\": {\"automargin\": true, \"gridcolor\": \"white\", \"linecolor\": \"white\", \"showgrid\": true, \"tickcolor\": \"rgb(51,51,51)\", \"ticks\": \"outside\", \"title\": {\"standoff\": 15}, \"zerolinecolor\": \"white\"}}}, \"title\": {\"text\": \"Market Share by Region\"}},\n",
              "                        {\"responsive\": true}\n",
              "                    ).then(function(){\n",
              "                            \n",
              "var gd = document.getElementById('3dcb3210-e347-477a-931c-429c7ae2218c');\n",
              "var x = new MutationObserver(function (mutations, observer) {{\n",
              "        var display = window.getComputedStyle(gd).display;\n",
              "        if (!display || display === 'none') {{\n",
              "            console.log([gd, 'removed!']);\n",
              "            Plotly.purge(gd);\n",
              "            observer.disconnect();\n",
              "        }}\n",
              "}});\n",
              "\n",
              "// Listen for the removal of the full notebook cells\n",
              "var notebookContainer = gd.closest('#notebook-container');\n",
              "if (notebookContainer) {{\n",
              "    x.observe(notebookContainer, {childList: true});\n",
              "}}\n",
              "\n",
              "// Listen for the clearing of the current output cell\n",
              "var outputEl = gd.closest('.output');\n",
              "if (outputEl) {{\n",
              "    x.observe(outputEl, {childList: true});\n",
              "}}\n",
              "\n",
              "                        })\n",
              "                };\n",
              "                \n",
              "            </script>\n",
              "        </div>\n",
              "</body>\n",
              "</html>"
            ]
          },
          "metadata": {
            "tags": []
          }
        }
      ]
    },
    {
      "cell_type": "code",
      "metadata": {
        "colab": {
          "base_uri": "https://localhost:8080/"
        },
        "id": "sNYHpodJoeXk",
        "outputId": "91317ee5-f8c0-4471-d411-bd6ba4759550"
      },
      "source": [
        "import numpy as np\r\n",
        "nacoef = np.corrcoef(df['NA_Sales'],df['Total_Sales'])[1,0] \r\n",
        "eucoef = np.corrcoef(df['EU_Sales'],df['Total_Sales'])[1,0]  \r\n",
        "jpcoef = np.corrcoef(df['JP_Sales'],df['Total_Sales'])[1,0]  \r\n",
        "otcoef = np.corrcoef(df['Other_Sales'],df['Total_Sales'])[1,0]  \r\n",
        "print(\"북아메리카 매출액과 총 매출액 상관계수:\", nacoef)\r\n",
        "print(\"유럽 매출액과 총 매출액 상관계수:\", eucoef)\r\n",
        "print(\"일본 매출액과 총 매출액 상관계수:\", jpcoef)\r\n",
        "print(\"기타 매출액과 총 매출액 상관계수:\", otcoef)\r\n",
        "\r\n",
        "#위의 파이 차트에서 살펴본 것처럼 북아메리카 시장의 비중이 높기 때문에 총 매출액에 가장 큰 영향을 준다.\r\n",
        "#상관계수로 살펴봐도 총 매출액은 북아메리카 시장과 가장 큰 연관이 있다."
      ],
      "execution_count": 67,
      "outputs": [
        {
          "output_type": "stream",
          "text": [
            "북아메리카 매출액과 총 매출액 상관계수: 0.9410495152755577\n",
            "유럽 매출액과 총 매출액 상관계수: 0.9028389340638153\n",
            "일본 매출액과 총 매출액 상관계수: 0.6118206358951822\n",
            "기타 매출액과 총 매출액 상관계수: 0.748351237732738\n"
          ],
          "name": "stdout"
        }
      ]
    },
    {
      "cell_type": "markdown",
      "metadata": {
        "id": "2hU54Lc43Vdz"
      },
      "source": [
        "## 지역에 따른 플랫폼의 분산비교"
      ]
    },
    {
      "cell_type": "code",
      "metadata": {
        "colab": {
          "base_uri": "https://localhost:8080/"
        },
        "id": "MdiFyOhlycll",
        "outputId": "43cac974-7942-46ac-a4db-d9f7e33cadcd"
      },
      "source": [
        "#지역에 따른 플랫폼의 분산 비교\r\n",
        "#지역에 따라서 선호하는 장르가 다르다. \r\n",
        "stats.f_oneway(platform.iloc[:,0], platform.iloc[:,1], platform.iloc[:,2],platform.iloc[:,3])"
      ],
      "execution_count": 53,
      "outputs": [
        {
          "output_type": "execute_result",
          "data": {
            "text/plain": [
              "F_onewayResult(statistic=6.912147176084157, pvalue=0.00024784889572876655)"
            ]
          },
          "metadata": {
            "tags": []
          },
          "execution_count": 53
        }
      ]
    },
    {
      "cell_type": "code",
      "metadata": {
        "id": "2RB8Uj1cl4vn"
      },
      "source": [
        "platform2 = platform.drop(columns=['Total_Sales'])\r\n",
        "platform2"
      ],
      "execution_count": null,
      "outputs": []
    },
    {
      "cell_type": "code",
      "metadata": {
        "colab": {
          "base_uri": "https://localhost:8080/"
        },
        "id": "2urvS0I5kkv4",
        "outputId": "c9253c27-d332-4ff5-8d65-9fe3fde14b17"
      },
      "source": [
        "#지역과 platform\r\n",
        "#귀무가설: 플랫폼 간 평균이 같다.\r\n",
        "#플랫폼은 지역별 매출액 분산의 차이에 유의미한 영향을 끼쳤을 것이다. (플랫폼->매출액)\r\n",
        "from scipy import stats\r\n",
        "#반대로 하는 거 같아. 지역이 독립변수가 되야겠지..\r\n",
        "stats.f_oneway(platform2['NA_Sales'], platform2['EU_Sales'], platform2['JP_Sales'], platform2['Other_Sales'])\r\n",
        "\r\n",
        "#근데 매출액 자료들이 0이 너무 많아서 유의미한 지표인지는 알기 어렵다.그리고 진짜 결측치인지 의미있는 0인지 알기 어렵기 때문에 imputation하기도 힘들다."
      ],
      "execution_count": 49,
      "outputs": [
        {
          "output_type": "execute_result",
          "data": {
            "text/plain": [
              "F_onewayResult(statistic=6.912147176084157, pvalue=0.00024784889572876655)"
            ]
          },
          "metadata": {
            "tags": []
          },
          "execution_count": 49
        }
      ]
    },
    {
      "cell_type": "markdown",
      "metadata": {
        "id": "kPl-m34awMbt"
      },
      "source": [
        "One way ANOVA 결과 p-value는 0.05이하로, 유의수준 5%하에서 귀무가설을 기각한다.\r\n",
        "즉, 지역에 따라 선호하는 플랫폼이 다르다.\r\n",
        "-ㅡ>플랫폼이 엄청 중요하다."
      ]
    },
    {
      "cell_type": "markdown",
      "metadata": {
        "id": "gdEVDWxcgEJY"
      },
      "source": [
        "지역별로 선호하는 장르를 보면 대체로 Action과 Sports, Shooter 장르를 선호하지만 일본의 경우 Role-Playing 게임을 가장 선호하는 것이 특이점입니다."
      ]
    },
    {
      "cell_type": "markdown",
      "metadata": {
        "id": "D8Yw2qKNzBbj"
      },
      "source": [
        "# 4. 장르와 매출액의 상관성"
      ]
    },
    {
      "cell_type": "code",
      "metadata": {
        "colab": {
          "base_uri": "https://localhost:8080/"
        },
        "id": "c5BJkFF_1GAf",
        "outputId": "df9be278-da2a-4cef-c7b5-503f90cf0e73"
      },
      "source": [
        "from scipy.stats import chisquare\r\n",
        "print(chisquare(genre['Total_Sales'], axis=None))    "
      ],
      "execution_count": 305,
      "outputs": [
        {
          "output_type": "stream",
          "text": [
            "Power_divergenceResult(statistic=3381.686126967247, pvalue=0.0)\n"
          ],
          "name": "stdout"
        }
      ]
    },
    {
      "cell_type": "markdown",
      "metadata": {
        "id": "nAgqlB9m16gl"
      },
      "source": [
        "귀무가설: 장르별 매출액 분포는 비슷할 것이다.\r\n",
        "\r\n",
        "대안가설: 장르별 매출액 분포는 비슷하지 않을 것이다.\r\n",
        "\r\n",
        " 1 sample 카이제곱 검정의 결과 pvalue는 0이기 때문에 유의수준 5% 하에서 귀무가설을 기각한다."
      ]
    },
    {
      "cell_type": "code",
      "metadata": {
        "colab": {
          "base_uri": "https://localhost:8080/",
          "height": 542
        },
        "id": "zWv9tf0FCni7",
        "outputId": "a2842f2e-e247-4351-e162-18185e3f5375"
      },
      "source": [
        "px.scatter(data_frame=genre, x = genre.index, y = 'Total_Sales')\r\n",
        "#sns.scatterplot(x = genre.index, y = 'Total_Sales', data=genre)"
      ],
      "execution_count": 300,
      "outputs": [
        {
          "output_type": "display_data",
          "data": {
            "text/html": [
              "<html>\n",
              "<head><meta charset=\"utf-8\" /></head>\n",
              "<body>\n",
              "    <div>\n",
              "            <script src=\"https://cdnjs.cloudflare.com/ajax/libs/mathjax/2.7.5/MathJax.js?config=TeX-AMS-MML_SVG\"></script><script type=\"text/javascript\">if (window.MathJax) {MathJax.Hub.Config({SVG: {font: \"STIX-Web\"}});}</script>\n",
              "                <script type=\"text/javascript\">window.PlotlyConfig = {MathJaxConfig: 'local'};</script>\n",
              "        <script src=\"https://cdn.plot.ly/plotly-latest.min.js\"></script>    \n",
              "            <div id=\"a1180051-5fbf-4319-bee5-4f143f52a652\" class=\"plotly-graph-div\" style=\"height:525px; width:100%;\"></div>\n",
              "            <script type=\"text/javascript\">\n",
              "                \n",
              "                    window.PLOTLYENV=window.PLOTLYENV || {};\n",
              "                    \n",
              "                if (document.getElementById(\"a1180051-5fbf-4319-bee5-4f143f52a652\")) {\n",
              "                    Plotly.newPlot(\n",
              "                        'a1180051-5fbf-4319-bee5-4f143f52a652',\n",
              "                        [{\"hoverlabel\": {\"namelength\": 0}, \"hovertemplate\": \"x=%{x}<br>Total_Sales=%{y}\", \"legendgroup\": \"\", \"marker\": {\"color\": \"#F8766D\", \"symbol\": \"circle\"}, \"mode\": \"markers\", \"name\": \"\", \"showlegend\": false, \"type\": \"scatter\", \"x\": [\"Strategy\", \"Adventure\", \"Puzzle\", \"Simulation\", \"Fighting\", \"Racing\", \"Misc\", \"Platform\", \"Role-Playing\", \"Shooter\", \"Sports\", \"Action\"], \"xaxis\": \"x\", \"y\": [174.83999999999997, 238.47000000000043, 243.4700000000002, 391.4899999999992, 448.3999999999992, 727.7899999999975, 799.7199999999966, 830.2299999999989, 905.0299999999977, 1035.8999999999971, 1327.0399999999886, 1741.3199999999852], \"yaxis\": \"y\"}],\n",
              "                        {\"legend\": {\"tracegroupgap\": 0}, \"margin\": {\"t\": 60}, \"template\": {\"data\": {\"bar\": [{\"error_x\": {\"color\": \"rgb(51,51,51)\"}, \"error_y\": {\"color\": \"rgb(51,51,51)\"}, \"marker\": {\"line\": {\"color\": \"rgb(237,237,237)\", \"width\": 0.5}}, \"type\": \"bar\"}], \"barpolar\": [{\"marker\": {\"line\": {\"color\": \"rgb(237,237,237)\", \"width\": 0.5}}, \"type\": \"barpolar\"}], \"carpet\": [{\"aaxis\": {\"endlinecolor\": \"rgb(51,51,51)\", \"gridcolor\": \"white\", \"linecolor\": \"white\", \"minorgridcolor\": \"white\", \"startlinecolor\": \"rgb(51,51,51)\"}, \"baxis\": {\"endlinecolor\": \"rgb(51,51,51)\", \"gridcolor\": \"white\", \"linecolor\": \"white\", \"minorgridcolor\": \"white\", \"startlinecolor\": \"rgb(51,51,51)\"}, \"type\": \"carpet\"}], \"choropleth\": [{\"colorbar\": {\"outlinewidth\": 0, \"tickcolor\": \"rgb(237,237,237)\", \"ticklen\": 6, \"ticks\": \"inside\"}, \"type\": \"choropleth\"}], \"contour\": [{\"colorbar\": {\"outlinewidth\": 0, \"tickcolor\": \"rgb(237,237,237)\", \"ticklen\": 6, \"ticks\": \"inside\"}, \"colorscale\": [[0, \"rgb(20,44,66)\"], [1, \"rgb(90,179,244)\"]], \"type\": \"contour\"}], \"contourcarpet\": [{\"colorbar\": {\"outlinewidth\": 0, \"tickcolor\": \"rgb(237,237,237)\", \"ticklen\": 6, \"ticks\": \"inside\"}, \"type\": \"contourcarpet\"}], \"heatmap\": [{\"colorbar\": {\"outlinewidth\": 0, \"tickcolor\": \"rgb(237,237,237)\", \"ticklen\": 6, \"ticks\": \"inside\"}, \"colorscale\": [[0, \"rgb(20,44,66)\"], [1, \"rgb(90,179,244)\"]], \"type\": \"heatmap\"}], \"heatmapgl\": [{\"colorbar\": {\"outlinewidth\": 0, \"tickcolor\": \"rgb(237,237,237)\", \"ticklen\": 6, \"ticks\": \"inside\"}, \"colorscale\": [[0, \"rgb(20,44,66)\"], [1, \"rgb(90,179,244)\"]], \"type\": \"heatmapgl\"}], \"histogram\": [{\"marker\": {\"colorbar\": {\"outlinewidth\": 0, \"tickcolor\": \"rgb(237,237,237)\", \"ticklen\": 6, \"ticks\": \"inside\"}}, \"type\": \"histogram\"}], \"histogram2d\": [{\"colorbar\": {\"outlinewidth\": 0, \"tickcolor\": \"rgb(237,237,237)\", \"ticklen\": 6, \"ticks\": \"inside\"}, \"colorscale\": [[0, \"rgb(20,44,66)\"], [1, \"rgb(90,179,244)\"]], \"type\": \"histogram2d\"}], \"histogram2dcontour\": [{\"colorbar\": {\"outlinewidth\": 0, \"tickcolor\": \"rgb(237,237,237)\", \"ticklen\": 6, \"ticks\": \"inside\"}, \"colorscale\": [[0, \"rgb(20,44,66)\"], [1, \"rgb(90,179,244)\"]], \"type\": \"histogram2dcontour\"}], \"mesh3d\": [{\"colorbar\": {\"outlinewidth\": 0, \"tickcolor\": \"rgb(237,237,237)\", \"ticklen\": 6, \"ticks\": \"inside\"}, \"type\": \"mesh3d\"}], \"parcoords\": [{\"line\": {\"colorbar\": {\"outlinewidth\": 0, \"tickcolor\": \"rgb(237,237,237)\", \"ticklen\": 6, \"ticks\": \"inside\"}}, \"type\": \"parcoords\"}], \"pie\": [{\"automargin\": true, \"type\": \"pie\"}], \"scatter\": [{\"marker\": {\"colorbar\": {\"outlinewidth\": 0, \"tickcolor\": \"rgb(237,237,237)\", \"ticklen\": 6, \"ticks\": \"inside\"}}, \"type\": \"scatter\"}], \"scatter3d\": [{\"line\": {\"colorbar\": {\"outlinewidth\": 0, \"tickcolor\": \"rgb(237,237,237)\", \"ticklen\": 6, \"ticks\": \"inside\"}}, \"marker\": {\"colorbar\": {\"outlinewidth\": 0, \"tickcolor\": \"rgb(237,237,237)\", \"ticklen\": 6, \"ticks\": \"inside\"}}, \"type\": \"scatter3d\"}], \"scattercarpet\": [{\"marker\": {\"colorbar\": {\"outlinewidth\": 0, \"tickcolor\": \"rgb(237,237,237)\", \"ticklen\": 6, \"ticks\": \"inside\"}}, \"type\": \"scattercarpet\"}], \"scattergeo\": [{\"marker\": {\"colorbar\": {\"outlinewidth\": 0, \"tickcolor\": \"rgb(237,237,237)\", \"ticklen\": 6, \"ticks\": \"inside\"}}, \"type\": \"scattergeo\"}], \"scattergl\": [{\"marker\": {\"colorbar\": {\"outlinewidth\": 0, \"tickcolor\": \"rgb(237,237,237)\", \"ticklen\": 6, \"ticks\": \"inside\"}}, \"type\": \"scattergl\"}], \"scattermapbox\": [{\"marker\": {\"colorbar\": {\"outlinewidth\": 0, \"tickcolor\": \"rgb(237,237,237)\", \"ticklen\": 6, \"ticks\": \"inside\"}}, \"type\": \"scattermapbox\"}], \"scatterpolar\": [{\"marker\": {\"colorbar\": {\"outlinewidth\": 0, \"tickcolor\": \"rgb(237,237,237)\", \"ticklen\": 6, \"ticks\": \"inside\"}}, \"type\": \"scatterpolar\"}], \"scatterpolargl\": [{\"marker\": {\"colorbar\": {\"outlinewidth\": 0, \"tickcolor\": \"rgb(237,237,237)\", \"ticklen\": 6, \"ticks\": \"inside\"}}, \"type\": \"scatterpolargl\"}], \"scatterternary\": [{\"marker\": {\"colorbar\": {\"outlinewidth\": 0, \"tickcolor\": \"rgb(237,237,237)\", \"ticklen\": 6, \"ticks\": \"inside\"}}, \"type\": \"scatterternary\"}], \"surface\": [{\"colorbar\": {\"outlinewidth\": 0, \"tickcolor\": \"rgb(237,237,237)\", \"ticklen\": 6, \"ticks\": \"inside\"}, \"colorscale\": [[0, \"rgb(20,44,66)\"], [1, \"rgb(90,179,244)\"]], \"type\": \"surface\"}], \"table\": [{\"cells\": {\"fill\": {\"color\": \"rgb(237,237,237)\"}, \"line\": {\"color\": \"white\"}}, \"header\": {\"fill\": {\"color\": \"rgb(217,217,217)\"}, \"line\": {\"color\": \"white\"}}, \"type\": \"table\"}]}, \"layout\": {\"annotationdefaults\": {\"arrowhead\": 0, \"arrowwidth\": 1}, \"coloraxis\": {\"colorbar\": {\"outlinewidth\": 0, \"tickcolor\": \"rgb(237,237,237)\", \"ticklen\": 6, \"ticks\": \"inside\"}}, \"colorscale\": {\"sequential\": [[0, \"rgb(20,44,66)\"], [1, \"rgb(90,179,244)\"]], \"sequentialminus\": [[0, \"rgb(20,44,66)\"], [1, \"rgb(90,179,244)\"]]}, \"colorway\": [\"#F8766D\", \"#A3A500\", \"#00BF7D\", \"#00B0F6\", \"#E76BF3\"], \"font\": {\"color\": \"rgb(51,51,51)\"}, \"geo\": {\"bgcolor\": \"white\", \"lakecolor\": \"white\", \"landcolor\": \"rgb(237,237,237)\", \"showlakes\": true, \"showland\": true, \"subunitcolor\": \"white\"}, \"hoverlabel\": {\"align\": \"left\"}, \"hovermode\": \"closest\", \"paper_bgcolor\": \"white\", \"plot_bgcolor\": \"rgb(237,237,237)\", \"polar\": {\"angularaxis\": {\"gridcolor\": \"white\", \"linecolor\": \"white\", \"showgrid\": true, \"tickcolor\": \"rgb(51,51,51)\", \"ticks\": \"outside\"}, \"bgcolor\": \"rgb(237,237,237)\", \"radialaxis\": {\"gridcolor\": \"white\", \"linecolor\": \"white\", \"showgrid\": true, \"tickcolor\": \"rgb(51,51,51)\", \"ticks\": \"outside\"}}, \"scene\": {\"xaxis\": {\"backgroundcolor\": \"rgb(237,237,237)\", \"gridcolor\": \"white\", \"gridwidth\": 2, \"linecolor\": \"white\", \"showbackground\": true, \"showgrid\": true, \"tickcolor\": \"rgb(51,51,51)\", \"ticks\": \"outside\", \"zerolinecolor\": \"white\"}, \"yaxis\": {\"backgroundcolor\": \"rgb(237,237,237)\", \"gridcolor\": \"white\", \"gridwidth\": 2, \"linecolor\": \"white\", \"showbackground\": true, \"showgrid\": true, \"tickcolor\": \"rgb(51,51,51)\", \"ticks\": \"outside\", \"zerolinecolor\": \"white\"}, \"zaxis\": {\"backgroundcolor\": \"rgb(237,237,237)\", \"gridcolor\": \"white\", \"gridwidth\": 2, \"linecolor\": \"white\", \"showbackground\": true, \"showgrid\": true, \"tickcolor\": \"rgb(51,51,51)\", \"ticks\": \"outside\", \"zerolinecolor\": \"white\"}}, \"shapedefaults\": {\"fillcolor\": \"black\", \"line\": {\"width\": 0}, \"opacity\": 0.3}, \"ternary\": {\"aaxis\": {\"gridcolor\": \"white\", \"linecolor\": \"white\", \"showgrid\": true, \"tickcolor\": \"rgb(51,51,51)\", \"ticks\": \"outside\"}, \"baxis\": {\"gridcolor\": \"white\", \"linecolor\": \"white\", \"showgrid\": true, \"tickcolor\": \"rgb(51,51,51)\", \"ticks\": \"outside\"}, \"bgcolor\": \"rgb(237,237,237)\", \"caxis\": {\"gridcolor\": \"white\", \"linecolor\": \"white\", \"showgrid\": true, \"tickcolor\": \"rgb(51,51,51)\", \"ticks\": \"outside\"}}, \"xaxis\": {\"automargin\": true, \"gridcolor\": \"white\", \"linecolor\": \"white\", \"showgrid\": true, \"tickcolor\": \"rgb(51,51,51)\", \"ticks\": \"outside\", \"title\": {\"standoff\": 15}, \"zerolinecolor\": \"white\"}, \"yaxis\": {\"automargin\": true, \"gridcolor\": \"white\", \"linecolor\": \"white\", \"showgrid\": true, \"tickcolor\": \"rgb(51,51,51)\", \"ticks\": \"outside\", \"title\": {\"standoff\": 15}, \"zerolinecolor\": \"white\"}}}, \"xaxis\": {\"anchor\": \"y\", \"domain\": [0.0, 1.0], \"title\": {\"text\": \"x\"}}, \"yaxis\": {\"anchor\": \"x\", \"domain\": [0.0, 1.0], \"title\": {\"text\": \"Total_Sales\"}}},\n",
              "                        {\"responsive\": true}\n",
              "                    ).then(function(){\n",
              "                            \n",
              "var gd = document.getElementById('a1180051-5fbf-4319-bee5-4f143f52a652');\n",
              "var x = new MutationObserver(function (mutations, observer) {{\n",
              "        var display = window.getComputedStyle(gd).display;\n",
              "        if (!display || display === 'none') {{\n",
              "            console.log([gd, 'removed!']);\n",
              "            Plotly.purge(gd);\n",
              "            observer.disconnect();\n",
              "        }}\n",
              "}});\n",
              "\n",
              "// Listen for the removal of the full notebook cells\n",
              "var notebookContainer = gd.closest('#notebook-container');\n",
              "if (notebookContainer) {{\n",
              "    x.observe(notebookContainer, {childList: true});\n",
              "}}\n",
              "\n",
              "// Listen for the clearing of the current output cell\n",
              "var outputEl = gd.closest('.output');\n",
              "if (outputEl) {{\n",
              "    x.observe(outputEl, {childList: true});\n",
              "}}\n",
              "\n",
              "                        })\n",
              "                };\n",
              "                \n",
              "            </script>\n",
              "        </div>\n",
              "</body>\n",
              "</html>"
            ]
          },
          "metadata": {
            "tags": []
          }
        }
      ]
    },
    {
      "cell_type": "markdown",
      "metadata": {
        "id": "iTweO2Ji4EUJ"
      },
      "source": [
        "산점도를 보면 Action, Sports, Shooter 장르가 가장 높은 매출을 내고 있습니다."
      ]
    },
    {
      "cell_type": "markdown",
      "metadata": {
        "id": "uh_M92ctysUc"
      },
      "source": [
        "#5. 플랫폼에 따른 매출액 분석"
      ]
    },
    {
      "cell_type": "markdown",
      "metadata": {
        "id": "UbuiZIkICCGe"
      },
      "source": [
        "## 장르와 플랫폼의 연관성?\r\n"
      ]
    },
    {
      "cell_type": "code",
      "metadata": {
        "id": "l_hjtjgGHjbq"
      },
      "source": [
        "#플랫폼에 따른 매출액 분석\r\n",
        "#특이사항: 최신 자료가 많이 부족하다. wii랑 3ds, GB gameboy, Nintendo 옛 시리즈, PS 옛시리즈..대부분 단종된 플랫폼입니다.\r\n",
        "groupedPlatform = df.groupby('Platform')\r\n",
        "platform = pd.DataFrame(groupedPlatform.sum()[['NA_Sales', 'EU_Sales','JP_Sales','Other_Sales','Total_Sales']])\r\n",
        "platform.sort_values(by='Total_Sales', ascending=False)\r\n",
        "\r\n",
        "#누적 데이터이다 보니 오래전에 출시된 플랫폼의 매출액이 높게 나온다."
      ],
      "execution_count": null,
      "outputs": []
    },
    {
      "cell_type": "code",
      "metadata": {
        "id": "DOKBcCG6CRfK"
      },
      "source": [
        "genrebyplat = pd.crosstab(subset2align['Genre'], subset2align['Platform'])\r\n",
        "genrebyplat"
      ],
      "execution_count": null,
      "outputs": []
    },
    {
      "cell_type": "code",
      "metadata": {
        "colab": {
          "base_uri": "https://localhost:8080/"
        },
        "id": "ZLX_F42pCeN4",
        "outputId": "b0b57fcf-1620-444f-b65a-1a20cf103a79"
      },
      "source": [
        "from scipy.stats import chi2_contingency\r\n",
        "\r\n",
        "chi2_contingency(genrebyplat) \r\n",
        "#귀무가설: 장르와 플랫폼은 관련이 없다.\r\n",
        "#대안가설: 장르와 플랫폼은 관련이 있다.\r\n",
        "#카이제곱 검정 결과 0으로 유의수준 5%하에서 귀무가설을 기각해 관련이 있다고 볼 수 있다. "
      ],
      "execution_count": 302,
      "outputs": [
        {
          "output_type": "execute_result",
          "data": {
            "text/plain": [
              "(5830.558223288962,\n",
              " 0.0,\n",
              " 330,\n",
              " array([[2.29053265e+01, 5.97530257e-01, 9.93891995e+01, 1.03571911e+01,\n",
              "         4.24047306e+02, 1.93201450e+01, 1.61133993e+02, 1.07754623e+02,\n",
              "         5.37777232e+00, 1.99176752e-01, 6.23423235e+01, 1.95193217e+01,\n",
              "         2.39012103e+00, 1.87226147e+02, 1.99176752e-01, 2.36024452e+02,\n",
              "         4.22453892e+02, 2.58730601e+02, 6.67242121e+01, 2.37617866e+02,\n",
              "         8.18616453e+01, 3.44575782e+01, 1.19506051e+00, 4.76032438e+01,\n",
              "         3.98353505e-01, 1.19506051e+00, 2.55742950e+02, 2.84822756e+01,\n",
              "         2.45385759e+02, 1.59142225e+02, 4.22254715e+01],\n",
              "        [8.97278368e+00, 2.34072618e-01, 3.89340788e+01, 4.05725871e+00,\n",
              "         1.66113534e+02, 7.56834798e+00, 6.31215826e+01, 4.22110954e+01,\n",
              "         2.10665356e+00, 7.80242059e-02, 2.44215765e+01, 7.64637218e+00,\n",
              "         9.36290471e-01, 7.33427536e+01, 7.80242059e-02, 9.24586840e+01,\n",
              "         1.65489341e+02, 1.01353444e+02, 2.61381090e+01, 9.30828777e+01,\n",
              "         3.20679486e+01, 1.34981876e+01, 4.68145236e-01, 1.86477852e+01,\n",
              "         1.56048412e-01, 4.68145236e-01, 1.00183080e+02, 1.11574614e+01,\n",
              "         9.61258217e+01, 6.23413405e+01, 1.65411317e+01],\n",
              "        [5.89942864e+00, 1.53898138e-01, 2.55983904e+01, 2.66756773e+00,\n",
              "         1.09216379e+02, 4.97603981e+00, 4.15011980e+01, 2.77529643e+01,\n",
              "         1.38508325e+00, 5.12993795e-02, 1.60567058e+01, 5.02733919e+00,\n",
              "         6.15592554e-01, 4.82214167e+01, 5.12993795e-02, 6.07897647e+01,\n",
              "         1.08805984e+02, 6.66378940e+01, 1.71852921e+01, 6.12001597e+01,\n",
              "         2.10840450e+01, 8.87479265e+00, 3.07796277e-01, 1.22605517e+01,\n",
              "         1.02598759e-01, 3.07796277e-01, 6.58684033e+01, 7.33581127e+00,\n",
              "         6.32008355e+01, 4.09882042e+01, 1.08754685e+01],\n",
              "        [1.20461387e+01, 3.14247097e-01, 5.22697672e+01, 5.44694968e+00,\n",
              "         2.23010690e+02, 1.01606561e+01, 8.47419672e+01, 5.66692265e+01,\n",
              "         2.82822387e+00, 1.04749032e-01, 3.27864471e+01, 1.02654052e+01,\n",
              "         1.25698839e+00, 9.84640904e+01, 1.04749032e-01, 1.24127603e+02,\n",
              "         2.22172698e+02, 1.36068993e+02, 3.50909258e+01, 1.24965596e+02,\n",
              "         4.30518523e+01, 1.81215826e+01, 6.28494194e-01, 2.50350187e+01,\n",
              "         2.09498065e-01, 6.28494194e-01, 1.34497758e+02, 1.49791116e+01,\n",
              "         1.29050808e+02, 8.36944769e+01, 2.22067949e+01],\n",
              "        [6.17497082e+00, 1.61086195e-01, 2.67940038e+01, 2.79216072e+00,\n",
              "         1.14317503e+02, 5.20845365e+00, 4.34395773e+01, 2.90492105e+01,\n",
              "         1.44977576e+00, 5.36953984e-02, 1.68066597e+01, 5.26214904e+00,\n",
              "         6.44344781e-01, 5.04736745e+01, 5.36953984e-02, 6.36290471e+01,\n",
              "         1.13887940e+02, 6.97503225e+01, 1.79879585e+01, 6.40586103e+01,\n",
              "         2.20688087e+01, 9.28930393e+00, 3.22172390e-01, 1.28332002e+01,\n",
              "         1.07390797e-01, 3.22172390e-01, 6.89448916e+01, 7.67844197e+00,\n",
              "         6.61527308e+01, 4.29026233e+01, 1.13834245e+01],\n",
              "        [4.00595933e+00, 1.04503287e-01, 1.73823800e+01, 1.81139031e+00,\n",
              "         7.41624992e+01, 3.37893961e+00, 2.81810530e+01, 1.88454261e+01,\n",
              "         9.40529582e-01, 3.48344289e-02, 1.09031763e+01, 3.41377404e+00,\n",
              "         4.18013147e-01, 3.27443632e+01, 3.48344289e-02, 4.12787983e+01,\n",
              "         7.38838238e+01, 4.52499232e+01, 1.16695337e+01, 4.15574737e+01,\n",
              "         1.43169503e+01, 6.02635621e+00, 2.09006574e-01, 8.32542852e+00,\n",
              "         6.96688579e-02, 2.09006574e-01, 4.47274068e+01, 4.98132334e+00,\n",
              "         4.29160165e+01, 2.78327087e+01, 7.38489894e+00],\n",
              "        [8.61952448e+00, 2.24857160e-01, 3.74012410e+01, 3.89752411e+00,\n",
              "         1.59573632e+02, 7.27038152e+00, 6.06364809e+01, 4.05492413e+01,\n",
              "         2.02371444e+00, 7.49523868e-02, 2.34600971e+01, 7.34533391e+00,\n",
              "         8.99428642e-01, 7.04552436e+01, 7.49523868e-02, 8.88185784e+01,\n",
              "         1.58974012e+02, 9.73631505e+01, 2.51090496e+01, 8.94181975e+01,\n",
              "         3.08054310e+01, 1.29667629e+01, 4.49714321e-01, 1.79136204e+01,\n",
              "         1.49904774e-01, 4.49714321e-01, 9.62388647e+01, 1.07181913e+01,\n",
              "         9.23413405e+01, 5.98869571e+01, 1.58899060e+01],\n",
              "        [1.03575597e+01, 2.70197211e-01, 4.49428027e+01, 4.68341832e+00,\n",
              "         1.91749954e+02, 8.73637648e+00, 7.28631812e+01, 4.87255637e+01,\n",
              "         2.43177490e+00, 9.00657369e-02, 2.81905757e+01, 8.82644222e+00,\n",
              "         1.08078884e+00, 8.46617927e+01, 9.00657369e-02, 1.06727898e+02,\n",
              "         1.91029428e+02, 1.16995392e+02, 3.01720219e+01, 1.07448424e+02,\n",
              "         3.70170179e+01, 1.55813725e+01, 5.40394422e-01, 2.15257111e+01,\n",
              "         1.80131474e-01, 5.40394422e-01, 1.15644406e+02, 1.28794004e+01,\n",
              "         1.10960988e+02, 7.19625238e+01, 1.90939362e+01],\n",
              "        [9.04343552e+00, 2.35915709e-01, 3.92406463e+01, 4.08920563e+00,\n",
              "         1.67421515e+02, 7.62794127e+00, 6.36186029e+01, 4.25434662e+01,\n",
              "         2.12324138e+00, 7.86385698e-02, 2.46138723e+01, 7.70657984e+00,\n",
              "         9.43662837e-01, 7.39202556e+01, 7.86385698e-02, 9.31867052e+01,\n",
              "         1.66792406e+02, 1.02151502e+02, 2.63439209e+01, 9.38158137e+01,\n",
              "         3.23204522e+01, 1.36044726e+01, 4.71831419e-01, 1.87946182e+01,\n",
              "         1.57277140e-01, 4.71831419e-01, 1.00971924e+02, 1.12453155e+01,\n",
              "         9.68827179e+01, 6.28322172e+01, 1.66713768e+01],\n",
              "        [5.99834122e+00, 1.56478467e-01, 2.60275849e+01, 2.71229342e+00,\n",
              "         1.11047552e+02, 5.05947042e+00, 4.21970265e+01, 2.82182835e+01,\n",
              "         1.40830620e+00, 5.21594888e-02, 1.63259200e+01, 5.11162991e+00,\n",
              "         6.25913866e-01, 4.90299195e+01, 5.21594888e-02, 6.18089943e+01,\n",
              "         1.10630276e+02, 6.77551760e+01, 1.74734288e+01, 6.22262702e+01,\n",
              "         2.14375499e+01, 9.02359157e+00, 3.12956933e-01, 1.24661178e+01,\n",
              "         1.04318978e-01, 3.12956933e-01, 6.69727837e+01, 7.45880691e+00,\n",
              "         6.42604903e+01, 4.16754316e+01, 1.10578116e+01],\n",
              "        [1.62428580e+01, 4.23726731e-01, 7.04798796e+01, 7.34459667e+00,\n",
              "         3.00704737e+02, 1.37004976e+01, 1.14264975e+02, 7.64120538e+01,\n",
              "         3.81354058e+00, 1.41242244e-01, 4.42088223e+01, 1.38417399e+01,\n",
              "         1.69490692e+00, 1.32767709e+02, 1.41242244e-01, 1.67372059e+02,\n",
              "         2.99574799e+02, 1.83473675e+02, 4.73161516e+01, 1.68501997e+02,\n",
              "         5.80505621e+01, 2.44349082e+01, 8.47453462e-01, 3.37568962e+01,\n",
              "         2.82484487e-01, 8.47453462e-01, 1.81355041e+02, 2.01976408e+01,\n",
              "         1.74010444e+02, 1.12852553e+02, 2.99433557e+01],\n",
              "        [4.73367328e+00, 1.23487129e-01, 2.05400258e+01, 2.14044357e+00,\n",
              "         8.76346993e+01, 3.99275051e+00, 3.33003625e+01, 2.22688456e+01,\n",
              "         1.11138416e+00, 4.11623764e-02, 1.28838238e+01, 4.03391288e+00,\n",
              "         4.93948516e-01, 3.86926338e+01, 4.11623764e-02, 4.87774160e+01,\n",
              "         8.73054003e+01, 5.34699269e+01, 1.37893961e+01, 4.91067150e+01,\n",
              "         1.69177367e+01, 7.12109111e+00, 2.46974258e-01, 9.83780795e+00,\n",
              "         8.23247527e-02, 2.46974258e-01, 5.28524912e+01, 5.88621982e+00,\n",
              "         5.07120477e+01, 3.28887387e+01, 8.72642379e+00]]))"
            ]
          },
          "metadata": {
            "tags": []
          },
          "execution_count": 302
        }
      ]
    },
    {
      "cell_type": "markdown",
      "metadata": {
        "id": "ft3rhxDH4qh_"
      },
      "source": [
        "수치상으로는 관련이 있다고 나오지만 지금은 단종된 플랫폼이 많아서 최신자료로 다시 살펴 보겠습니다."
      ]
    },
    {
      "cell_type": "code",
      "metadata": {
        "colab": {
          "base_uri": "https://localhost:8080/",
          "height": 709
        },
        "id": "Eyp9oq9T8wqE",
        "outputId": "a38874e9-8930-4666-a6fc-b924bf36f1e5"
      },
      "source": [
        "subset2\r\n",
        "import seaborn as sns\r\n",
        "fig = plt.figure(figsize=(15,11))\r\n",
        "chart = sns.scatterplot(x='Platform', y = \"Year\", hue='Platform', data=subset2)\r\n",
        "chart.set_title('Games launched in Platform through time', fontsize=26)\r\n",
        "chart.set_xlabel(\"Platform\", fontsize=16)\r\n",
        "chart.set_ylabel(\"Year\", fontsize=16)"
      ],
      "execution_count": 152,
      "outputs": [
        {
          "output_type": "execute_result",
          "data": {
            "text/plain": [
              "Text(0, 0.5, 'Year')"
            ]
          },
          "metadata": {
            "tags": []
          },
          "execution_count": 152
        },
        {
          "output_type": "display_data",
          "data": {
            "image/png": "[encoded data removed]",
            "text/plain": [
              "<Figure size 1080x792 with 1 Axes>"
            ]
          },
          "metadata": {
            "tags": [],
            "needs_background": "light"
          }
        }
      ]
    },
    {
      "cell_type": "markdown",
      "metadata": {
        "id": "2O3FPtfE0OjP"
      },
      "source": [
        "2015년 이후 자료가 유의미할 것 같아서 최신자료로 잘랐습니다."
      ]
    },
    {
      "cell_type": "code",
      "metadata": {
        "id": "yFyAysZ_uYjk"
      },
      "source": [
        "subset2time =subset2.sort_values(by=\"Year\").tail(959) #2015년~자료"
      ],
      "execution_count": 255,
      "outputs": []
    },
    {
      "cell_type": "code",
      "metadata": {
        "colab": {
          "base_uri": "https://localhost:8080/",
          "height": 437
        },
        "id": "Nv5O1U0iuP4A",
        "outputId": "d4bd265f-18d2-458d-f40b-fa6351142a8f"
      },
      "source": [
        "subset2\r\n",
        "import seaborn as sns\r\n",
        "fig = plt.figure(figsize=(15,6))\r\n",
        "chart = sns.scatterplot(x='Platform', y = \"Year\", hue='Platform', data=subset2time)\r\n",
        "chart.set_title('Games launched in Platform through time', fontsize=26)\r\n",
        "chart.set_xlabel(\"Platform\", fontsize=16)\r\n",
        "chart.set_ylabel(\"Year\", fontsize=16)"
      ],
      "execution_count": 258,
      "outputs": [
        {
          "output_type": "execute_result",
          "data": {
            "text/plain": [
              "Text(0, 0.5, 'Year')"
            ]
          },
          "metadata": {
            "tags": []
          },
          "execution_count": 258
        },
        {
          "output_type": "display_data",
          "data": {
            "image/png": "[encoded data removed]",
            "text/plain": [
              "<Figure size 1080x432 with 1 Axes>"
            ]
          },
          "metadata": {
            "tags": [],
            "needs_background": "light"
          }
        }
      ]
    },
    {
      "cell_type": "markdown",
      "metadata": {
        "id": "hxSRhOrW0Unx"
      },
      "source": [
        "위의 그래프로 봤을 때 플랫폼은 유의미해보이지 않으니 어떤 플랫폼을 선택하든 상관없으나 콘솔게임은 플랫폼의 단종이 되면 새로운 게임이 나오지 않기 때문에 PC나 모바일로도 출시하는 것이 바람직해 보입니다."
      ]
    },
    {
      "cell_type": "markdown",
      "metadata": {
        "id": "kp0L18fp403j"
      },
      "source": [
        "## 정리하자면 다음 분기에 비디오 게임을 개발하게 된다면 북아메리카 지역을 타겟으로, 장르는 Action이나 스포츠, 플랫폼은 상관없지만 PC로도 같이 출시하면 좋을 것 같습니다."
      ]
    }
  ]
}